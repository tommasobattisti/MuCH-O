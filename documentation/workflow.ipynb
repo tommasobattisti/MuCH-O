{
 "cells": [
  {
   "cell_type": "code",
   "execution_count": 1,
   "metadata": {},
   "outputs": [
    {
     "name": "stderr",
     "output_type": "stream",
     "text": [
      "2023-07-22 17:04:06.700024: I tensorflow/core/platform/cpu_feature_guard.cc:193] This TensorFlow binary is optimized with oneAPI Deep Neural Network Library (oneDNN) to use the following CPU instructions in performance-critical operations:  AVX2 FMA\n",
      "To enable them in other operations, rebuild TensorFlow with the appropriate compiler flags.\n",
      "/Library/Frameworks/Python.framework/Versions/3.10/lib/python3.10/site-packages/spacy/util.py:910: UserWarning: [W095] Model 'en_core_web_sm' (3.5.0) was trained with spaCy v3.5 and may not be 100% compatible with the current version (3.6.0). If you see errors or degraded performance, download a newer compatible model or retrain your custom model with the current spaCy version. For more details and available updates, run: python -m spacy validate\n",
      "  warnings.warn(warn_msg)\n",
      "/Library/Frameworks/Python.framework/Versions/3.10/lib/python3.10/site-packages/spacy/util.py:910: UserWarning: [W095] Model 'en_core_web_sm' (3.5.0) was trained with spaCy v3.5 and may not be 100% compatible with the current version (3.6.0). If you see errors or degraded performance, download a newer compatible model or retrain your custom model with the current spaCy version. For more details and available updates, run: python -m spacy validate\n",
      "  warnings.warn(warn_msg)\n"
     ]
    }
   ],
   "source": [
    "import requests, time, re, en_core_web_sm, urllib.parse, musicbrainzngs as mbz, pandas as pd\n",
    "from lyricsgenius import Genius\n",
    "from qwikidata.sparql import return_sparql_query_results\n",
    "from sentence_transformers import SentenceTransformer, util\n",
    "from nltk.tokenize import sent_tokenize\n",
    "from bs4 import BeautifulSoup\n",
    "from nltk.corpus import wordnet as wn\n",
    "from bardapi import Bard\n",
    "\n",
    "from SPARQLWrapper import SPARQLWrapper, JSON\n",
    "\n",
    "model = SentenceTransformer('all-mpnet-base-v2')  # pretrained model for sentence similarity\n",
    "\n",
    "# Load the spacy model that you have installed\n",
    "nlp = en_core_web_sm.load()"
   ]
  },
  {
   "cell_type": "markdown",
   "metadata": {},
   "source": [
    "## 00. Loading keys "
   ]
  },
  {
   "cell_type": "markdown",
   "metadata": {},
   "source": [
    "I import libraries that I will use for retrieving api keys, tokens, etc. from a file that is not in the repository."
   ]
  },
  {
   "cell_type": "code",
   "execution_count": 2,
   "metadata": {},
   "outputs": [
    {
     "data": {
      "text/plain": [
       "True"
      ]
     },
     "execution_count": 2,
     "metadata": {},
     "output_type": "execute_result"
    }
   ],
   "source": [
    "from dotenv import load_dotenv\n",
    "import os\n",
    "\n",
    "load_dotenv()"
   ]
  },
  {
   "cell_type": "markdown",
   "metadata": {},
   "source": [
    "## 01. Loading data"
   ]
  },
  {
   "cell_type": "markdown",
   "metadata": {},
   "source": [
    "### Get data from Spotify API\n",
    "\n",
    "First we set up the API credentials, headers and parameters for the API call."
   ]
  },
  {
   "cell_type": "code",
   "execution_count": 3,
   "metadata": {},
   "outputs": [],
   "source": [
    "data = {\n",
    "    'grant_type': 'client_credentials',\n",
    "    'client_id': os.getenv('SPOTIFY_CLIENT_ID'),\n",
    "    'client_secret': os.getenv('SPOTIFY_CLIENT_SECRET'),\n",
    "}\n",
    "\n",
    "response = requests.post('https://accounts.spotify.com/api/token', data=data).json()\n",
    "\n",
    "token_type = response['token_type']\n",
    "access_token = response['access_token']\n",
    "\n",
    "headers = {\n",
    "    'Authorization': str(token_type) + ' ' + str(access_token),\n",
    "}"
   ]
  },
  {
   "cell_type": "markdown",
   "metadata": {},
   "source": [
    "**Making requests to the Spotify API: seraching for \"Resistance\" by Muse**\n",
    "\n",
    "Thus, I create a dictionary for importing relevant information about the song."
   ]
  },
  {
   "cell_type": "code",
   "execution_count": 4,
   "metadata": {},
   "outputs": [
    {
     "data": {
      "text/plain": [
       "{'spotify_id': '1C2QJNTmsTxCDBuIgai8QV',\n",
       " 'spotify_href': 'https://api.spotify.com/v1/tracks/1C2QJNTmsTxCDBuIgai8QV',\n",
       " 'name': 'Resistance',\n",
       " 'artists': [{'spotify_id': '12Chz98pHFMPJEknJQMWvI',\n",
       "   'spotify_href': 'https://api.spotify.com/v1/artists/12Chz98pHFMPJEknJQMWvI',\n",
       "   'name': 'Muse',\n",
       "   'genres': ['modern rock', 'permanent wave', 'rock']}],\n",
       " 'isrc': 'GBAHT0900321'}"
      ]
     },
     "execution_count": 4,
     "metadata": {},
     "output_type": "execute_result"
    }
   ],
   "source": [
    "track_id = '1C2QJNTmsTxCDBuIgai8QV'\n",
    "get_song = requests.get('https://api.spotify.com/v1/tracks/'+track_id, headers=headers).json()\n",
    "\n",
    "song = {}\n",
    "\n",
    "song['spotify_id'] = get_song['id']\n",
    "song['spotify_href'] = get_song['href']\n",
    "song['name'] = get_song['name']\n",
    "song['artists'] = []\n",
    "for artist in get_song['artists']:\n",
    "    artist_dict = {}\n",
    "    artist_dict['spotify_id'] = artist['id']\n",
    "    artist_dict['spotify_href'] = artist['href']\n",
    "    artist_dict['name'] = artist['name']\n",
    "    get_art = requests.get('https://api.spotify.com/v1/artists/'+artist['id'], headers=headers).json()\n",
    "    artist_dict['genres'] = get_art['genres']\n",
    "    song['artists'].append(artist_dict)\n",
    "song['isrc'] = get_song['external_ids']['isrc']\n",
    "\n",
    "\n",
    "\n",
    "song"
   ]
  },
  {
   "cell_type": "markdown",
   "metadata": {},
   "source": [
    "### Import data from Genius\n",
    "\n",
    "Now we are ready for retrieving information about lyrics and annotations/interpretations from Genius. I will use the Genius API for this purpose. I will create an instance of Genius class where I specify my access token and then I will make requests to the API to retrieve the information I need."
   ]
  },
  {
   "cell_type": "markdown",
   "metadata": {},
   "source": [
    "Firstly I set the needed information for the API call. Then, I can make the request to the API and retrieve the information I need, firstly adding the genius id to the song dictionary and then adding the lyrics and annotations."
   ]
  },
  {
   "cell_type": "code",
   "execution_count": 5,
   "metadata": {},
   "outputs": [
    {
     "name": "stdout",
     "output_type": "stream",
     "text": [
      "Searching for \"Resistance\" by Muse...\n",
      "Done.\n"
     ]
    }
   ],
   "source": [
    "genius = Genius(os.getenv('GENIUS_ACCESS_TOKEN'))\n",
    "\n",
    "genius_track_info = genius.search_song(song['name'], song['artists'][0]['name']) \n",
    "song['genius_id'] = genius_track_info.id\n",
    "song['genius_url'] = genius_track_info.url"
   ]
  },
  {
   "cell_type": "markdown",
   "metadata": {},
   "source": [
    "I make a list for comments and a list for annotations. I also extract the lyrics."
   ]
  },
  {
   "cell_type": "code",
   "execution_count": 6,
   "metadata": {},
   "outputs": [],
   "source": [
    "comment_list = []\n",
    "annotation_list = []\n",
    "\n",
    "for comment in genius.song_comments(song['genius_id'])['comments']:\n",
    "    comment_list.append(comment['body']['plain'])\n",
    "song['comments'] = comment_list\n",
    "\n",
    "to_process = genius.song_annotations(song['genius_id'])\n",
    "for tup in to_process:\n",
    "    new_tup = (tup[0], tup[1][0][0])\n",
    "    annotation_list.append(new_tup)\n",
    "song['annotations'] = annotation_list\n",
    "song['lyrics'] = re.sub(r'[0-9]+\\sContributors.+\\sLyrics\\n', '', genius.lyrics(song['genius_id'], remove_section_headers=True)) # remove the header that says how many contributors there are"
   ]
  },
  {
   "cell_type": "markdown",
   "metadata": {},
   "source": [
    "Thus I search for additional song's info and add to my song dictionary the Genius description.\n",
    "\n",
    "Now the dictionary starts to be quite complete. The next step is to see if MusicBrainz has some additional information about the song that we can potentially use."
   ]
  },
  {
   "cell_type": "code",
   "execution_count": 7,
   "metadata": {},
   "outputs": [
    {
     "data": {
      "text/plain": [
       "{'spotify_id': '1C2QJNTmsTxCDBuIgai8QV',\n",
       " 'spotify_href': 'https://api.spotify.com/v1/tracks/1C2QJNTmsTxCDBuIgai8QV',\n",
       " 'name': 'Resistance',\n",
       " 'artists': [{'spotify_id': '12Chz98pHFMPJEknJQMWvI',\n",
       "   'spotify_href': 'https://api.spotify.com/v1/artists/12Chz98pHFMPJEknJQMWvI',\n",
       "   'name': 'Muse',\n",
       "   'genres': ['modern rock', 'permanent wave', 'rock']}],\n",
       " 'isrc': 'GBAHT0900321',\n",
       " 'genius_id': 54137,\n",
       " 'genius_url': 'https://genius.com/Muse-resistance-lyrics',\n",
       " 'comments': ['You can’t forget to mention that the ENTIRE Resistance album is inspired by George Orwell’s novel, Nineteen Eighty-Four. The band’s talked about that a few times, and the idea is essential to understanding the lyrics in full.',\n",
       "  'favorite muse song',\n",
       "  'I know what this song is about but still, it’s such a lgbtq+ anthem!!',\n",
       "  'Love Rock On The Way\\nI Ago To You GO DUCK',\n",
       "  'GAY ANTHEM FR'],\n",
       " 'annotations': [('Hold me\\n Our lips must always be sealed',\n",
       "   'He wants from the significant other not to let him go.\\n\\nLips being sealed can be interpreted in two ways: one, they should be always ‘that’ close and two, they should never utter a word to anybody about each other.\\nIn 1984, they have to ‘keep their lips sealed’ i.e. keep their romance a secret, as love is considered a crime in the novel’s world. If the government found out about them, they would be punished, as specified in the verses.'),\n",
       "  ('The night has reached its end\\n We can’t pretend\\n We must run\\n We must run\\n It’s time to run\\n Take us away from here\\n Protect us from further harm\\n Resistance',\n",
       "   'Metaphorically, it’s at night when we are safe, when we can do secret things. When the night ends, everybody can see us, so “we can’t pretend”. The only thing we can do is to run, and think that someone or something will save us.\\n\\nAs this song and the whole album are influenced by 1984, we all know (spoiler alert!) that although they run and ask to be saved, they won’t be protected from harm.'),\n",
       "  ('If we live a life in fear\\n I’ll wait a thousand years\\n Just to see you smile again',\n",
       "   'In Orwell’s 1984, Winston and Julia cannot show any public signs of their relationship lest it be discovered by the Party; even a stray smile from Julia in public could lead to discovery and torture at the hands of the Party.'),\n",
       "  ('It could be wrong, could be wrong, it can never last\\n It could be wrong, could be wrong, must erase it fast\\n It could be wrong, could be wrong, but it could have been right\\n It could be wrong, could be...',\n",
       "   'Winston and Julia are surely going to be arrested by the Ministry of Love for their secret love. They are bound to be broken apart. They cannot have a romantic relationship in the world of “1984”, where love is a crime, like we who live in a normal world and expect love to last forever. Any evidence of Winston and Julia meeting in secret and having a love affair must be concealed or erased.'),\n",
       "  ('Kill your prayers for love and peace\\n You’ll wake the Thought Police\\n We can’t hide the truth inside',\n",
       "   'George Orwell’s 1984 contains a secret police known as the ‘Thought Police’ whose job was to prevent ‘thinkcrime’, more commonly ‘thoughtcrime’, which was simply any thought or action the totalitarian English Socialism, more commonly ‘Ingsoc’, Party did not approve of, such of love or political interest. Orwell described your only free space as “the few cubic inches inside your skull”, which is the only place what one would consider ‘the truth’ could be hidden. In this case, and throughout the album, Bellamy compares life in today’s capitalist world as very similar to Orwell’s dystopian Oceania, Eastasia or of course, Eurasia.\\n\\nIt’s important to notice that Bellamy isn’t an outright anti-capitalist (he defined himself as a left-leaning libertarian), although The Resistance as an album undoubtedly has themes against the wealthy and the privileged.\\n\\n\\n\\nIn addition, in a clever wordplay Bellamy mentions here three of the orwellian ministries: Love, Peace and Truth.'),\n",
       "  ('Love is our resistance',\n",
       "   'Winston is a diligent worker for the Party while Julia appears a fervent advocate for the Party’s activities and doctrines, but secretly they hate the Party and dream to rebel. Love, a crime in Oceania, is an act of rebellion against the Party, showing that they do not believe in the Party’s lies to control its people.\\n\\nJulia also makes clear that showing her affection for Winston is a highly effective form of protesting against the Party’s disapproval of sexual relationships.'),\n",
       "  ('It could be wrong, could be wrong, are we digging a hole?\\n It could be wrong, could be wrong, this is out of control',\n",
       "   'As party members, to have a love affair is a serious crime. They are eventually going to get caught and tortured to death in the Ministry of Love (which oversees brainwashing and torture). It’s only a matter of time. Winston and Julia are digging their own graves to fall in love, but they can’t control their love and desire.'),\n",
       "  ('It could be wrong, could be wrong, but it should have been right\\n It could be wrong, could be wrong, to let our hearts ignite',\n",
       "   'It should have been okay for us to fall in love, but it’s too dangerous in the oppressive world we live in. In 1984, passion and love are considered forms of censored thought that would have been punished. They should have the freedom to love each other, but they do not.'),\n",
       "  ('Or will the walls start caving in?',\n",
       "   'If a ceiling, roof or other structure caves in, it breaks and falls into the space below.\\nThis is just figuratively implying their worries that their hiding place may be exposed and they may get arrested for romantic love, which is a crime in the world of “1984”.'),\n",
       "  ('Is our secret safe tonight?\\n And are we out of sight?\\n Or will our world come tumbling down?\\n Will they find our hiding place?\\n Is this our last embrace?',\n",
       "   'In 1984, Winston and Julia have a secret rendezvous in a rented room of an antique shop, where there are no “telescreens” for surveillance such that their secret love affair may be hidden from the authorities. They live in fear that the Party may find out about their love and have them punished.')],\n",
       " 'lyrics': \"Is our secret safe tonight?\\nAnd are we out of sight?\\nOr will our world come tumbling down?\\nWill they find our hiding place?\\nIs this our last embrace?\\nOr will the walls start caving in?\\n\\nIt could be wrong, could be wrong, but it should have been right\\nIt could be wrong, could be wrong, to let our hearts ignite\\nIt could be wrong, could be wrong, are we digging a hole?\\nIt could be wrong, could be wrong, this is out of control\\nIt could be wrong, could be wrong, it can never last\\nIt could be wrong, could be wrong, must erase it fast\\nIt could be wrong, could be wrong, but it could have been right\\nIt could be wrong, could be...\\n\\nLove is our resistance\\nThey'll keep us apart and they won't stop breaking us down\\nHold me\\nOur lips must always be sealed\\n\\nIf we live a life in fear\\nI'll wait a thousand years\\nJust to see you smile again\\nKill your prayers for love and peace\\nYou'll wake the Thought Police\\nWe can't hide the truth inside\\nYou might also like\\nIt could be wrong, could be wrong, but it should have been right\\nIt could be wrong, could be wrong, to let our hearts ignite\\nIt could be wrong, could be wrong, are we digging a hole?\\nIt could be wrong, could be wrong, this is out of control\\nIt could be wrong, could be wrong, it can never last\\nIt could be wrong, could be wrong, must erase it fast\\nIt could be wrong, could be wrong, but it could have been right\\nIt could be wrong, could be...\\n\\nLove is our resistance\\nThey'll keep us apart and they won't stop breaking us down\\nHold me\\nOur lips must always be sealed\\n\\nThe night has reached its end\\nWe can't pretend\\nWe must run\\nWe must run\\nIt's time to run\\nTake us away from here\\nProtect us from further harm\\nResistance16Embed\",\n",
       " 'genius_description': 'The title track of Muse’s 2009 album, The Resistance. In the September 2009 issue of Spin, Matt said: It is very much based on the book ‘1984’ by George Orwell particularly the romance between Winston and Julia and the description of the act of sex and love as something political, the only place offering freedom from Big Brother. The song is also about any love which crosses boundaries such as religion or strong political beliefs and the subsequent recognition of the unimportance and divisiveness of such beliefs. 1984 is fear utopia about technological harm.'}"
      ]
     },
     "execution_count": 7,
     "metadata": {},
     "output_type": "execute_result"
    }
   ],
   "source": [
    "si = genius.song(song['genius_id'])\n",
    "song['genius_description'] = si['song']['description']['plain'].replace('\\n\\n', ' ').replace('\\n', ' ')\n",
    "\n",
    "song"
   ]
  },
  {
   "cell_type": "markdown",
   "metadata": {},
   "source": [
    "### Import data from MusicBrainz\n",
    "\n",
    "We use the MusicBrainz API to check if we have interesting information to include in our song dictionary."
   ]
  },
  {
   "cell_type": "markdown",
   "metadata": {},
   "source": [
    "Firstly, I set the usual information including username and API key. i also set the useragent adding an optional contance mail."
   ]
  },
  {
   "cell_type": "code",
   "execution_count": 8,
   "metadata": {},
   "outputs": [],
   "source": [
    "mbz.set_useragent(\"topic-box\", 0.1)\n",
    "mbz.auth(os.getenv('MUSICBRAINZ_USER'), os.getenv('MUSICBRAINZ_TOKEN'))"
   ]
  },
  {
   "cell_type": "markdown",
   "metadata": {},
   "source": [
    "I can now search for data related to my song's recording on the basis of the ISRC (International Standard Recording Code) code previously retrieved from Spotify."
   ]
  },
  {
   "cell_type": "code",
   "execution_count": 9,
   "metadata": {},
   "outputs": [
    {
     "data": {
      "text/plain": [
       "{'isrc': {'id': 'GBAHT0900321',\n",
       "  'recording-list': [{'id': '09595161-717b-4ec5-94d1-9040aab8aae4',\n",
       "    'title': 'Resistance',\n",
       "    'length': '346693'}],\n",
       "  'recording-count': 1}}"
      ]
     },
     "execution_count": 9,
     "metadata": {},
     "output_type": "execute_result"
    }
   ],
   "source": [
    "song_rec = mbz.get_recordings_by_isrc(song['isrc'])\n",
    "song_rec"
   ]
  },
  {
   "cell_type": "markdown",
   "metadata": {},
   "source": [
    "From the many possible values I can specify for retrieving information, I chose to retrieve only the specificed ones using the function `get_recording_by_id`. Further specification can be found on the [official documentation](https://python-musicbrainzngs.readthedocs.io/en/v0.7.1/api/#getting-data) of the Python library for querying the MusicBrainz API.\n",
    "\n",
    "Non-included values for retieving additional information are: 'aliases', 'instrument-rels', 'area-rels', 'discids', 'ratings', 'user-ratings', 'releases', 'media'."
   ]
  },
  {
   "cell_type": "code",
   "execution_count": 10,
   "metadata": {},
   "outputs": [
    {
     "data": {
      "text/plain": [
       "{'recording': {'id': '09595161-717b-4ec5-94d1-9040aab8aae4',\n",
       "  'title': 'Resistance',\n",
       "  'length': '346693',\n",
       "  'artist-credit': [{'artist': {'id': '9c9f1380-2516-4fc9-a3e6-f9f61941d090',\n",
       "     'type': 'Group',\n",
       "     'name': 'Muse',\n",
       "     'sort-name': 'Muse',\n",
       "     'disambiguation': 'UK rock band',\n",
       "     'tag-list': [{'count': '1', 'name': 'alternative dance'},\n",
       "      {'count': '17', 'name': 'alternative rock'},\n",
       "      {'count': '1', 'name': 'anthemic'},\n",
       "      {'count': '1', 'name': 'anxious'},\n",
       "      {'count': '7', 'name': 'british'},\n",
       "      {'count': '1', 'name': 'eclectic'},\n",
       "      {'count': '1', 'name': 'electronic'},\n",
       "      {'count': '1', 'name': 'england'},\n",
       "      {'count': '2', 'name': 'english'},\n",
       "      {'count': '1', 'name': 'funk rock'},\n",
       "      {'count': '1', 'name': 'funky'},\n",
       "      {'count': '1', 'name': 'groovy'},\n",
       "      {'count': '1', 'name': 'indie rock'},\n",
       "      {'count': '1', 'name': 'melodic'},\n",
       "      {'count': '1', 'name': 'muse'},\n",
       "      {'count': '1', 'name': 'new prog'},\n",
       "      {'count': '1', 'name': 'political'},\n",
       "      {'count': '2', 'name': 'pop rock'},\n",
       "      {'count': '1', 'name': 'prog related'},\n",
       "      {'count': '5', 'name': 'progressive rock'},\n",
       "      {'count': '13', 'name': 'rock'},\n",
       "      {'count': '1', 'name': 'science fiction'},\n",
       "      {'count': '1', 'name': 'space'},\n",
       "      {'count': '4', 'name': 'symphonic rock'},\n",
       "      {'count': '1', 'name': 'synthpop'},\n",
       "      {'count': '8', 'name': 'uk'},\n",
       "      {'count': '1', 'name': 'united kingdom'}]}}],\n",
       "  'isrc-list': ['GBAHT0900321', 'GBAYE1500865'],\n",
       "  'isrc-count': 2,\n",
       "  'artist-relation-list': [{'type': 'engineer',\n",
       "    'type-id': '5dcc52af-7064-4051-8d62-7d80f4c3c907',\n",
       "    'target': '7196ec86-bf2a-4055-a241-c0fb95e9376e',\n",
       "    'direction': 'backward',\n",
       "    'artist': {'id': '7196ec86-bf2a-4055-a241-c0fb95e9376e',\n",
       "     'type': 'Person',\n",
       "     'name': 'Adrian Bushby',\n",
       "     'sort-name': 'Bushby, Adrian'}},\n",
       "   {'type': 'mix',\n",
       "    'type-id': '3e3102e1-1896-4f50-b5b2-dd9824e46efe',\n",
       "    'target': '141ec521-1e17-4807-9eec-a6f3c9f6f5bd',\n",
       "    'direction': 'backward',\n",
       "    'artist': {'id': '141ec521-1e17-4807-9eec-a6f3c9f6f5bd',\n",
       "     'type': 'Person',\n",
       "     'name': 'Mark “Spike” Stent',\n",
       "     'sort-name': 'Stent, Mark “Spike”',\n",
       "     'disambiguation': 'producer, engineer'}},\n",
       "   {'type': 'producer',\n",
       "    'type-id': '5c0ceac3-feb4-41f0-868d-dc06f6e27fc0',\n",
       "    'target': '9c9f1380-2516-4fc9-a3e6-f9f61941d090',\n",
       "    'direction': 'backward',\n",
       "    'artist': {'id': '9c9f1380-2516-4fc9-a3e6-f9f61941d090',\n",
       "     'type': 'Group',\n",
       "     'name': 'Muse',\n",
       "     'sort-name': 'Muse',\n",
       "     'disambiguation': 'UK rock band'}},\n",
       "   {'type': 'vocal',\n",
       "    'type-id': '0fdbe3c6-7700-4a31-ae54-b53f06ae1cfa',\n",
       "    'target': '00fc124e-6645-4530-8d0b-7def83c5ee25',\n",
       "    'direction': 'backward',\n",
       "    'attribute-list': ['lead vocals'],\n",
       "    'artist': {'id': '00fc124e-6645-4530-8d0b-7def83c5ee25',\n",
       "     'type': 'Person',\n",
       "     'name': 'Matt Bellamy',\n",
       "     'sort-name': 'Bellamy, Matt',\n",
       "     'disambiguation': 'Muse vocalist'},\n",
       "    'attributes': [{'type-id': '8e2a3255-87c2-4809-a174-98cb3704f1a5',\n",
       "      'attribute': 'lead vocals'}]}],\n",
       "  'work-relation-list': [{'type': 'performance',\n",
       "    'type-id': 'a3005666-a872-32c3-ad06-98af558e99b0',\n",
       "    'target': '96470b3b-5173-3088-b296-be813792ed7a',\n",
       "    'direction': 'forward',\n",
       "    'work': {'id': '96470b3b-5173-3088-b296-be813792ed7a',\n",
       "     'type': 'Song',\n",
       "     'title': 'Resistance',\n",
       "     'language': 'eng',\n",
       "     'iswc': 'T-902.810.172-6',\n",
       "     'iswc-list': ['T-902.810.172-6'],\n",
       "     'artist-relation-list': [{'type': 'composer',\n",
       "       'type-id': 'd59d99ea-23d4-4a80-b066-edca32ee158f',\n",
       "       'target': '00fc124e-6645-4530-8d0b-7def83c5ee25',\n",
       "       'direction': 'backward',\n",
       "       'artist': {'id': '00fc124e-6645-4530-8d0b-7def83c5ee25',\n",
       "        'type': 'Person',\n",
       "        'name': 'Matt Bellamy',\n",
       "        'sort-name': 'Bellamy, Matt',\n",
       "        'disambiguation': 'Muse vocalist'}},\n",
       "      {'type': 'lyricist',\n",
       "       'type-id': '3e48faba-ec01-47fd-8e89-30e81161661c',\n",
       "       'target': '00fc124e-6645-4530-8d0b-7def83c5ee25',\n",
       "       'direction': 'backward',\n",
       "       'artist': {'id': '00fc124e-6645-4530-8d0b-7def83c5ee25',\n",
       "        'type': 'Person',\n",
       "        'name': 'Matt Bellamy',\n",
       "        'sort-name': 'Bellamy, Matt',\n",
       "        'disambiguation': 'Muse vocalist'}}],\n",
       "     'label-relation-list': [{'type': 'publishing',\n",
       "       'type-id': '05ee6f18-4517-342d-afdf-5897f64276e3',\n",
       "       'target': 'ff34ece2-8a3c-45f8-81c9-2f8d9072adf3',\n",
       "       'direction': 'backward',\n",
       "       'label': {'id': 'ff34ece2-8a3c-45f8-81c9-2f8d9072adf3',\n",
       "        'type': 'Publisher',\n",
       "        'name': 'Loosechord Limited (PRS)',\n",
       "        'sort-name': 'Loosechord Limited (PRS)'}},\n",
       "      {'type': 'publishing',\n",
       "       'type-id': '05ee6f18-4517-342d-afdf-5897f64276e3',\n",
       "       'target': '36d4ac45-3b5b-4894-bcfc-25989a9b6006',\n",
       "       'direction': 'backward',\n",
       "       'label': {'id': '36d4ac45-3b5b-4894-bcfc-25989a9b6006',\n",
       "        'type': 'Publisher',\n",
       "        'name': 'Warner/Chappell Music Ltd.',\n",
       "        'sort-name': 'Warner/Chappell Music Ltd.',\n",
       "        'disambiguation': '1996–2019'}}],\n",
       "     'url-relation-list': [{'type': 'lyrics',\n",
       "       'type-id': 'e38e65aa-75e0-42ba-ace0-072aeb91a538',\n",
       "       'target': 'https://genius.com/Muse-resistance-lyrics',\n",
       "       'direction': 'backward'}]}}],\n",
       "  'tag-list': [{'count': '6', 'name': 'alternative rock'},\n",
       "   {'count': '1', 'name': 'liste de courses jpn'},\n",
       "   {'count': '1', 'name': 'progressive rock'},\n",
       "   {'count': '3', 'name': 'rock'}],\n",
       "  'artist-credit-phrase': 'Muse'}}"
      ]
     },
     "execution_count": 10,
     "metadata": {},
     "output_type": "execute_result"
    }
   ],
   "source": [
    "sr = mbz.get_recording_by_id(song_rec['isrc']['recording-list'][0]['id'], includes=['artists', 'artist-credits', 'isrcs','work-level-rels', 'annotation', 'tags', 'user-tags', 'artist-rels', 'label-rels', 'place-rels', 'event-rels', 'recording-rels', 'release-rels', 'release-group-rels', 'series-rels', 'url-rels', 'work-rels'])\n",
    "song['musicbrainz_id'] = sr['recording']['id']\n",
    "sr "
   ]
  },
  {
   "cell_type": "markdown",
   "metadata": {},
   "source": [
    "In this way I cann add additional keys to my song dictionary, especially about the artists for disambiguation.\n",
    "\n",
    "I also add relavant tags related to the artists in order to gat a better understanding of the song mood and genre."
   ]
  },
  {
   "cell_type": "code",
   "execution_count": 11,
   "metadata": {},
   "outputs": [
    {
     "data": {
      "text/plain": [
       "{'spotify_id': '1C2QJNTmsTxCDBuIgai8QV',\n",
       " 'spotify_href': 'https://api.spotify.com/v1/tracks/1C2QJNTmsTxCDBuIgai8QV',\n",
       " 'name': 'Resistance',\n",
       " 'artists': [{'spotify_id': '12Chz98pHFMPJEknJQMWvI',\n",
       "   'spotify_href': 'https://api.spotify.com/v1/artists/12Chz98pHFMPJEknJQMWvI',\n",
       "   'name': 'Muse',\n",
       "   'genres': ['modern rock', 'permanent wave', 'rock'],\n",
       "   'disambiguation': 'UK rock band',\n",
       "   'mbz_id': '9c9f1380-2516-4fc9-a3e6-f9f61941d090',\n",
       "   'mbz_tags': {'alternative dance': '1',\n",
       "    'alternative rock': '17',\n",
       "    'anthemic': '1',\n",
       "    'anxious': '1',\n",
       "    'british': '7',\n",
       "    'eclectic': '1',\n",
       "    'electronic': '1',\n",
       "    'england': '1',\n",
       "    'english': '2',\n",
       "    'funk rock': '1',\n",
       "    'funky': '1',\n",
       "    'groovy': '1',\n",
       "    'indie rock': '1',\n",
       "    'melodic': '1',\n",
       "    'muse': '1',\n",
       "    'new prog': '1',\n",
       "    'political': '1',\n",
       "    'pop rock': '2',\n",
       "    'prog related': '1',\n",
       "    'progressive rock': '5',\n",
       "    'rock': '13',\n",
       "    'science fiction': '1',\n",
       "    'space': '1',\n",
       "    'symphonic rock': '4',\n",
       "    'synthpop': '1',\n",
       "    'uk': '8',\n",
       "    'united kingdom': '1'}}],\n",
       " 'isrc': 'GBAHT0900321',\n",
       " 'genius_id': 54137,\n",
       " 'genius_url': 'https://genius.com/Muse-resistance-lyrics',\n",
       " 'comments': ['You can’t forget to mention that the ENTIRE Resistance album is inspired by George Orwell’s novel, Nineteen Eighty-Four. The band’s talked about that a few times, and the idea is essential to understanding the lyrics in full.',\n",
       "  'favorite muse song',\n",
       "  'I know what this song is about but still, it’s such a lgbtq+ anthem!!',\n",
       "  'Love Rock On The Way\\nI Ago To You GO DUCK',\n",
       "  'GAY ANTHEM FR'],\n",
       " 'annotations': [('Hold me\\n Our lips must always be sealed',\n",
       "   'He wants from the significant other not to let him go.\\n\\nLips being sealed can be interpreted in two ways: one, they should be always ‘that’ close and two, they should never utter a word to anybody about each other.\\nIn 1984, they have to ‘keep their lips sealed’ i.e. keep their romance a secret, as love is considered a crime in the novel’s world. If the government found out about them, they would be punished, as specified in the verses.'),\n",
       "  ('The night has reached its end\\n We can’t pretend\\n We must run\\n We must run\\n It’s time to run\\n Take us away from here\\n Protect us from further harm\\n Resistance',\n",
       "   'Metaphorically, it’s at night when we are safe, when we can do secret things. When the night ends, everybody can see us, so “we can’t pretend”. The only thing we can do is to run, and think that someone or something will save us.\\n\\nAs this song and the whole album are influenced by 1984, we all know (spoiler alert!) that although they run and ask to be saved, they won’t be protected from harm.'),\n",
       "  ('If we live a life in fear\\n I’ll wait a thousand years\\n Just to see you smile again',\n",
       "   'In Orwell’s 1984, Winston and Julia cannot show any public signs of their relationship lest it be discovered by the Party; even a stray smile from Julia in public could lead to discovery and torture at the hands of the Party.'),\n",
       "  ('It could be wrong, could be wrong, it can never last\\n It could be wrong, could be wrong, must erase it fast\\n It could be wrong, could be wrong, but it could have been right\\n It could be wrong, could be...',\n",
       "   'Winston and Julia are surely going to be arrested by the Ministry of Love for their secret love. They are bound to be broken apart. They cannot have a romantic relationship in the world of “1984”, where love is a crime, like we who live in a normal world and expect love to last forever. Any evidence of Winston and Julia meeting in secret and having a love affair must be concealed or erased.'),\n",
       "  ('Kill your prayers for love and peace\\n You’ll wake the Thought Police\\n We can’t hide the truth inside',\n",
       "   'George Orwell’s 1984 contains a secret police known as the ‘Thought Police’ whose job was to prevent ‘thinkcrime’, more commonly ‘thoughtcrime’, which was simply any thought or action the totalitarian English Socialism, more commonly ‘Ingsoc’, Party did not approve of, such of love or political interest. Orwell described your only free space as “the few cubic inches inside your skull”, which is the only place what one would consider ‘the truth’ could be hidden. In this case, and throughout the album, Bellamy compares life in today’s capitalist world as very similar to Orwell’s dystopian Oceania, Eastasia or of course, Eurasia.\\n\\nIt’s important to notice that Bellamy isn’t an outright anti-capitalist (he defined himself as a left-leaning libertarian), although The Resistance as an album undoubtedly has themes against the wealthy and the privileged.\\n\\n\\n\\nIn addition, in a clever wordplay Bellamy mentions here three of the orwellian ministries: Love, Peace and Truth.'),\n",
       "  ('Love is our resistance',\n",
       "   'Winston is a diligent worker for the Party while Julia appears a fervent advocate for the Party’s activities and doctrines, but secretly they hate the Party and dream to rebel. Love, a crime in Oceania, is an act of rebellion against the Party, showing that they do not believe in the Party’s lies to control its people.\\n\\nJulia also makes clear that showing her affection for Winston is a highly effective form of protesting against the Party’s disapproval of sexual relationships.'),\n",
       "  ('It could be wrong, could be wrong, are we digging a hole?\\n It could be wrong, could be wrong, this is out of control',\n",
       "   'As party members, to have a love affair is a serious crime. They are eventually going to get caught and tortured to death in the Ministry of Love (which oversees brainwashing and torture). It’s only a matter of time. Winston and Julia are digging their own graves to fall in love, but they can’t control their love and desire.'),\n",
       "  ('It could be wrong, could be wrong, but it should have been right\\n It could be wrong, could be wrong, to let our hearts ignite',\n",
       "   'It should have been okay for us to fall in love, but it’s too dangerous in the oppressive world we live in. In 1984, passion and love are considered forms of censored thought that would have been punished. They should have the freedom to love each other, but they do not.'),\n",
       "  ('Or will the walls start caving in?',\n",
       "   'If a ceiling, roof or other structure caves in, it breaks and falls into the space below.\\nThis is just figuratively implying their worries that their hiding place may be exposed and they may get arrested for romantic love, which is a crime in the world of “1984”.'),\n",
       "  ('Is our secret safe tonight?\\n And are we out of sight?\\n Or will our world come tumbling down?\\n Will they find our hiding place?\\n Is this our last embrace?',\n",
       "   'In 1984, Winston and Julia have a secret rendezvous in a rented room of an antique shop, where there are no “telescreens” for surveillance such that their secret love affair may be hidden from the authorities. They live in fear that the Party may find out about their love and have them punished.')],\n",
       " 'lyrics': \"Is our secret safe tonight?\\nAnd are we out of sight?\\nOr will our world come tumbling down?\\nWill they find our hiding place?\\nIs this our last embrace?\\nOr will the walls start caving in?\\n\\nIt could be wrong, could be wrong, but it should have been right\\nIt could be wrong, could be wrong, to let our hearts ignite\\nIt could be wrong, could be wrong, are we digging a hole?\\nIt could be wrong, could be wrong, this is out of control\\nIt could be wrong, could be wrong, it can never last\\nIt could be wrong, could be wrong, must erase it fast\\nIt could be wrong, could be wrong, but it could have been right\\nIt could be wrong, could be...\\n\\nLove is our resistance\\nThey'll keep us apart and they won't stop breaking us down\\nHold me\\nOur lips must always be sealed\\n\\nIf we live a life in fear\\nI'll wait a thousand years\\nJust to see you smile again\\nKill your prayers for love and peace\\nYou'll wake the Thought Police\\nWe can't hide the truth inside\\nYou might also like\\nIt could be wrong, could be wrong, but it should have been right\\nIt could be wrong, could be wrong, to let our hearts ignite\\nIt could be wrong, could be wrong, are we digging a hole?\\nIt could be wrong, could be wrong, this is out of control\\nIt could be wrong, could be wrong, it can never last\\nIt could be wrong, could be wrong, must erase it fast\\nIt could be wrong, could be wrong, but it could have been right\\nIt could be wrong, could be...\\n\\nLove is our resistance\\nThey'll keep us apart and they won't stop breaking us down\\nHold me\\nOur lips must always be sealed\\n\\nThe night has reached its end\\nWe can't pretend\\nWe must run\\nWe must run\\nIt's time to run\\nTake us away from here\\nProtect us from further harm\\nResistance16Embed\",\n",
       " 'genius_description': 'The title track of Muse’s 2009 album, The Resistance. In the September 2009 issue of Spin, Matt said: It is very much based on the book ‘1984’ by George Orwell particularly the romance between Winston and Julia and the description of the act of sex and love as something political, the only place offering freedom from Big Brother. The song is also about any love which crosses boundaries such as religion or strong political beliefs and the subsequent recognition of the unimportance and divisiveness of such beliefs. 1984 is fear utopia about technological harm.',\n",
       " 'musicbrainz_id': '09595161-717b-4ec5-94d1-9040aab8aae4'}"
      ]
     },
     "execution_count": 11,
     "metadata": {},
     "output_type": "execute_result"
    }
   ],
   "source": [
    "#for every artist in both dictionaries add dismabiguation and mbz ids\n",
    "for art in song['artists']: #for every artist in the song_ditionary\n",
    "    for mbz_art in sr['recording']['artist-credit']:   #for every artist in the mbz dictionary\n",
    "        if art['name'] == mbz_art['artist']['name']:   #if the name of the artist in the song dictionary is the same as the name of the artist in the mbz dictionary\n",
    "            art['disambiguation'] = mbz_art['artist']['disambiguation'] #add the disambiguation to the song dictionary\n",
    "            art['mbz_id'] = mbz_art['artist']['id'] #add the mbz id to the song dictionary\n",
    "            art['mbz_tags'] = {}\n",
    "            for tag in mbz_art['artist']['tag-list']: #for every tag in the mbz dictionary\n",
    "                art['mbz_tags'][tag['name']] = tag['count'] #add the tag name and the tag count to the song dictionary\n",
    "\n",
    "song"
   ]
  },
  {
   "cell_type": "markdown",
   "metadata": {},
   "source": [
    "I also want to add the link to wikidata (if existent) for the artists and some other infromation relevant to populate the KG in the future."
   ]
  },
  {
   "cell_type": "code",
   "execution_count": 12,
   "metadata": {},
   "outputs": [
    {
     "data": {
      "text/plain": [
       "{'artist': {'id': '9c9f1380-2516-4fc9-a3e6-f9f61941d090',\n",
       "  'type': 'Group',\n",
       "  'name': 'Muse',\n",
       "  'sort-name': 'Muse',\n",
       "  'disambiguation': 'UK rock band',\n",
       "  'isni-list': ['0000000122708200'],\n",
       "  'country': 'GB',\n",
       "  'area': {'id': '8a754a16-0027-3a29-b6d7-2b40ea0481ed',\n",
       "   'name': 'United Kingdom',\n",
       "   'sort-name': 'United Kingdom',\n",
       "   'iso-3166-1-code-list': ['GB']},\n",
       "  'begin-area': {'id': '86d2134f-d94d-4bf4-b89d-133280df1d30',\n",
       "   'name': 'Teignmouth',\n",
       "   'sort-name': 'Teignmouth'},\n",
       "  'life-span': {'begin': '1994'},\n",
       "  'url-relation-list': [{'type': 'allmusic',\n",
       "    'type-id': '6b3e3c85-0002-4f34-aca6-80ace0d7e846',\n",
       "    'target': 'https://www.allmusic.com/artist/mn0000514563',\n",
       "    'direction': 'forward'},\n",
       "   {'type': 'bandsintown',\n",
       "    'type-id': 'ea45ed3d-2d5e-456e-8c32-94b6f51426e2',\n",
       "    'target': 'https://www.bandsintown.com/a/143',\n",
       "    'direction': 'forward'},\n",
       "   {'type': 'BBC Music page',\n",
       "    'type-id': 'd028a975-000c-4525-9333-d3c8425e4b54',\n",
       "    'target': 'https://www.bbc.co.uk/music/artists/9c9f1380-2516-4fc9-a3e6-f9f61941d090',\n",
       "    'direction': 'forward',\n",
       "    'end': '2020-11-19',\n",
       "    'ended': 'true'},\n",
       "   {'type': 'blog',\n",
       "    'type-id': 'eb535226-f8ca-499d-9b18-6a144df4ae6f',\n",
       "    'target': 'https://musedotmuofficial.tumblr.com/',\n",
       "    'direction': 'forward'},\n",
       "   {'type': 'discography page',\n",
       "    'type-id': '4fb0eeec-a6eb-4ae3-ad52-b55765b94e8f',\n",
       "    'target': 'https://wmg.jp/muse/discography/',\n",
       "    'direction': 'forward'},\n",
       "   {'type': 'discography page',\n",
       "    'type-id': '4fb0eeec-a6eb-4ae3-ad52-b55765b94e8f',\n",
       "    'target': 'https://www.sonymusic.co.jp/artist/muse/discography/',\n",
       "    'direction': 'forward'},\n",
       "   {'type': 'discography page',\n",
       "    'type-id': '4fb0eeec-a6eb-4ae3-ad52-b55765b94e8f',\n",
       "    'target': 'https://www.universal-music.de/muse/musik',\n",
       "    'direction': 'forward'},\n",
       "   {'type': 'discogs',\n",
       "    'type-id': '04a5b104-a4c2-4bac-99a1-7b837c37d9e4',\n",
       "    'target': 'https://www.discogs.com/artist/1003',\n",
       "    'direction': 'forward'},\n",
       "   {'type': 'fanpage',\n",
       "    'type-id': 'f484f897-81cc-406e-96f9-cd799a04ee24',\n",
       "    'target': 'http://www.microcuts.net/',\n",
       "    'direction': 'forward'},\n",
       "   {'type': 'fanpage',\n",
       "    'type-id': 'f484f897-81cc-406e-96f9-cd799a04ee24',\n",
       "    'target': 'http://www.musewiki.org/',\n",
       "    'direction': 'forward'},\n",
       "   {'type': 'free streaming',\n",
       "    'type-id': '769085a1-c2f7-4c24-a532-2375a77693bd',\n",
       "    'target': 'https://open.spotify.com/artist/12Chz98pHFMPJEknJQMWvI',\n",
       "    'direction': 'forward'},\n",
       "   {'type': 'free streaming',\n",
       "    'type-id': '769085a1-c2f7-4c24-a532-2375a77693bd',\n",
       "    'target': 'https://www.deezer.com/artist/705',\n",
       "    'direction': 'forward'},\n",
       "   {'type': 'image',\n",
       "    'type-id': '221132e9-e30e-43f2-a741-15afc4c5fa7c',\n",
       "    'target': 'https://commons.wikimedia.org/wiki/File:Muse_melbourne28012010.jpg',\n",
       "    'direction': 'forward'},\n",
       "   {'type': 'IMDb',\n",
       "    'type-id': '94c8b0cc-4477-4106-932c-da60e63de61c',\n",
       "    'target': 'https://www.imdb.com/name/nm0615614/',\n",
       "    'direction': 'forward'},\n",
       "   {'type': 'last.fm',\n",
       "    'type-id': '08db8098-c0df-4b78-82c3-c8697b4bba7f',\n",
       "    'target': 'https://www.last.fm/music/Muse',\n",
       "    'direction': 'forward'},\n",
       "   {'type': 'lyrics',\n",
       "    'type-id': 'e4d73442-3762-45a8-905c-401da65544ed',\n",
       "    'target': 'http://muzikum.eu/en/122-4225/muse/lyrics.html',\n",
       "    'direction': 'forward'},\n",
       "   {'type': 'lyrics',\n",
       "    'type-id': 'e4d73442-3762-45a8-905c-401da65544ed',\n",
       "    'target': 'https://genius.com/artists/Muse',\n",
       "    'direction': 'forward'},\n",
       "   {'type': 'lyrics',\n",
       "    'type-id': 'e4d73442-3762-45a8-905c-401da65544ed',\n",
       "    'target': 'https://www.musixmatch.com/artist/Muse',\n",
       "    'direction': 'forward'},\n",
       "   {'type': 'myspace',\n",
       "    'type-id': 'bac47923-ecde-4b59-822e-d08f0cd10156',\n",
       "    'target': 'https://myspace.com/muse',\n",
       "    'direction': 'forward'},\n",
       "   {'type': 'official homepage',\n",
       "    'type-id': 'fe33d22f-c3b0-4d68-bd53-a856badf2b15',\n",
       "    'target': 'https://muse.mu/',\n",
       "    'direction': 'forward'},\n",
       "   {'type': 'other databases',\n",
       "    'type-id': 'd94fb61c-fa20-4e3c-a19a-71a949fb2c55',\n",
       "    'target': 'http://id.loc.gov/authorities/names/no99089194',\n",
       "    'direction': 'forward'},\n",
       "   {'type': 'other databases',\n",
       "    'type-id': 'd94fb61c-fa20-4e3c-a19a-71a949fb2c55',\n",
       "    'target': 'http://musicmoz.org/Bands_and_Artists/M/Muse/',\n",
       "    'direction': 'forward'},\n",
       "   {'type': 'other databases',\n",
       "    'type-id': 'd94fb61c-fa20-4e3c-a19a-71a949fb2c55',\n",
       "    'target': 'https://catalogue.bnf.fr/ark:/12148/cb140286628',\n",
       "    'direction': 'forward'},\n",
       "   {'type': 'other databases',\n",
       "    'type-id': 'd94fb61c-fa20-4e3c-a19a-71a949fb2c55',\n",
       "    'target': 'https://d-nb.info/gnd/10112234-2',\n",
       "    'direction': 'forward'},\n",
       "   {'type': 'other databases',\n",
       "    'type-id': 'd94fb61c-fa20-4e3c-a19a-71a949fb2c55',\n",
       "    'target': 'https://imvdb.com/n/muse',\n",
       "    'direction': 'forward'},\n",
       "   {'type': 'other databases',\n",
       "    'type-id': 'd94fb61c-fa20-4e3c-a19a-71a949fb2c55',\n",
       "    'target': 'https://openlibrary.org/authors/OL2779481A/',\n",
       "    'direction': 'forward'},\n",
       "   {'type': 'other databases',\n",
       "    'type-id': 'd94fb61c-fa20-4e3c-a19a-71a949fb2c55',\n",
       "    'target': 'https://rateyourmusic.com/artist/muse',\n",
       "    'direction': 'forward'},\n",
       "   {'type': 'other databases',\n",
       "    'type-id': 'd94fb61c-fa20-4e3c-a19a-71a949fb2c55',\n",
       "    'target': 'https://www.45cat.com/artist/muse',\n",
       "    'direction': 'forward'},\n",
       "   {'type': 'other databases',\n",
       "    'type-id': 'd94fb61c-fa20-4e3c-a19a-71a949fb2c55',\n",
       "    'target': 'https://www.muziekweb.nl/Link/M00000008502/POPULAR/',\n",
       "    'direction': 'forward'},\n",
       "   {'type': 'other databases',\n",
       "    'type-id': 'd94fb61c-fa20-4e3c-a19a-71a949fb2c55',\n",
       "    'target': 'https://www.progarchives.com/artist.asp?id=2122',\n",
       "    'direction': 'forward'},\n",
       "   {'type': 'other databases',\n",
       "    'type-id': 'd94fb61c-fa20-4e3c-a19a-71a949fb2c55',\n",
       "    'target': 'https://www.spirit-of-rock.com/en/band/Muse',\n",
       "    'direction': 'forward'},\n",
       "   {'type': 'other databases',\n",
       "    'type-id': 'd94fb61c-fa20-4e3c-a19a-71a949fb2c55',\n",
       "    'target': 'https://www.whosampled.com/Muse/',\n",
       "    'direction': 'forward'},\n",
       "   {'type': 'other databases',\n",
       "    'type-id': 'd94fb61c-fa20-4e3c-a19a-71a949fb2c55',\n",
       "    'target': 'http://www.musik-sammler.de/artist/4643',\n",
       "    'direction': 'forward'},\n",
       "   {'type': 'other databases',\n",
       "    'type-id': 'd94fb61c-fa20-4e3c-a19a-71a949fb2c55',\n",
       "    'target': 'http://www.worldcat.org/identities/lccn-no99-89194/',\n",
       "    'direction': 'forward'},\n",
       "   {'type': 'purchase for download',\n",
       "    'type-id': 'f8319a2f-f824-4617-81c8-be6560b3b203',\n",
       "    'target': 'https://www.onkyomusic.com/artist/muse',\n",
       "    'direction': 'forward',\n",
       "    'end': '2019-10-06',\n",
       "    'ended': 'true'},\n",
       "   {'type': 'purchase for download',\n",
       "    'type-id': 'f8319a2f-f824-4617-81c8-be6560b3b203',\n",
       "    'target': 'https://play.google.com/store/music/artist?id=A2yuzeawfml3ribpb7n3gq5nb4y',\n",
       "    'direction': 'forward',\n",
       "    'end': '2020-10-12',\n",
       "    'ended': 'true'},\n",
       "   {'type': 'purchase for download',\n",
       "    'type-id': 'f8319a2f-f824-4617-81c8-be6560b3b203',\n",
       "    'target': 'https://itunes.apple.com/us/artist/id1093360',\n",
       "    'direction': 'forward'},\n",
       "   {'type': 'purchase for download',\n",
       "    'type-id': 'f8319a2f-f824-4617-81c8-be6560b3b203',\n",
       "    'target': 'https://uk.7digital.com/artist/muse',\n",
       "    'direction': 'forward'},\n",
       "   {'type': 'purchase for download',\n",
       "    'type-id': 'f8319a2f-f824-4617-81c8-be6560b3b203',\n",
       "    'target': 'https://www.junodownload.com/artists/Muse/',\n",
       "    'direction': 'forward'},\n",
       "   {'type': 'purchase for download',\n",
       "    'type-id': 'f8319a2f-f824-4617-81c8-be6560b3b203',\n",
       "    'target': 'https://www.qobuz.com/gb-en/interpreter/muse/download-streaming-albums',\n",
       "    'direction': 'forward'},\n",
       "   {'type': 'purchase for mail-order',\n",
       "    'type-id': '611b1862-67af-4253-a64f-34adba305d1d',\n",
       "    'target': 'https://www.amazon.com/-/e/B000AP5PXW',\n",
       "    'direction': 'forward'},\n",
       "   {'type': 'purchase for mail-order',\n",
       "    'type-id': '611b1862-67af-4253-a64f-34adba305d1d',\n",
       "    'target': 'https://www.cdjapan.co.jp/person/358125',\n",
       "    'direction': 'forward'},\n",
       "   {'type': 'secondhandsongs',\n",
       "    'type-id': '79c5b84d-a206-4f4c-9832-78c028c312c3',\n",
       "    'target': 'https://secondhandsongs.com/artist/171',\n",
       "    'direction': 'forward'},\n",
       "   {'type': 'setlistfm',\n",
       "    'type-id': 'bf5d0d5e-27a1-4e94-9df7-3cdc67b3b207',\n",
       "    'target': 'https://www.setlist.fm/setlists/muse-53d6ebd5.html',\n",
       "    'direction': 'forward'},\n",
       "   {'type': 'social network',\n",
       "    'type-id': '99429741-f3f6-484b-84f8-23af51991770',\n",
       "    'target': 'https://twitter.com/muse',\n",
       "    'direction': 'forward',\n",
       "    'begin': '2008-04-29'},\n",
       "   {'type': 'social network',\n",
       "    'type-id': '99429741-f3f6-484b-84f8-23af51991770',\n",
       "    'target': 'https://plus.google.com/+Muse',\n",
       "    'direction': 'forward',\n",
       "    'end': '2019-04',\n",
       "    'ended': 'true'},\n",
       "   {'type': 'social network',\n",
       "    'type-id': '99429741-f3f6-484b-84f8-23af51991770',\n",
       "    'target': 'https://www.facebook.com/muse',\n",
       "    'direction': 'forward'},\n",
       "   {'type': 'social network',\n",
       "    'type-id': '99429741-f3f6-484b-84f8-23af51991770',\n",
       "    'target': 'https://www.instagram.com/muse/',\n",
       "    'direction': 'forward'},\n",
       "   {'type': 'social network',\n",
       "    'type-id': '99429741-f3f6-484b-84f8-23af51991770',\n",
       "    'target': 'https://www.tiktok.com/@muse',\n",
       "    'direction': 'forward'},\n",
       "   {'type': 'songkick',\n",
       "    'type-id': 'aac9c4bc-a5b9-30b8-9839-e3ac314c6e58',\n",
       "    'target': 'https://www.songkick.com/artists/219230',\n",
       "    'direction': 'forward'},\n",
       "   {'type': 'soundcloud',\n",
       "    'type-id': '89e4a949-0976-440d-bda1-5f772c1e5710',\n",
       "    'target': 'https://soundcloud.com/muse',\n",
       "    'direction': 'forward'},\n",
       "   {'type': 'streaming',\n",
       "    'type-id': '63cc5d1f-f096-4c94-a43f-ecb32ea94161',\n",
       "    'target': 'https://music.amazon.com/artists/B01ACEGBJW',\n",
       "    'direction': 'forward'},\n",
       "   {'type': 'streaming',\n",
       "    'type-id': '63cc5d1f-f096-4c94-a43f-ecb32ea94161',\n",
       "    'target': 'https://music.apple.com/us/artist/1093360',\n",
       "    'direction': 'forward'},\n",
       "   {'type': 'streaming',\n",
       "    'type-id': '63cc5d1f-f096-4c94-a43f-ecb32ea94161',\n",
       "    'target': 'https://tidal.com/artist/16335',\n",
       "    'direction': 'forward'},\n",
       "   {'type': 'streaming',\n",
       "    'type-id': '63cc5d1f-f096-4c94-a43f-ecb32ea94161',\n",
       "    'target': 'https://us.napster.com/artist/muse-7035',\n",
       "    'direction': 'forward'},\n",
       "   {'type': 'VIAF',\n",
       "    'type-id': 'e8571dcc-35d4-4e91-a577-a3382fd84460',\n",
       "    'target': 'http://viaf.org/viaf/139880120',\n",
       "    'direction': 'forward'},\n",
       "   {'type': 'video channel',\n",
       "    'type-id': 'd86c9450-b6d0-4760-a275-e7547495b48b',\n",
       "    'target': 'https://vimeo.com/museuk',\n",
       "    'direction': 'forward'},\n",
       "   {'type': 'wikidata',\n",
       "    'type-id': '689870a4-a1e4-4912-b17f-7b2664215698',\n",
       "    'target': 'https://www.wikidata.org/wiki/Q22151',\n",
       "    'direction': 'forward'},\n",
       "   {'type': 'youtube',\n",
       "    'type-id': '6a540e5b-58c6-4192-b6ba-dbc71ec8fcf0',\n",
       "    'target': 'https://www.youtube.com/channel/UCGGhM6XCSJFQ6DTRffnKRIw',\n",
       "    'direction': 'forward'}],\n",
       "  'tag-list': [{'count': '1', 'name': 'alternative dance'},\n",
       "   {'count': '17', 'name': 'alternative rock'},\n",
       "   {'count': '1', 'name': 'anthemic'},\n",
       "   {'count': '1', 'name': 'anxious'},\n",
       "   {'count': '7', 'name': 'british'},\n",
       "   {'count': '1', 'name': 'eclectic'},\n",
       "   {'count': '1', 'name': 'electronic'},\n",
       "   {'count': '1', 'name': 'england'},\n",
       "   {'count': '2', 'name': 'english'},\n",
       "   {'count': '1', 'name': 'funk rock'},\n",
       "   {'count': '1', 'name': 'funky'},\n",
       "   {'count': '1', 'name': 'groovy'},\n",
       "   {'count': '1', 'name': 'indie rock'},\n",
       "   {'count': '1', 'name': 'melodic'},\n",
       "   {'count': '1', 'name': 'muse'},\n",
       "   {'count': '1', 'name': 'new prog'},\n",
       "   {'count': '1', 'name': 'political'},\n",
       "   {'count': '2', 'name': 'pop rock'},\n",
       "   {'count': '1', 'name': 'prog related'},\n",
       "   {'count': '5', 'name': 'progressive rock'},\n",
       "   {'count': '13', 'name': 'rock'},\n",
       "   {'count': '1', 'name': 'science fiction'},\n",
       "   {'count': '1', 'name': 'space'},\n",
       "   {'count': '4', 'name': 'symphonic rock'},\n",
       "   {'count': '1', 'name': 'synthpop'},\n",
       "   {'count': '8', 'name': 'uk'},\n",
       "   {'count': '1', 'name': 'united kingdom'}]}}"
      ]
     },
     "execution_count": 12,
     "metadata": {},
     "output_type": "execute_result"
    }
   ],
   "source": [
    "for art in song['artists']:\n",
    "    wts = mbz.get_artist_by_id(art['mbz_id'], includes=[\"url-rels\", \"tags\"])\n",
    "    art['type'] = wts['artist']['type']\n",
    "    for url in wts['artist']['url-relation-list']:\n",
    "        if url['type'] == 'wikidata':\n",
    "            art['wikidata_url'] = url['target']\n",
    "wts"
   ]
  },
  {
   "cell_type": "markdown",
   "metadata": {},
   "source": [
    "## 02. Information extraction"
   ]
  },
  {
   "cell_type": "markdown",
   "metadata": {},
   "source": [
    "Note that in this notebook we only extract information for what concern the annotations since they are directly bonded to the lyrics and many times verified."
   ]
  },
  {
   "cell_type": "markdown",
   "metadata": {},
   "source": [
    "### References extraction with SpaCy\n",
    "Firstly, I store all the annotations in a list. Then, I join all the entries into a single string, which will be my text to analyse."
   ]
  },
  {
   "cell_type": "code",
   "execution_count": 13,
   "metadata": {},
   "outputs": [],
   "source": [
    "ann_list = []\n",
    "\n",
    "for ann in song['annotations']:\n",
    "    ann_list.append(ann[1])\n",
    "    \n",
    "anns_txt = \" \".join(ann_list).replace('\\n\\n', ' ').replace('\\n', ' ')"
   ]
  },
  {
   "cell_type": "markdown",
   "metadata": {},
   "source": [
    "Now I can perform **Named Entity Recognition (NER)** with SpaCy. I will use the pre-trained model `en_core_web_sm` for this purpose (already loaded at the beginning of the notebook).\n",
    "\n",
    "For this aim I define two dictionaries: one for the Works of Art (WOA) and one for the Persons (PER). I will use these dictionaries to extract the references from the annotations related to these two different type of entities.\n",
    "\n",
    "Within the dictionaries I will set the keys as the entities and the values as another dictionary with keys `count`and `annotation_number` so to track both the number of times the entity is mentioned and the number of annotations in which it is mentioned. in this way I can easily track the co-occurrence between the different kinds of entities.\n",
    "\n",
    "By now, count and annotation_number are set to 0 for all the entities. Another iteration will compile these values."
   ]
  },
  {
   "cell_type": "code",
   "execution_count": 14,
   "metadata": {},
   "outputs": [
    {
     "data": {
      "text/plain": [
       "({'1984': {'count': 0, 'annotation_number': {}},\n",
       "  'Love': {'count': 0, 'annotation_number': {}}},\n",
       " {'Julia': {'count': 0, 'annotation_number': {}},\n",
       "  'George Orwell': {'count': 0, 'annotation_number': {}},\n",
       "  'Winston': {'count': 0, 'annotation_number': {}}})"
      ]
     },
     "execution_count": 14,
     "metadata": {},
     "output_type": "execute_result"
    }
   ],
   "source": [
    "ann_woa = {}\n",
    "ann_per = {}\n",
    "\n",
    "for ann_num, ann in enumerate(song['annotations']):\n",
    "    doc = nlp(ann[1])\n",
    "    \n",
    "    for ent in doc.ents:\n",
    "        if ent.label_ == 'WORK_OF_ART':\n",
    "            woa_sub_str = re.sub(r'[’\\']s$', '', ent.text)\n",
    "            if ent.text not in ann_woa:\n",
    "                ann_woa[woa_sub_str] = {'count': 0, 'annotation_number': {}}\n",
    "\n",
    "        elif ent.label_ == 'PERSON':\n",
    "            per_sub_str = re.sub(r'[’\\']s$', '', ent.text)\n",
    "            if ent.text not in ann_per:\n",
    "                ann_per[per_sub_str] = {'count': 0, 'annotation_number': {}}\n",
    "\n",
    "\n",
    "ann_woa, ann_per"
   ]
  },
  {
   "cell_type": "markdown",
   "metadata": {},
   "source": [
    "#### Storing occurrences of entities in a dictionary\n",
    "\n",
    "The named entities we extracted have not been recognized for all their occurences as Works of Art or People. Thus, we need to iterate over the annotations once again to find all the occurrences and compile in a better way the dictionary with the relevant data."
   ]
  },
  {
   "cell_type": "code",
   "execution_count": 15,
   "metadata": {},
   "outputs": [
    {
     "data": {
      "text/plain": [
       "({'1984': {'count': 8,\n",
       "   'annotation_number': {0: 1, 1: 1, 2: 1, 3: 1, 4: 1, 7: 1, 8: 1, 9: 1}},\n",
       "  'Love': {'count': 4, 'annotation_number': {3: 1, 4: 1, 5: 1, 6: 1}}},\n",
       " {'Julia': {'count': 8, 'annotation_number': {2: 2, 3: 2, 5: 2, 6: 1, 9: 1}},\n",
       "  'George Orwell': {'count': 4, 'annotation_number': {2: 1, 4: 3}},\n",
       "  'Winston': {'count': 7,\n",
       "   'annotation_number': {2: 1, 3: 2, 5: 2, 6: 1, 9: 1}}})"
      ]
     },
     "execution_count": 15,
     "metadata": {},
     "output_type": "execute_result"
    }
   ],
   "source": [
    "for ann_num, ann in enumerate(song['annotations']):\n",
    "    clean_txt = re.sub(r'\\W', ' ', ann[1]) #remove all the non alphanumeric characters\n",
    "    words = clean_txt.split(' ')\n",
    "\n",
    "    for woa in ann_woa: #for every work of art in the dictionary\n",
    "        if len(woa.split(' ')) == 1: #if the work of art is one word\n",
    "            ann_occurrences = words.count(woa) #count the number of occurrences of the word in the annotation\n",
    "            if ann_occurrences > 0: #if the word is in the annotation\n",
    "                ann_woa[woa]['annotation_number'][ann_num] = ann_occurrences #add the number of occurrences to the dictionary\n",
    "                ann_woa[woa]['count'] += ann_occurrences #add the number of occurrences to the total count\n",
    "        else: #if the work of art is more than one word\n",
    "            ann_occurrences = clean_txt.count(woa) #here changes the variable on which to count\n",
    "            if ann_occurrences > 0: #if the word is in the annotation\n",
    "                    ann_woa[woa]['annotation_number'][ann_num] = ann_occurrences #add the number of occurrences to the dictionary\n",
    "                    ann_woa[woa]['count'] += 1 #add the number of occurrences to the total count\n",
    "\n",
    "\n",
    "    for per in ann_per: #for every person in the dictionary\n",
    "        if len(per.split(' ')) == 1: #if the person is one word\n",
    "            ann_occurrences = words.count(per) #count the number of occurrences of the word in the annotation\n",
    "            if ann_occurrences > 0: #if the word is in the annotation\n",
    "                ann_per[per]['annotation_number'][ann_num] = ann_occurrences #add the number of occurrences to the dictionary\n",
    "                ann_per[per]['count'] += ann_occurrences #add the number of occurrences to the total count\n",
    "        else: #if the person is more than one word\n",
    "            ann_occurrences = clean_txt.count(per) #here changes the variable on which to count\n",
    "            if ann_occurrences > 0: #if the word is in the annotation\n",
    "                ann_per[per]['annotation_number'][ann_num] = ann_occurrences #add the number of occurrences to the dictionary\n",
    "                ann_per[per]['count'] += 1 #add the number of occurrences to the total count\n",
    "            \n",
    "            remove_occurrences = clean_txt.replace(per, ' ').split(' ') #remove the occurrences of the person from the annotation\n",
    "            ps = per.split(' ')[-1] #get the last word of the person which is more likely to be the surname\n",
    "            new_ann_occurrences = remove_occurrences.count(ps) #count the number of occurrences of the last word of the person in the annotation\n",
    "            if new_ann_occurrences > 0: #if the word is in the annotation\n",
    "                if ann_num in ann_per[per]['annotation_number']: #if the annotation number is already in the dictionary\n",
    "                    ann_per[per]['annotation_number'][ann_num] += new_ann_occurrences #add the number of occurrences to the dictionary\n",
    "                else: #if the annotation number is not in the dictionary\n",
    "                    ann_per[per]['annotation_number'][ann_num] = new_ann_occurrences #add the number of occurrences to the dictionary\n",
    "                ann_per[per]['count'] += new_ann_occurrences #add the number of occurrences to the total count\n",
    "\n",
    "\n",
    "ann_woa, ann_per"
   ]
  },
  {
   "cell_type": "markdown",
   "metadata": {},
   "source": [
    "## 03. Wikidata reconciliation"
   ]
  },
  {
   "cell_type": "markdown",
   "metadata": {},
   "source": [
    "Here the aim is to connect with the Wikidata API and retrieve information about the entities we found in the annotations."
   ]
  },
  {
   "cell_type": "markdown",
   "metadata": {},
   "source": [
    "### Querying Wikidata API\n",
    "I define a function for retrieving and store in json format the different resluts of the API call.\n",
    "\n",
    "The aim is to use the namedentiti extracted from the previous step as the labels to serach for on Wikidata in order to retrieve the possible entities the names refer to. Howver, I do that only for the Work of Arts since they are the focus of the project.\n",
    "\n",
    "For more information about Wikidata API and parameters settings see the [official documentation](https://www.mediawiki.org/wiki/Wikibase/API/en) and the `wbsearchentities` [action page](https://www.wikidata.org/w/api.php?action=help&modules=wbsearchentities)."
   ]
  },
  {
   "cell_type": "code",
   "execution_count": 16,
   "metadata": {},
   "outputs": [],
   "source": [
    "def wikidata_reconciliation(query):\n",
    "    API_WD = \"https://www.wikidata.org/w/api.php\"\n",
    "    params = {\n",
    "        'action': 'wbsearchentities',\n",
    "        'format': 'json',\n",
    "        'language': 'en',\n",
    "        'type': 'item',\n",
    "        'search': query # the query string\n",
    "    }\n",
    "    \n",
    "    # query wd API    \n",
    "    return requests.get(API_WD, params = params).json() "
   ]
  },
  {
   "cell_type": "markdown",
   "metadata": {},
   "source": [
    "I set a dictionary for storing information about the candidate entities for each label searched. For each candidate entity I retrieve, I store in the dictionary only the ones that are instances of a subclass of the class `creative work`.\n",
    "\n",
    "For each named entity as key I store a list of dictionaries with the information about the candidate entities. At the first iteration, each dictionary has the following keys: `id` and `description`."
   ]
  },
  {
   "cell_type": "code",
   "execution_count": 17,
   "metadata": {},
   "outputs": [
    {
     "data": {
      "text/plain": [
       "{'1984': [{'id': 'Q208460',\n",
       "   'description': 'dystopian novel written by George Orwell'},\n",
       "  {'id': 'Q208424', 'description': '1984 film by Michael Radford'},\n",
       "  {'id': 'Q664787', 'description': '1956 film by Michael Anderson'},\n",
       "  {'id': 'Q203383',\n",
       "   'description': '1984 American television commercial directed by Ridley Scott'},\n",
       "  {'id': 'Q208429', 'description': '1984 studio album by Van Halen'}],\n",
       " 'Love': [{'id': 'Q18643718',\n",
       "   'description': 'American romantic comedy web television series'},\n",
       "  {'id': 'Q19829024', 'description': '2015 film by Gaspar Noé'}]}"
      ]
     },
     "execution_count": 17,
     "metadata": {},
     "output_type": "execute_result"
    }
   ],
   "source": [
    "candidates = {}\n",
    "\n",
    "for woa in ann_woa:\n",
    "    candidates[woa] = []\n",
    "\n",
    "    r = wikidata_reconciliation(woa)\n",
    "\n",
    "    if 'search' in r and len(r['search']) >= 1: # if there is at least one result\n",
    "        for result in r['search']:\n",
    "            qid = result['title']\n",
    "            query_string = \"\"\"ASK { wd:\"\"\"+qid+\"\"\" wdt:P31 ?type. ?type wdt:P279* wd:Q17537576 }\"\"\" # query string to check if the entity is ANYTHING BEING SUBCLASS OF CREATIVE WORK\n",
    "        \n",
    "            # this time I query the wikidata endpoint directly\n",
    "            res = return_sparql_query_results(query_string) \n",
    "            \n",
    "            if res[\"boolean\"] == True: #If the answer is true\n",
    "                entity = {}\n",
    "                #entity['class'] = 'creative work' \n",
    "                entity['id'] = result['title']\n",
    "                entity['description'] = result['description']\n",
    "                candidates[woa].append(entity)\n",
    "            \n",
    "    else:\n",
    "        print('no results matching the entity name')\n",
    "\n",
    "candidates"
   ]
  },
  {
   "cell_type": "markdown",
   "metadata": {},
   "source": [
    "## 04. Entity Disambiguation"
   ]
  },
  {
   "cell_type": "markdown",
   "metadata": {},
   "source": [
    "Candidates entities retrieved by the queries will be disambiguated on the basis of the information retrieved from Wikidata and sentence similarity between the annotations and the description of the entity."
   ]
  },
  {
   "cell_type": "markdown",
   "metadata": {},
   "source": [
    "#### Wikidata information retrieval\n",
    "With an iteration over the candidate entities for each named entity, I set a deendency score of 0 and a relevance score which is inverse to the position of the candidate entity in the query results. In this way, first candidate retrieved will have an higher relevance score than the second one, and so on.\n",
    "In this way, the dependency score will be higher for the candidate entities that are not derivative works of the other candidate entities.\n",
    "\n",
    "Thus, for each candidate I make some SPARQL queries. The first aims at understanding if the people mentioned in the annotations are somehow related to the candidate entity by means of first-level entity relationships in Wikidata. If so, I increase the score of people found in Wikidata. For the second, I compile a SPARQL query aiming to ask whether the candidte entity is a derivative work of at least one of the other candidate instances. If so, I decrese the dependency score by 1. \n",
    "\n",
    "I also make use of the `time.sleep()` function to avoid making too many requests to the API in a short time and thus being blocked."
   ]
  },
  {
   "cell_type": "code",
   "execution_count": 18,
   "metadata": {},
   "outputs": [
    {
     "data": {
      "text/plain": [
       "{'1984': [{'id': 'Q208460',\n",
       "   'description': 'dystopian novel written by George Orwell',\n",
       "   'relevance': 5,\n",
       "   'dependency_score': 0,\n",
       "   'person_in_description': 1,\n",
       "   'person_in_wikidata': 3},\n",
       "  {'id': 'Q208424',\n",
       "   'description': '1984 film by Michael Radford',\n",
       "   'relevance': 4,\n",
       "   'dependency_score': -1,\n",
       "   'person_in_description': 0,\n",
       "   'person_in_wikidata': 1},\n",
       "  {'id': 'Q664787',\n",
       "   'description': '1956 film by Michael Anderson',\n",
       "   'relevance': 3,\n",
       "   'dependency_score': -1,\n",
       "   'person_in_description': 0,\n",
       "   'person_in_wikidata': 1},\n",
       "  {'id': 'Q203383',\n",
       "   'description': '1984 American television commercial directed by Ridley Scott',\n",
       "   'relevance': 2,\n",
       "   'dependency_score': -1,\n",
       "   'person_in_description': 0,\n",
       "   'person_in_wikidata': 0},\n",
       "  {'id': 'Q208429',\n",
       "   'description': '1984 studio album by Van Halen',\n",
       "   'relevance': 1,\n",
       "   'dependency_score': 0,\n",
       "   'person_in_description': 0,\n",
       "   'person_in_wikidata': 0}],\n",
       " 'Love': [{'id': 'Q18643718',\n",
       "   'description': 'American romantic comedy web television series',\n",
       "   'relevance': 2,\n",
       "   'dependency_score': 0,\n",
       "   'person_in_description': 0,\n",
       "   'person_in_wikidata': 0},\n",
       "  {'id': 'Q19829024',\n",
       "   'description': '2015 film by Gaspar Noé',\n",
       "   'relevance': 1,\n",
       "   'dependency_score': 0,\n",
       "   'person_in_description': 0,\n",
       "   'person_in_wikidata': 0}]}"
      ]
     },
     "execution_count": 18,
     "metadata": {},
     "output_type": "execute_result"
    }
   ],
   "source": [
    "req = 0 # this is the number of requests made to the WD endpoint\n",
    "\n",
    "people = []\n",
    "for per in ann_per:\n",
    "    people.append((per, ann_per[per]['count']))\n",
    "\n",
    "\n",
    "for woa in candidates:\n",
    "    relevance = len(candidates[woa])\n",
    "\n",
    "    for idx, cand in enumerate(candidates[woa]):\n",
    "\n",
    "        cand['relevance'] = relevance \n",
    "        relevance -= 1 #decrease for the next iteration\n",
    "\n",
    "        cand['dependency_score'] = 0  #this is the score that will be used to compute the dependency between candidates\n",
    "        cand['person_in_description'] = 0 #this is the number of times the person is mentioned in the description of the candidate\n",
    "        cand['person_in_wikidata'] = 0 #this is the number of times a person is mentioned in the wikidata page of the candidate\n",
    "        \n",
    "        for per in people:\n",
    "            per_split = per[0].split(' ')\n",
    "            if len(per_split) > 1:\n",
    "                per_ts = per_split[-1]  #take the last token of the person name [SI PUO' FARE MEGLIO INCLODENDO TUTTI I TOKEN DELLA PERSONA IN UN CICLO FOR E VEDERE SE SONO TUTTI IN DESCRIPTION ECC.]\n",
    "            else:\n",
    "                per_ts = per[0]\n",
    "\n",
    "            if per_ts in cand['description']:\n",
    "                    cand['person_in_description'] += 1 #if the person is mentioned in the description of the candidate, increase the score\n",
    "\n",
    "            query_people = \"\"\"ASK { wd:\"\"\"+cand['id']+\"\"\" ?p ?o.    \n",
    "                                ?o rdfs:label ?label.\n",
    "                                FILTER (CONTAINS((?label), '\"\"\"+per_ts+\"\"\"'))\n",
    "                                }\"\"\"\n",
    "\n",
    "            if req % 5 == 0:\n",
    "                time.sleep(5) # to avoid to be blocked by WD endpoint for too many requests in a short time\n",
    "                \n",
    "            res_people = return_sparql_query_results(query_people)\n",
    "            req += 1\n",
    "\n",
    "            if res_people[\"boolean\"] == True:\n",
    "                cand['person_in_wikidata'] += 1\n",
    "\n",
    "        #____________Second query____________\n",
    "\n",
    "        qs = \"VALUES ?items { \"      # this is the SPARQL query string to complete\n",
    "        for i in candidates[woa]:    # i repeat the loop since for every candidate i want to ask if it is dependent on at least one of the other candidates (meaning it's a derivative wor of another candidate)\n",
    "            if candidates[woa].index(i) == idx:\n",
    "                continue\n",
    "            else:\n",
    "                wd_id = \"wd:\"+i['id']\n",
    "                qs += wd_id+\" \"\n",
    "        qs += \"}\"\n",
    "\n",
    "        query_dependency =  \"\"\"ASK {\n",
    "                                    VALUES ?d { wdt:P144 wdt:P737 wdt:P941 wdt:P8371 }\n",
    "                                    \"\"\"+qs+\"\"\"\n",
    "                                    {\n",
    "                                        wd:\"\"\"+cand['id']+\"\"\" ?d ?items.\n",
    "                                    }UNION{\n",
    "                                        ?items wdt:P4969 wd:\"\"\"+cand['id']+\"\"\".\n",
    "                                    }\n",
    "                            }\"\"\"\n",
    "        \n",
    "        if req % 5 == 0:\n",
    "            time.sleep(5) # to avoid to be blocked by WD endpoint for too many requests in a short time\n",
    "\n",
    "        res_dependency = return_sparql_query_results(query_dependency)\n",
    "        req += 1\n",
    "\n",
    "        if res_dependency[\"boolean\"] == True:\n",
    "            candidates[woa][idx]['dependency_score'] -= 1 # if the answer is true, it means that the candidate is dependent on at least one of the other candidates, so I decrease its dependency score\n",
    "\n",
    "\n",
    "candidates"
   ]
  },
  {
   "cell_type": "markdown",
   "metadata": {},
   "source": [
    "#### Sentence similarity with BERT\n",
    "For comparing the annotations with the description of the candidate entities, I use the BERT model for sentence similarity. \n",
    "\n",
    "First, I take the annotations one by one. I clean them from new line characters and other special characters and then I split the annotations into sentences and store them into a list in order to be processed."
   ]
  },
  {
   "cell_type": "code",
   "execution_count": 19,
   "metadata": {},
   "outputs": [
    {
     "data": {
      "text/plain": [
       "['He wants from the significant other not to let him go.',\n",
       " 'Lips being sealed can be interpreted in two ways: one, they should be always ‘that’ close and two, they should never utter a word to anybody about each other.',\n",
       " 'In 1984, they have to ‘keep their lips sealed’ i.e.',\n",
       " 'keep their romance a secret, as love is considered a crime in the novel’s world.',\n",
       " 'If the government found out about them, they would be punished, as specified in the verses.',\n",
       " 'Metaphorically, it’s at night when we are safe, when we can do secret things.',\n",
       " 'When the night ends, everybody can see us, so “we can’t pretend”.',\n",
       " 'The only thing we can do is to run, and think that someone or something will save us.',\n",
       " 'As this song and the whole album are influenced by 1984, we all know (spoiler alert!)',\n",
       " 'that although they run and ask to be saved, they won’t be protected from harm.',\n",
       " 'In Orwell’s 1984, Winston and Julia cannot show any public signs of their relationship lest it be discovered by the Party; even a stray smile from Julia in public could lead to discovery and torture at the hands of the Party.',\n",
       " 'Winston and Julia are surely going to be arrested by the Ministry of Love for their secret love.',\n",
       " 'They are bound to be broken apart.',\n",
       " 'They cannot have a romantic relationship in the world of “1984”, where love is a crime, like we who live in a normal world and expect love to last forever.',\n",
       " 'Any evidence of Winston and Julia meeting in secret and having a love affair must be concealed or erased.',\n",
       " 'George Orwell’s 1984 contains a secret police known as the ‘Thought Police’ whose job was to prevent ‘thinkcrime’, more commonly ‘thoughtcrime’, which was simply any thought or action the totalitarian English Socialism, more commonly ‘Ingsoc’, Party did not approve of, such of love or political interest.',\n",
       " 'Orwell described your only free space as “the few cubic inches inside your skull”, which is the only place what one would consider ‘the truth’ could be hidden.',\n",
       " 'In this case, and throughout the album, Bellamy compares life in today’s capitalist world as very similar to Orwell’s dystopian Oceania, Eastasia or of course, Eurasia.',\n",
       " 'It’s important to notice that Bellamy isn’t an outright anti-capitalist (he defined himself as a left-leaning libertarian), although The Resistance as an album undoubtedly has themes against the wealthy and the privileged.',\n",
       " 'In addition, in a clever wordplay Bellamy mentions here three of the orwellian ministries: Love, Peace and Truth.',\n",
       " 'Winston is a diligent worker for the Party while Julia appears a fervent advocate for the Party’s activities and doctrines, but secretly they hate the Party and dream to rebel.',\n",
       " 'Love, a crime in Oceania, is an act of rebellion against the Party, showing that they do not believe in the Party’s lies to control its people.',\n",
       " 'Julia also makes clear that showing her affection for Winston is a highly effective form of protesting against the Party’s disapproval of sexual relationships.',\n",
       " 'As party members, to have a love affair is a serious crime.',\n",
       " 'They are eventually going to get caught and tortured to death in the Ministry of Love (which oversees brainwashing and torture).',\n",
       " 'It’s only a matter of time.',\n",
       " 'Winston and Julia are digging their own graves to fall in love, but they can’t control their love and desire.',\n",
       " 'It should have been okay for us to fall in love, but it’s too dangerous in the oppressive world we live in.',\n",
       " 'In 1984, passion and love are considered forms of censored thought that would have been punished.',\n",
       " 'They should have the freedom to love each other, but they do not.',\n",
       " 'If a ceiling, roof or other structure caves in, it breaks and falls into the space below.',\n",
       " 'This is just figuratively implying their worries that their hiding place may be exposed and they may get arrested for romantic love, which is a crime in the world of “1984”.',\n",
       " 'In 1984, Winston and Julia have a secret rendezvous in a rented room of an antique shop, where there are no “telescreens” for surveillance such that their secret love affair may be hidden from the authorities.',\n",
       " 'They live in fear that the Party may find out about their love and have them punished.']"
      ]
     },
     "execution_count": 19,
     "metadata": {},
     "output_type": "execute_result"
    }
   ],
   "source": [
    "sents = []\n",
    "\n",
    "for ann in song['annotations']:\n",
    "    clean_txt = ann[1].replace('\\n\\n', ' ').replace('\\n', ' ').replace('   ', ' ').replace('  ', ' ')\n",
    "    sts = sent_tokenize(clean_txt)\n",
    "    for s in sts:\n",
    "        sents.append(s)\n",
    "\n",
    "sents"
   ]
  },
  {
   "cell_type": "markdown",
   "metadata": {},
   "source": [
    "Thus, I define a dictionary. Here I store the BERT embeddings of the sentences in which the named entity is mentioned.\n",
    "\n",
    "Meanwhile, I also embed the description of the candidate entities and store them in the candidates dictionary. Here, I remove the entity name from the description to avoid that the model learns to recognize the entity from the description itself.\n",
    "\n",
    "Finally, I compute the cosine similarity between the embeddings of the sentences in which the entity is mentioned and the embeddings of the description of the candidate entities. I take the mean of these values and I store it in the dictionary.\n",
    "\n",
    "The last step consists in computing the final score using the other partial scores computed until now. I also store the final score in the dictionary."
   ]
  },
  {
   "cell_type": "code",
   "execution_count": 20,
   "metadata": {},
   "outputs": [],
   "source": [
    "to_embed = {}\n",
    "\n",
    "for woa in candidates:\n",
    "    to_embed[woa] = []\n",
    "\n",
    "    for s in sents:\n",
    "        if woa in s:\n",
    "            # ----- You can insert here code for defining a context window around the entity -----\n",
    "            to_embed[woa].append(model.encode(s, convert_to_tensor=True))\n",
    "            \n",
    "    for ent in candidates[woa]:\n",
    "       #________Sentence embedding________ \n",
    "        ent['description_embedding'] = model.encode(re.sub(woa, ' ', ent['description']), convert_to_tensor=True) # I remove the entity name from the description to avoid that the model learns to recognize the entity from the description itself\n",
    "\n",
    "        #________Averaging cosine similarities________\n",
    "        to_avg = [] # this is the list of cosine similarities between the entity description and the sentences containing the entity name\n",
    "        for emb in to_embed[woa]:\n",
    "            cos_sim = util.cos_sim(ent['description_embedding'], emb)\n",
    "            to_avg.append(cos_sim[0][0])\n",
    "\n",
    "        ent['similarity_score'] = round(float(sum(to_avg)/len(to_avg)), 4)\n",
    "        del ent['description_embedding']\n",
    "        \n",
    "        #________Final score________\n",
    "        ent['final_score'] = round(float(ent['dependency_score'] + ent['person_in_description'] + ent['person_in_wikidata'] + ent['similarity_score']), 4)"
   ]
  },
  {
   "cell_type": "markdown",
   "metadata": {},
   "source": [
    "The algorithm works fine this way, however, you can add a context window and embed the contex window only instead of the full sentence in which the entity is mentioned.\n",
    "\n",
    "Code:\n",
    "\n",
    "````\n",
    "li = word_tokenize(s)  #word_tokenize(re.sub(r'\\W', ' ', s))\n",
    "idx = li.index(woa)\n",
    "if idx < 4:\n",
    "    start = 0\n",
    "    if len(li) < 9:\n",
    "        end = len(li)\n",
    "    else:\n",
    "        end = 9\n",
    "else:\n",
    "    if len(li) < 9:\n",
    "        start = 0\n",
    "        end = len(li)\n",
    "    else:\n",
    "        if idx + 4 > len(li):\n",
    "            future_tokens = len(li)-1-idx\n",
    "            past_tokens = 9 - future_tokens\n",
    "            if idx - past_tokens < 0:\n",
    "                start = 0\n",
    "            else:\n",
    "                start = idx - past_tokens\n",
    "            end = len(li)\n",
    "        \n",
    "context = ' '.join(li[start:end])\n",
    "``````"
   ]
  },
  {
   "cell_type": "markdown",
   "metadata": {},
   "source": [
    "Before going on with the other sections, I choose the entity with the highest score for each named entity and I store it in a dictionary.\n",
    "\n",
    "I consider relevance of output only in the case in which the final score of two or more candidates is the same."
   ]
  },
  {
   "cell_type": "code",
   "execution_count": 21,
   "metadata": {},
   "outputs": [
    {
     "data": {
      "text/plain": [
       "{'1984': {'id': 'Q208460',\n",
       "  'description': 'dystopian novel written by George Orwell',\n",
       "  'relevance': 5,\n",
       "  'dependency_score': 0,\n",
       "  'person_in_description': 1,\n",
       "  'person_in_wikidata': 3,\n",
       "  'similarity_score': 0.3814,\n",
       "  'final_score': 4.3814}}"
      ]
     },
     "execution_count": 21,
     "metadata": {},
     "output_type": "execute_result"
    }
   ],
   "source": [
    "chosen = {}\n",
    "for woa in candidates:\n",
    "    start = 0\n",
    "    best = ''\n",
    "    for ent in candidates[woa]:\n",
    "        if ent['final_score'] > start:\n",
    "            start = ent['final_score']\n",
    "            best = ent\n",
    "        elif ent['final_score'] == start:\n",
    "            if best['relevance'] < ent['relevance']:\n",
    "                best = ent\n",
    "        if candidates[woa].index(ent) == len(candidates[woa]) -1 and (best['final_score'] >= 1 or best['similarity_score'] >= 0.4):\n",
    "            chosen[woa] = best\n",
    "            \n",
    "chosen"
   ]
  },
  {
   "cell_type": "markdown",
   "metadata": {},
   "source": [
    "## 05. Wikipedia scraping and DBpedia links retrieval with BeautifulSoup and SPARQLWrapper"
   ]
  },
  {
   "cell_type": "markdown",
   "metadata": {},
   "source": [
    "Before start scrping the wikipedia page, we need its URL. Thus, I ask Wikidata for the URL of the page of the entity I am interested in. "
   ]
  },
  {
   "cell_type": "code",
   "execution_count": 22,
   "metadata": {},
   "outputs": [],
   "source": [
    "for woa in chosen:\n",
    "    query_string = \"\"\"SELECT ?URL\n",
    "                        WHERE {\n",
    "                            ?URL schema:about wd:\"\"\"+chosen[woa]['id']+\"\"\".\n",
    "                            ?URL schema:isPartOf <https://en.wikipedia.org/>.\n",
    "                    }\"\"\"\n",
    "    \n",
    "    res = return_sparql_query_results(query_string)\n",
    "    value = res['results']['bindings'][0]['URL']['value']\n",
    "    if value:\n",
    "        chosen[woa]['wikipedia_url'] = value"
   ]
  },
  {
   "cell_type": "markdown",
   "metadata": {},
   "source": [
    "Once added the URLs to the dictionary, I can start scraping the page of the different entities.\n",
    "\n",
    "For the project's aim, I am interested only in the main work of art referenced by the initial song. Therefore, I select the one with the highest score and I scrape its page."
   ]
  },
  {
   "cell_type": "code",
   "execution_count": 23,
   "metadata": {},
   "outputs": [
    {
     "data": {
      "text/plain": [
       "{'id': 'Q208460',\n",
       " 'description': 'dystopian novel written by George Orwell',\n",
       " 'relevance': 5,\n",
       " 'dependency_score': 0,\n",
       " 'person_in_description': 1,\n",
       " 'person_in_wikidata': 3,\n",
       " 'similarity_score': 0.3814,\n",
       " 'final_score': 4.3814,\n",
       " 'wikipedia_url': 'https://en.wikipedia.org/wiki/Nineteen_Eighty-Four',\n",
       " 'name': '1984'}"
      ]
     },
     "execution_count": 23,
     "metadata": {},
     "output_type": "execute_result"
    }
   ],
   "source": [
    "start = 0\n",
    "selected = ''\n",
    "for woa in chosen:\n",
    "    chosen[woa]['name'] = woa\n",
    "    if chosen[woa]['final_score'] > start:\n",
    "        start = chosen[woa]['final_score']\n",
    "        selected = chosen[woa]\n",
    "    elif chosen[woa]['final_score'] == start:\n",
    "        if selected['relevance'] < chosen[woa]['relevance']:\n",
    "            selected = chosen[woa]\n",
    "\n",
    "selected"
   ]
  },
  {
   "cell_type": "markdown",
   "metadata": {},
   "source": [
    "### Scraping the page with bs4 library"
   ]
  },
  {
   "cell_type": "markdown",
   "metadata": {},
   "source": [
    "I start by getting the URL from the song dictionary. Then, I make the request to the page and I parse the HTML with BeautifulSoup.\n",
    "\n",
    "I also cut the link of the page taking only the last part of the path and I store it in a variable for later use."
   ]
  },
  {
   "cell_type": "code",
   "execution_count": 24,
   "metadata": {},
   "outputs": [],
   "source": [
    "url = selected['wikipedia_url']\n",
    "cut_url = url.replace('https://en.wikipedia.org/wiki/', '')\n",
    "\n",
    "page = requests.get(url)\n",
    "soup = BeautifulSoup(page.content, \"html.parser\").select('body')[0]"
   ]
  },
  {
   "cell_type": "markdown",
   "metadata": {},
   "source": [
    "Inside the HTML page, i want to focus on specific section I know containing relavant information about the connections betweeen the searched entity and other relavant entities.\n",
    "\n",
    "Therefore I serach for all the `h2` tags containing a `span`tag whose text matches specific patterns. In particular I want to focs on the sections dealing with adaptations and cultural impact of the entity.\n",
    "\n",
    "Starting from the sections' titles, I serach for all the siblings being `ul` tags. In this way I can retrieve all the lists of references and links to other Wikipedia pages."
   ]
  },
  {
   "cell_type": "code",
   "execution_count": 25,
   "metadata": {},
   "outputs": [
    {
     "data": {
      "text/plain": [
       "[<li>In 1955, an episode of BBC's <i><a href=\"/wiki/The_Goon_Show\" title=\"The Goon Show\">The Goon Show</a></i>, <i>1985</i>, was broadcast, written by <a href=\"/wiki/Spike_Milligan\" title=\"Spike Milligan\">Spike Milligan</a> and <a href=\"/wiki/Eric_Sykes\" title=\"Eric Sykes\">Eric Sykes</a> and based on <a href=\"/wiki/Nigel_Kneale\" title=\"Nigel Kneale\">Nigel Kneale</a>'s <a class=\"mw-redirect\" href=\"/wiki/Nineteen_Eighty-Four_(UK_TV_programme)\" title=\"Nineteen Eighty-Four (UK TV programme)\">television adaptation</a>. It was re-recorded about a month later with the same script but a slightly different cast.<sup class=\"reference\" id=\"cite_ref-116\"><a href=\"#cite_note-116\">[116]</a></sup> <i>1985</i> parodies many of the main scenes in Orwell's novel.</li>,\n",
       " <li>In 1970, the American rock group <a href=\"/wiki/Spirit_(band)\" title=\"Spirit (band)\">Spirit</a> released the song \"1984\" based on Orwell's novel.</li>,\n",
       " <li>In 1973, ex-<a href=\"/wiki/Soft_Machine\" title=\"Soft Machine\">Soft Machine</a> bassist <a href=\"/wiki/Hugh_Hopper\" title=\"Hugh Hopper\">Hugh Hopper</a> released an album called <i>1984</i> on the Columbia label (UK), consisting of instrumentals with Orwellian titles such as \"Miniluv\", \"Minipax\", \"Minitrue\", and so forth.</li>,\n",
       " <li>In 1974, <a href=\"/wiki/David_Bowie\" title=\"David Bowie\">David Bowie</a> released the album <i><a href=\"/wiki/Diamond_Dogs\" title=\"Diamond Dogs\">Diamond Dogs</a></i>, which is thought to be loosely based on the novel <i>Nineteen Eighty-Four</i>. It includes the tracks \"<a class=\"mw-redirect\" href=\"/wiki/We_Are_the_Dead_(song)\" title=\"We Are the Dead (song)\">We Are The Dead</a>\", \"1984\" and \"Big Brother\". Before the album was made, Bowie's management (MainMan) had planned for Bowie and Tony Ingrassia (MainMan's creative consultant) to co-write and direct a musical production of Orwell's <i>Nineteen Eighty-Four</i>, but Orwell's widow refused to give MainMan the rights.<sup class=\"reference\" id=\"cite_ref-117\"><a href=\"#cite_note-117\">[117]</a></sup><sup class=\"reference\" id=\"cite_ref-118\"><a href=\"#cite_note-118\">[118]</a></sup></li>,\n",
       " <li>In 1977, the British rock band <a href=\"/wiki/The_Jam\" title=\"The Jam\">The Jam</a> released the album <i><a href=\"/wiki/This_Is_the_Modern_World\" title=\"This Is the Modern World\">This Is the Modern World</a></i>, which includes the track \"Standards\" by <a href=\"/wiki/Paul_Weller\" title=\"Paul Weller\">Paul Weller</a>. This track concludes with the lyrics \"...and ignorance is strength, we have God on our side, look, you know what happened to Winston.\"<sup class=\"reference\" id=\"cite_ref-1984_songs_119-0\"><a href=\"#cite_note-1984_songs-119\">[119]</a></sup></li>,\n",
       " <li>In 1984, <a href=\"/wiki/Ridley_Scott\" title=\"Ridley Scott\">Ridley Scott</a> directed a television commercial, \"<a href=\"/wiki/1984_(advertisement)\" title=\"1984 (advertisement)\">1984</a>\", to launch <a href=\"/wiki/Apple_Inc.\" title=\"Apple Inc.\">Apple</a>'s <a class=\"mw-redirect\" href=\"/wiki/Apple_Macintosh\" title=\"Apple Macintosh\">Macintosh</a> computer.<sup class=\"reference\" id=\"cite_ref-120\"><a href=\"#cite_note-120\">[120]</a></sup> The advert stated, \"1984 won't be like <i>1984</i>\", suggesting that the Apple Mac would be freedom from Big Brother, i.e., the IBM PC.<sup class=\"reference\" id=\"cite_ref-121\"><a href=\"#cite_note-121\">[121]</a></sup></li>,\n",
       " <li>An episode of <i><a href=\"/wiki/Doctor_Who\" title=\"Doctor Who\">Doctor Who</a></i>, called \"<a href=\"/wiki/The_God_Complex\" title=\"The God Complex\">The God Complex</a>\", depicts an alien ship disguised as a hotel containing Room 101-like spaces, and quotes the <a href=\"/wiki/Oranges_and_Lemons#In_popular_culture\" title=\"Oranges and Lemons\">nursery rhyme</a> as well.<sup class=\"reference\" id=\"cite_ref-RTComplex_122-0\"><a href=\"#cite_note-RTComplex-122\">[122]</a></sup></li>,\n",
       " <li>The two part episode <a href=\"/wiki/Chain_of_Command_(Star_Trek:_The_Next_Generation)\" title=\"Chain of Command (Star Trek: The Next Generation)\">Chain of Command</a> on <i><a href=\"/wiki/Star_Trek:_The_Next_Generation\" title=\"Star Trek: The Next Generation\">Star Trek: The Next Generation</a></i> bears some resemblances to the novel.<sup class=\"reference\" id=\"cite_ref-123\"><a href=\"#cite_note-123\">[123]</a></sup></li>,\n",
       " <li><a href=\"/wiki/Radiohead\" title=\"Radiohead\">Radiohead</a>'s 2003 single \"<a href=\"/wiki/2_%2B_2_%3D_5_(song)\" title=\"2 + 2 = 5 (song)\">2 + 2 = 5</a>\", from their album <i><a href=\"/wiki/Hail_to_the_Thief\" title=\"Hail to the Thief\">Hail to the Thief</a></i>, is Orwellian by title and content. <a href=\"/wiki/Thom_Yorke\" title=\"Thom Yorke\">Thom Yorke</a> states, \"I was listening to a lot of political programs on <a href=\"/wiki/BBC_Radio_4\" title=\"BBC Radio 4\">BBC Radio 4</a>. I found myself writing down little nonsense phrases, those Orwellian euphemisms that [the British and American governments] are so fond of. They became the background of the record.\"<sup class=\"reference\" id=\"cite_ref-1984_songs_119-1\"><a href=\"#cite_note-1984_songs-119\">[119]</a></sup></li>,\n",
       " <li>In September 2009, the English progressive rock band <a href=\"/wiki/Muse_(band)\" title=\"Muse (band)\">Muse</a> released <i><a href=\"/wiki/The_Resistance_(album)\" title=\"The Resistance (album)\">The Resistance</a></i>, which included songs influenced by <i>Nineteen Eighty-Four</i>.<sup class=\"reference\" id=\"cite_ref-124\"><a href=\"#cite_note-124\">[124]</a></sup></li>,\n",
       " <li>In <a href=\"/wiki/Marilyn_Manson\" title=\"Marilyn Manson\">Marilyn Manson</a>'s autobiography <i>The Long Hard Road Out of Hell</i>, he states: \"I was thoroughly terrified by the idea of the end of the world and the Antichrist. So I became obsessed with it... reading prophetic books like... 1984 by George Orwell...\"<sup class=\"reference\" id=\"cite_ref-125\"><a href=\"#cite_note-125\">[125]</a></sup></li>,\n",
       " <li>English band <a href=\"/wiki/Bastille_(band)\" title=\"Bastille (band)\">Bastille</a> references the novel in their song \"Back to the Future\", the fifth track on their 2022 album <i><a href=\"/wiki/Give_Me_the_Future\" title=\"Give Me the Future\">Give Me the Future</a></i>, in the opening lyrics: \"Feels like we danced into a nightmare/We're living 1984/If doublethink's no longer fiction/We'll dream of Huxley's Island shores.\"<sup class=\"reference\" id=\"cite_ref-126\"><a href=\"#cite_note-126\">[126]</a></sup></li>,\n",
       " <li>Released in 2004, KAKU P-Model/<a href=\"/wiki/Susumu_Hirasawa\" title=\"Susumu Hirasawa\">Susumu Hirasawa</a>'s song Big Brother directly references 1984, and the album itself is about a fictional dystopia in a distant future.</li>,\n",
       " <li>In November 2012, the <a class=\"mw-redirect\" href=\"/wiki/US_government\" title=\"US government\">US government</a> argued before the <a class=\"mw-redirect\" href=\"/wiki/US_Supreme_Court\" title=\"US Supreme Court\">US Supreme Court</a> that it wants to continue <a href=\"/wiki/United_States_v._Jones_(2012)\" title=\"United States v. Jones (2012)\">utilising GPS tracking of individuals</a> without first seeking a warrant. In response, Justice <a href=\"/wiki/Stephen_Breyer\" title=\"Stephen Breyer\">Stephen Breyer</a> questioned what that means for a democratic society by referencing <i>Nineteen Eighty-Four</i>. Justice Breyer asked, \"If you win this case, then there is nothing to prevent the police or the government from monitoring 24 hours a day the public movement of every citizen of the United States. So if you win, you suddenly produce what sounds like Nineteen Eighty-Four... \"<sup class=\"reference\" id=\"cite_ref-127\"><a href=\"#cite_note-127\">[127]</a></sup></li>]"
      ]
     },
     "execution_count": 25,
     "metadata": {},
     "output_type": "execute_result"
    }
   ],
   "source": [
    "spans = soup.find_all('span', string=[re.compile('^(Cultural)? [Ii]mpact$'), re.compile('^[Aa]daptations?')])\n",
    "\n",
    "h2_tags = [span.parent for span in spans if span.parent.name == 'h2']\n",
    "\n",
    "li_tags = []\n",
    "for h2 in h2_tags:\n",
    "    for el in h2.next_siblings:\n",
    "        if el.name == 'h2':\n",
    "            break\n",
    "        if el.name == 'ul':\n",
    "            li_tags.extend(el.find_all('li'))\n",
    "\n",
    "li_tags"
   ]
  },
  {
   "cell_type": "markdown",
   "metadata": {},
   "source": [
    "### Querying DBpedia for wikipedia links"
   ]
  },
  {
   "cell_type": "markdown",
   "metadata": {},
   "source": [
    "For the wikipedia page I found, I want to retrieve the DBpedia page. I do that by means of a SPARQL query.\n",
    "\n",
    "Once I get the DBpedia page, I ask for all the links to other DBpedia pages of entities whose class is relevant for my search."
   ]
  },
  {
   "cell_type": "code",
   "execution_count": 26,
   "metadata": {},
   "outputs": [],
   "source": [
    "db_query = \"\"\"\n",
    "        PREFIX dbo: <http://dbpedia.org/ontology/>\n",
    "        PREFIX xsd: <http://www.w3.org/2001/XMLSchema#>\n",
    "        PREFIX foaf: <http://xmlns.com/foaf/0.1/>\n",
    "        PREFIX wikipedia-en: <http://en.wikipedia.org/wiki/>\n",
    "        PREFIX schema: <http://schema.org/>\n",
    "        PREFIX rdf: <http://www.w3.org/1999/02/22-rdf-syntax-ns#>\n",
    "        PREFIX xml: <http://www.w3.org/XML/1998/namespace>\n",
    "\n",
    "        SELECT DISTINCT ?wikiLinks ?type ?dbEntities ?label\n",
    "        WHERE { \n",
    "                VALUES ?type { dbo:Artist dbo:MusicalWork dbo:Artwork dbo:Film dbo:TelevisionShow dbo:TelevisionSeason dbo:TelevisionEpisode dbo:Poem dbo:Book dbo:Comic dbo:Play dbo:Group} #dbo:Person dbo:WrittenWork  dbo:RadioProgram \n",
    "                ?entity foaf:isPrimaryTopicOf wikipedia-en:\"\"\"+cut_url+\"\"\";\n",
    "                        dbo:wikiPageWikiLink ?dbEntities.\n",
    "                ?dbEntities rdf:type ?type;\n",
    "                        foaf:isPrimaryTopicOf ?wikiLinks;\n",
    "                        rdfs:label ?label.\n",
    "                FILTER(langMatches(lang(?label),\"EN\"))\n",
    "                }\n",
    "        \"\"\"\n",
    "\n",
    "sparql = SPARQLWrapper(\"http://dbpedia.org/sparql\")\n",
    "sparql.setReturnFormat(JSON)\n",
    "sparql.setQuery(db_query)"
   ]
  },
  {
   "cell_type": "markdown",
   "metadata": {},
   "source": [
    "I perform the query and analyse the resuts storing in different lists teh links to the different entities and their class. I use lists for maintaining the order of the results."
   ]
  },
  {
   "cell_type": "code",
   "execution_count": 27,
   "metadata": {},
   "outputs": [
    {
     "name": "stdout",
     "output_type": "stream",
     "text": [
      "['/wiki/The_Children_of_Men', '/wiki/Under_the_Spreading_Chestnut_Tree', '/wiki/Bastille_(band)', '/wiki/Hugh_Hopper', '/wiki/Betrayal_of_the_Left', '/wiki/Paul_Weller', '/wiki/V_for_Vendetta', '/wiki/V_for_Vendetta_(film)', '/wiki/The_Jam', '/wiki/1984_(1956_film)', '/wiki/1984_(Westinghouse_Studio_One)', '/wiki/1984_(advertisement)', '/wiki/1984_(opera)', '/wiki/1984_(play)', '/wiki/Give_Me_the_Future', '/wiki/Muse_(band)', '/wiki/NBC_University_Theatre', '/wiki/The_Resistance_(album)', '/wiki/The_Theory_and_Practice_of_Oligarchical_Collectivism', '/wiki/This_Is_the_Modern_World', '/wiki/Animal_Farm', '/wiki/Linguistic_relativity', '/wiki/Star_Trek:_The_Next_Generation', '/wiki/Studio_One_(American_TV_series)', '/wiki/Coming_Up_for_Air', '/wiki/Pastiche', '/wiki/Spirit_(band)', '/wiki/Darkness_at_Noon', '/wiki/Virtual_Light', '/wiki/The_Captive_Mind', '/wiki/2_+_2_=_5_(song)', '/wiki/Eric_Sykes', '/wiki/Brave_New_World', '/wiki/Nineteen_Eighty-Four_(1984_film)', '/wiki/Nineteen_Eighty-Four_(British_TV_programme)', '/wiki/Fahrenheit_451', '/wiki/Kallocain', '/wiki/The_Private_Eye', '/wiki/Hail_to_the_Thief', '/wiki/Harold_Bloom', '/wiki/The_God_Complex', '/wiki/The_God_Complex', '/wiki/The_Goon_Show', '/wiki/The_Goon_Show', \"/wiki/The_Handmaid's_Tale\", '/wiki/The_Iron_Heel', '/wiki/The_Revolution_Betrayed', \"/wiki/A_Clergyman's_Daughter\", '/wiki/A_Modern_Utopia', '/wiki/Chain_of_Command_(Star_Trek:_The_Next_Generation)', '/wiki/Susumu_Hirasawa', '/wiki/Homage_to_Catalonia', '/wiki/The_Lion_and_the_Unicorn:_Socialism_and_the_English_Genius', '/wiki/Diamond_Dogs', '/wiki/Doctor_Who', '/wiki/Philosophy', '/wiki/Soft_Machine', '/wiki/Great_Soviet_Encyclopedia', '/wiki/Oranges_and_Lemons', '/wiki/Radiohead', '/wiki/The_Shape_of_Things_to_Come', '/wiki/We_(novel)', '/wiki/The_Yogi_and_the_Commissar', '/wiki/Moscow_2042', '/wiki/Notes_on_Nationalism', '/wiki/The_Napoleon_of_Notting_Hill', '/wiki/Why_I_Write'] ['Book', 'MusicalWork', 'Group', 'Artist', 'Book', 'Artist', 'Book', 'Film', 'Group', 'Film', 'TelevisionEpisode', 'Film', 'TelevisionShow', 'Play', 'MusicalWork', 'Group', 'TelevisionShow', 'MusicalWork', 'Book', 'MusicalWork', 'Book', 'Book', 'TelevisionShow', 'TelevisionShow', 'Book', 'Book', 'Group', 'Book', 'Book', 'Book', 'MusicalWork', 'Artist', 'Book', 'Film', 'TelevisionShow', 'Book', 'Book', 'TelevisionShow', 'MusicalWork', 'Artist', 'TelevisionEpisode', 'TelevisionShow', 'Film', 'TelevisionShow', 'Book', 'Book', 'Book', 'Book', 'Book', 'TelevisionEpisode', 'Artist', 'Book', 'Book', 'MusicalWork', 'TelevisionShow', 'Book', 'Group', 'Book', 'MusicalWork', 'Group', 'Book', 'Book', 'Book', 'Book', 'Book', 'Book', 'Book'] ['http://dbpedia.org/resource/The_Children_of_Men', 'http://dbpedia.org/resource/Under_the_Spreading_Chestnut_Tree', 'http://dbpedia.org/resource/Bastille_(band)', 'http://dbpedia.org/resource/Hugh_Hopper', 'http://dbpedia.org/resource/Betrayal_of_the_Left', 'http://dbpedia.org/resource/Paul_Weller', 'http://dbpedia.org/resource/V_for_Vendetta', 'http://dbpedia.org/resource/V_for_Vendetta_(film)', 'http://dbpedia.org/resource/The_Jam', 'http://dbpedia.org/resource/1984_(1956_film)', 'http://dbpedia.org/resource/1984_(Westinghouse_Studio_One)', 'http://dbpedia.org/resource/1984_(advertisement)', 'http://dbpedia.org/resource/1984_(opera)', 'http://dbpedia.org/resource/1984_(play)', 'http://dbpedia.org/resource/Give_Me_the_Future', 'http://dbpedia.org/resource/Muse_(band)', 'http://dbpedia.org/resource/NBC_University_Theatre', 'http://dbpedia.org/resource/The_Resistance_(album)', 'http://dbpedia.org/resource/The_Theory_and_Practice_of_Oligarchical_Collectivism', 'http://dbpedia.org/resource/This_Is_the_Modern_World', 'http://dbpedia.org/resource/Animal_Farm', 'http://dbpedia.org/resource/Linguistic_relativity', 'http://dbpedia.org/resource/Star_Trek:_The_Next_Generation', 'http://dbpedia.org/resource/Studio_One_(American_TV_series)', 'http://dbpedia.org/resource/Coming_Up_for_Air', 'http://dbpedia.org/resource/Pastiche', 'http://dbpedia.org/resource/Spirit_(band)', 'http://dbpedia.org/resource/Darkness_at_Noon', 'http://dbpedia.org/resource/Virtual_Light', 'http://dbpedia.org/resource/The_Captive_Mind', 'http://dbpedia.org/resource/2_+_2_=_5_(song)', 'http://dbpedia.org/resource/Eric_Sykes', 'http://dbpedia.org/resource/Brave_New_World', 'http://dbpedia.org/resource/Nineteen_Eighty-Four_(1984_film)', 'http://dbpedia.org/resource/Nineteen_Eighty-Four_(British_TV_programme)', 'http://dbpedia.org/resource/Fahrenheit_451', 'http://dbpedia.org/resource/Kallocain', 'http://dbpedia.org/resource/The_Private_Eye', 'http://dbpedia.org/resource/Hail_to_the_Thief', 'http://dbpedia.org/resource/Harold_Bloom', 'http://dbpedia.org/resource/The_God_Complex', 'http://dbpedia.org/resource/The_God_Complex', 'http://dbpedia.org/resource/The_Goon_Show', 'http://dbpedia.org/resource/The_Goon_Show', \"http://dbpedia.org/resource/The_Handmaid's_Tale\", 'http://dbpedia.org/resource/The_Iron_Heel', 'http://dbpedia.org/resource/The_Revolution_Betrayed', \"http://dbpedia.org/resource/A_Clergyman's_Daughter\", 'http://dbpedia.org/resource/A_Modern_Utopia', 'http://dbpedia.org/resource/Chain_of_Command_(Star_Trek:_The_Next_Generation)', 'http://dbpedia.org/resource/Susumu_Hirasawa', 'http://dbpedia.org/resource/Homage_to_Catalonia', 'http://dbpedia.org/resource/The_Lion_and_the_Unicorn:_Socialism_and_the_English_Genius', 'http://dbpedia.org/resource/Diamond_Dogs', 'http://dbpedia.org/resource/Doctor_Who', 'http://dbpedia.org/resource/Philosophy', 'http://dbpedia.org/resource/Soft_Machine', 'http://dbpedia.org/resource/Great_Soviet_Encyclopedia', 'http://dbpedia.org/resource/Oranges_and_Lemons', 'http://dbpedia.org/resource/Radiohead', 'http://dbpedia.org/resource/The_Shape_of_Things_to_Come', 'http://dbpedia.org/resource/We_(novel)', 'http://dbpedia.org/resource/The_Yogi_and_the_Commissar', 'http://dbpedia.org/resource/Moscow_2042', 'http://dbpedia.org/resource/Notes_on_Nationalism', 'http://dbpedia.org/resource/The_Napoleon_of_Notting_Hill', 'http://dbpedia.org/resource/Why_I_Write'] ['The Children of Men', 'Under the Spreading Chestnut Tree', 'Bastille (band)', 'Hugh Hopper', 'Betrayal of the Left', 'Paul Weller', 'V for Vendetta', 'V for Vendetta (film)', 'The Jam', '1984 (1956 film)', '1984 (Westinghouse Studio One)', '1984 (advertisement)', '1984 (opera)', '1984 (play)', 'Give Me the Future', 'Muse (band)', 'NBC University Theatre', 'The Resistance (album)', 'The Theory and Practice of Oligarchical Collectivism', 'This Is the Modern World', 'Animal Farm', 'Linguistic relativity', 'Star Trek: The Next Generation', 'Studio One (American TV series)', 'Coming Up for Air', 'Pastiche', 'Spirit (band)', 'Darkness at Noon', 'Virtual Light', 'The Captive Mind', '2 + 2 = 5 (song)', 'Eric Sykes', 'Brave New World', 'Nineteen Eighty-Four (1984 film)', 'Nineteen Eighty-Four (British TV programme)', 'Fahrenheit 451', 'Kallocain', 'The Private Eye', 'Hail to the Thief', 'Harold Bloom', 'The God Complex', 'The God Complex', 'The Goon Show', 'The Goon Show', \"The Handmaid's Tale\", 'The Iron Heel', 'The Revolution Betrayed', \"A Clergyman's Daughter\", 'A Modern Utopia', 'Chain of Command (Star Trek: The Next Generation)', 'Susumu Hirasawa', 'Homage to Catalonia', 'The Lion and the Unicorn: Socialism and the English Genius', 'Diamond Dogs', 'Doctor Who', 'Philosophy', 'Soft Machine', 'Great Soviet Encyclopedia', 'Oranges and Lemons', 'Radiohead', 'The Shape of Things to Come', 'We (novel)', 'The Yogi and the Commissar', 'Moscow 2042', 'Notes on Nationalism', 'The Napoleon of Notting Hill', 'Why I Write']\n"
     ]
    }
   ],
   "source": [
    "db_res = sparql.query().convert()['results']['bindings']\n",
    "\n",
    "links = [i['wikiLinks']['value'].replace('http://en.wikipedia.org', '') for i in db_res]\n",
    "classes = [i['type']['value'].replace('http://dbpedia.org/ontology/', '') for i in db_res]\n",
    "db_uri = [i['dbEntities']['value'] for i in db_res]\n",
    "label = [i['label']['value'] for i in db_res]\n",
    "\n",
    "print(links, classes, db_uri, label)"
   ]
  },
  {
   "cell_type": "markdown",
   "metadata": {},
   "source": [
    "### Using DBpedia links and Wikipedia page for understanding more abot entities connections"
   ]
  },
  {
   "cell_type": "markdown",
   "metadata": {},
   "source": [
    "First, I define an empty dictionary that I compile with the information I retrieve from the DBpedia page. For each link to an entity I retrieve in the wikipedia lists, if it is one of the links I retrieved from DBpedia, i store it in the dictionary along with the text contained in the `a` tag of the Wikipedia link, the class of the entity, and the internal id i set for the entity."
   ]
  },
  {
   "cell_type": "code",
   "execution_count": 28,
   "metadata": {},
   "outputs": [
    {
     "data": {
      "text/plain": [
       "{'<a href=\"/wiki/Bastille_(band)\" title=\"Bastille (band)\">Bastille</a>': {'wikipedia link': '/wiki/Bastille_(band)',\n",
       "  'text': ['Bastille'],\n",
       "  'entity id': 'Entity-1',\n",
       "  'class': 'Group',\n",
       "  'label': 'Bastille (band)',\n",
       "  'db_uri': 'http://dbpedia.org/resource/Bastille_(band)'},\n",
       " '<a href=\"/wiki/Hugh_Hopper\" title=\"Hugh Hopper\">Hugh Hopper</a>': {'wikipedia link': '/wiki/Hugh_Hopper',\n",
       "  'text': ['Hugh Hopper'],\n",
       "  'entity id': 'Entity-2',\n",
       "  'class': 'Artist',\n",
       "  'label': 'Hugh Hopper',\n",
       "  'db_uri': 'http://dbpedia.org/resource/Hugh_Hopper'},\n",
       " '<a href=\"/wiki/Paul_Weller\" title=\"Paul Weller\">Paul Weller</a>': {'wikipedia link': '/wiki/Paul_Weller',\n",
       "  'text': ['Paul Weller'],\n",
       "  'entity id': 'Entity-3',\n",
       "  'class': 'Artist',\n",
       "  'label': 'Paul Weller',\n",
       "  'db_uri': 'http://dbpedia.org/resource/Paul_Weller'},\n",
       " '<a href=\"/wiki/The_Jam\" title=\"The Jam\">The Jam</a>': {'wikipedia link': '/wiki/The_Jam',\n",
       "  'text': ['The Jam'],\n",
       "  'entity id': 'Entity-4',\n",
       "  'class': 'Group',\n",
       "  'label': 'The Jam',\n",
       "  'db_uri': 'http://dbpedia.org/resource/The_Jam'},\n",
       " '<a href=\"/wiki/1984_(advertisement)\" title=\"1984 (advertisement)\">1984</a>': {'wikipedia link': '/wiki/1984_(advertisement)',\n",
       "  'text': ['1984'],\n",
       "  'entity id': 'Entity-5',\n",
       "  'class': 'Film',\n",
       "  'label': '1984 (advertisement)',\n",
       "  'db_uri': 'http://dbpedia.org/resource/1984_(advertisement)'},\n",
       " '<a href=\"/wiki/Give_Me_the_Future\" title=\"Give Me the Future\">Give Me the Future</a>': {'wikipedia link': '/wiki/Give_Me_the_Future',\n",
       "  'text': ['Give Me the Future'],\n",
       "  'entity id': 'Entity-6',\n",
       "  'class': 'MusicalWork',\n",
       "  'label': 'Give Me the Future',\n",
       "  'db_uri': 'http://dbpedia.org/resource/Give_Me_the_Future'},\n",
       " '<a href=\"/wiki/Muse_(band)\" title=\"Muse (band)\">Muse</a>': {'wikipedia link': '/wiki/Muse_(band)',\n",
       "  'text': ['Muse'],\n",
       "  'entity id': 'Entity-7',\n",
       "  'class': 'Group',\n",
       "  'label': 'Muse (band)',\n",
       "  'db_uri': 'http://dbpedia.org/resource/Muse_(band)'},\n",
       " '<a href=\"/wiki/The_Resistance_(album)\" title=\"The Resistance (album)\">The Resistance</a>': {'wikipedia link': '/wiki/The_Resistance_(album)',\n",
       "  'text': ['The Resistance'],\n",
       "  'entity id': 'Entity-8',\n",
       "  'class': 'MusicalWork',\n",
       "  'label': 'The Resistance (album)',\n",
       "  'db_uri': 'http://dbpedia.org/resource/The_Resistance_(album)'},\n",
       " '<a href=\"/wiki/This_Is_the_Modern_World\" title=\"This Is the Modern World\">This Is the Modern World</a>': {'wikipedia link': '/wiki/This_Is_the_Modern_World',\n",
       "  'text': ['This Is the Modern World'],\n",
       "  'entity id': 'Entity-9',\n",
       "  'class': 'MusicalWork',\n",
       "  'label': 'This Is the Modern World',\n",
       "  'db_uri': 'http://dbpedia.org/resource/This_Is_the_Modern_World'},\n",
       " '<a href=\"/wiki/Star_Trek:_The_Next_Generation\" title=\"Star Trek: The Next Generation\">Star Trek: The Next Generation</a>': {'wikipedia link': '/wiki/Star_Trek:_The_Next_Generation',\n",
       "  'text': ['Star Trek: The Next Generation'],\n",
       "  'entity id': 'Entity-10',\n",
       "  'class': 'TelevisionShow',\n",
       "  'label': 'Star Trek: The Next Generation',\n",
       "  'db_uri': 'http://dbpedia.org/resource/Star_Trek:_The_Next_Generation'},\n",
       " '<a href=\"/wiki/Spirit_(band)\" title=\"Spirit (band)\">Spirit</a>': {'wikipedia link': '/wiki/Spirit_(band)',\n",
       "  'text': ['Spirit'],\n",
       "  'entity id': 'Entity-11',\n",
       "  'class': 'Group',\n",
       "  'label': 'Spirit (band)',\n",
       "  'db_uri': 'http://dbpedia.org/resource/Spirit_(band)'},\n",
       " '<a href=\"/wiki/2_%2B_2_%3D_5_(song)\" title=\"2 + 2 = 5 (song)\">2 + 2 = 5</a>': {'wikipedia link': '/wiki/2_+_2_=_5_(song)',\n",
       "  'text': ['2 + 2 = 5'],\n",
       "  'entity id': 'Entity-12',\n",
       "  'class': 'MusicalWork',\n",
       "  'label': '2 + 2 = 5 (song)',\n",
       "  'db_uri': 'http://dbpedia.org/resource/2_+_2_=_5_(song)'},\n",
       " '<a href=\"/wiki/Eric_Sykes\" title=\"Eric Sykes\">Eric Sykes</a>': {'wikipedia link': '/wiki/Eric_Sykes',\n",
       "  'text': ['Eric Sykes'],\n",
       "  'entity id': 'Entity-13',\n",
       "  'class': 'Artist',\n",
       "  'label': 'Eric Sykes',\n",
       "  'db_uri': 'http://dbpedia.org/resource/Eric_Sykes'},\n",
       " '<a href=\"/wiki/Hail_to_the_Thief\" title=\"Hail to the Thief\">Hail to the Thief</a>': {'wikipedia link': '/wiki/Hail_to_the_Thief',\n",
       "  'text': ['Hail to the Thief'],\n",
       "  'entity id': 'Entity-14',\n",
       "  'class': 'MusicalWork',\n",
       "  'label': 'Hail to the Thief',\n",
       "  'db_uri': 'http://dbpedia.org/resource/Hail_to_the_Thief'},\n",
       " '<a href=\"/wiki/The_God_Complex\" title=\"The God Complex\">The God Complex</a>': {'wikipedia link': '/wiki/The_God_Complex',\n",
       "  'text': ['The God Complex'],\n",
       "  'entity id': 'Entity-15',\n",
       "  'class': 'TelevisionEpisode',\n",
       "  'label': 'The God Complex',\n",
       "  'db_uri': 'http://dbpedia.org/resource/The_God_Complex'},\n",
       " '<a href=\"/wiki/The_Goon_Show\" title=\"The Goon Show\">The Goon Show</a>': {'wikipedia link': '/wiki/The_Goon_Show',\n",
       "  'text': ['The Goon Show'],\n",
       "  'entity id': 'Entity-16',\n",
       "  'class': 'Film',\n",
       "  'label': 'The Goon Show',\n",
       "  'db_uri': 'http://dbpedia.org/resource/The_Goon_Show'},\n",
       " '<a href=\"/wiki/Chain_of_Command_(Star_Trek:_The_Next_Generation)\" title=\"Chain of Command (Star Trek: The Next Generation)\">Chain of Command</a>': {'wikipedia link': '/wiki/Chain_of_Command_(Star_Trek:_The_Next_Generation)',\n",
       "  'text': ['Chain of Command'],\n",
       "  'entity id': 'Entity-17',\n",
       "  'class': 'TelevisionEpisode',\n",
       "  'label': 'Chain of Command (Star Trek: The Next Generation)',\n",
       "  'db_uri': 'http://dbpedia.org/resource/Chain_of_Command_(Star_Trek:_The_Next_Generation)'},\n",
       " '<a href=\"/wiki/Susumu_Hirasawa\" title=\"Susumu Hirasawa\">Susumu Hirasawa</a>': {'wikipedia link': '/wiki/Susumu_Hirasawa',\n",
       "  'text': ['Susumu Hirasawa'],\n",
       "  'entity id': 'Entity-18',\n",
       "  'class': 'Artist',\n",
       "  'label': 'Susumu Hirasawa',\n",
       "  'db_uri': 'http://dbpedia.org/resource/Susumu_Hirasawa'},\n",
       " '<a href=\"/wiki/Diamond_Dogs\" title=\"Diamond Dogs\">Diamond Dogs</a>': {'wikipedia link': '/wiki/Diamond_Dogs',\n",
       "  'text': ['Diamond Dogs'],\n",
       "  'entity id': 'Entity-19',\n",
       "  'class': 'MusicalWork',\n",
       "  'label': 'Diamond Dogs',\n",
       "  'db_uri': 'http://dbpedia.org/resource/Diamond_Dogs'},\n",
       " '<a href=\"/wiki/Doctor_Who\" title=\"Doctor Who\">Doctor Who</a>': {'wikipedia link': '/wiki/Doctor_Who',\n",
       "  'text': ['Doctor Who'],\n",
       "  'entity id': 'Entity-20',\n",
       "  'class': 'TelevisionShow',\n",
       "  'label': 'Doctor Who',\n",
       "  'db_uri': 'http://dbpedia.org/resource/Doctor_Who'},\n",
       " '<a href=\"/wiki/Soft_Machine\" title=\"Soft Machine\">Soft Machine</a>': {'wikipedia link': '/wiki/Soft_Machine',\n",
       "  'text': ['Soft Machine'],\n",
       "  'entity id': 'Entity-21',\n",
       "  'class': 'Group',\n",
       "  'label': 'Soft Machine',\n",
       "  'db_uri': 'http://dbpedia.org/resource/Soft_Machine'},\n",
       " '<a href=\"/wiki/Oranges_and_Lemons#In_popular_culture\" title=\"Oranges and Lemons\">nursery rhyme</a>': {'wikipedia link': '/wiki/Oranges_and_Lemons',\n",
       "  'text': ['nursery rhyme'],\n",
       "  'entity id': 'Entity-22',\n",
       "  'class': 'MusicalWork',\n",
       "  'label': 'Oranges and Lemons',\n",
       "  'db_uri': 'http://dbpedia.org/resource/Oranges_and_Lemons'},\n",
       " '<a href=\"/wiki/Radiohead\" title=\"Radiohead\">Radiohead</a>': {'wikipedia link': '/wiki/Radiohead',\n",
       "  'text': ['Radiohead'],\n",
       "  'entity id': 'Entity-23',\n",
       "  'class': 'Group',\n",
       "  'label': 'Radiohead',\n",
       "  'db_uri': 'http://dbpedia.org/resource/Radiohead'}}"
      ]
     },
     "execution_count": 28,
     "metadata": {},
     "output_type": "execute_result"
    }
   ],
   "source": [
    "wld = {}\n",
    "\n",
    "ent_id = 0\n",
    "for link in links:\n",
    "    for li in li_tags:\n",
    "        a_tags = li.find_all('a')\n",
    "\n",
    "        for a in a_tags:\n",
    "            href = a.get('href')\n",
    "            if href == link or urllib.parse.unquote(href) == link or re.sub(r'#.+', '', href) == link: #I use the unquote function to convert the %20 in the link to spaces\n",
    "                ls = str(a)\n",
    "                if ls not in wld:\n",
    "                    ent_id += 1\n",
    "                    wld[ls] = {\"wikipedia link\": link, \"text\": [], \"entity id\": \"Entity-\"+str(ent_id), 'class': classes[links.index(link)], 'label': label[links.index(link)],'db_uri': db_uri[links.index(link)]}\n",
    "                if a.text not in wld[ls][\"text\"]:\n",
    "                    wld[ls]['text'].append(a.text)\n",
    "\n",
    "\n",
    "wld"
   ]
  },
  {
   "cell_type": "markdown",
   "metadata": {},
   "source": [
    "Now I build another dictionary that I will use in the next section where i use internal ids as keys and other information as values."
   ]
  },
  {
   "cell_type": "code",
   "execution_count": 29,
   "metadata": {},
   "outputs": [
    {
     "data": {
      "text/plain": [
       "{'Entity-1': ('/wiki/Bastille_(band)',\n",
       "  'Group',\n",
       "  'http://dbpedia.org/resource/Bastille_(band)',\n",
       "  'Bastille (band)'),\n",
       " 'Entity-2': ('/wiki/Hugh_Hopper',\n",
       "  'Artist',\n",
       "  'http://dbpedia.org/resource/Hugh_Hopper',\n",
       "  'Hugh Hopper'),\n",
       " 'Entity-3': ('/wiki/Paul_Weller',\n",
       "  'Artist',\n",
       "  'http://dbpedia.org/resource/Paul_Weller',\n",
       "  'Paul Weller'),\n",
       " 'Entity-4': ('/wiki/The_Jam',\n",
       "  'Group',\n",
       "  'http://dbpedia.org/resource/The_Jam',\n",
       "  'The Jam'),\n",
       " 'Entity-5': ('/wiki/1984_(advertisement)',\n",
       "  'Film',\n",
       "  'http://dbpedia.org/resource/1984_(advertisement)',\n",
       "  '1984 (advertisement)'),\n",
       " 'Entity-6': ('/wiki/Give_Me_the_Future',\n",
       "  'MusicalWork',\n",
       "  'http://dbpedia.org/resource/Give_Me_the_Future',\n",
       "  'Give Me the Future'),\n",
       " 'Entity-7': ('/wiki/Muse_(band)',\n",
       "  'Group',\n",
       "  'http://dbpedia.org/resource/Muse_(band)',\n",
       "  'Muse (band)'),\n",
       " 'Entity-8': ('/wiki/The_Resistance_(album)',\n",
       "  'MusicalWork',\n",
       "  'http://dbpedia.org/resource/The_Resistance_(album)',\n",
       "  'The Resistance (album)'),\n",
       " 'Entity-9': ('/wiki/This_Is_the_Modern_World',\n",
       "  'MusicalWork',\n",
       "  'http://dbpedia.org/resource/This_Is_the_Modern_World',\n",
       "  'This Is the Modern World'),\n",
       " 'Entity-10': ('/wiki/Star_Trek:_The_Next_Generation',\n",
       "  'TelevisionShow',\n",
       "  'http://dbpedia.org/resource/Star_Trek:_The_Next_Generation',\n",
       "  'Star Trek: The Next Generation'),\n",
       " 'Entity-11': ('/wiki/Spirit_(band)',\n",
       "  'Group',\n",
       "  'http://dbpedia.org/resource/Spirit_(band)',\n",
       "  'Spirit (band)'),\n",
       " 'Entity-12': ('/wiki/2_+_2_=_5_(song)',\n",
       "  'MusicalWork',\n",
       "  'http://dbpedia.org/resource/2_+_2_=_5_(song)',\n",
       "  '2 + 2 = 5 (song)'),\n",
       " 'Entity-13': ('/wiki/Eric_Sykes',\n",
       "  'Artist',\n",
       "  'http://dbpedia.org/resource/Eric_Sykes',\n",
       "  'Eric Sykes'),\n",
       " 'Entity-14': ('/wiki/Hail_to_the_Thief',\n",
       "  'MusicalWork',\n",
       "  'http://dbpedia.org/resource/Hail_to_the_Thief',\n",
       "  'Hail to the Thief'),\n",
       " 'Entity-15': ('/wiki/The_God_Complex',\n",
       "  'TelevisionEpisode',\n",
       "  'http://dbpedia.org/resource/The_God_Complex',\n",
       "  'The God Complex'),\n",
       " 'Entity-16': ('/wiki/The_Goon_Show',\n",
       "  'Film',\n",
       "  'http://dbpedia.org/resource/The_Goon_Show',\n",
       "  'The Goon Show'),\n",
       " 'Entity-17': ('/wiki/Chain_of_Command_(Star_Trek:_The_Next_Generation)',\n",
       "  'TelevisionEpisode',\n",
       "  'http://dbpedia.org/resource/Chain_of_Command_(Star_Trek:_The_Next_Generation)',\n",
       "  'Chain of Command (Star Trek: The Next Generation)'),\n",
       " 'Entity-18': ('/wiki/Susumu_Hirasawa',\n",
       "  'Artist',\n",
       "  'http://dbpedia.org/resource/Susumu_Hirasawa',\n",
       "  'Susumu Hirasawa'),\n",
       " 'Entity-19': ('/wiki/Diamond_Dogs',\n",
       "  'MusicalWork',\n",
       "  'http://dbpedia.org/resource/Diamond_Dogs',\n",
       "  'Diamond Dogs'),\n",
       " 'Entity-20': ('/wiki/Doctor_Who',\n",
       "  'TelevisionShow',\n",
       "  'http://dbpedia.org/resource/Doctor_Who',\n",
       "  'Doctor Who'),\n",
       " 'Entity-21': ('/wiki/Soft_Machine',\n",
       "  'Group',\n",
       "  'http://dbpedia.org/resource/Soft_Machine',\n",
       "  'Soft Machine'),\n",
       " 'Entity-22': ('/wiki/Oranges_and_Lemons',\n",
       "  'MusicalWork',\n",
       "  'http://dbpedia.org/resource/Oranges_and_Lemons',\n",
       "  'Oranges and Lemons'),\n",
       " 'Entity-23': ('/wiki/Radiohead',\n",
       "  'Group',\n",
       "  'http://dbpedia.org/resource/Radiohead',\n",
       "  'Radiohead')}"
      ]
     },
     "execution_count": 29,
     "metadata": {},
     "output_type": "execute_result"
    }
   ],
   "source": [
    "fast_check = {}\n",
    "for k in wld:\n",
    "    fast_check[wld[k]['entity id']] = (wld[k]['wikipedia link'] , wld[k]['class'], wld[k]['db_uri'], wld[k]['label'])\n",
    "fast_check"
   ]
  },
  {
   "cell_type": "markdown",
   "metadata": {},
   "source": [
    "I take the text in the `li` tags I found and put it in a list, which becomes my text to analyse. For eeach key in the dictionary of links, I check if the key is in the text. If so, I replace the `li` tag with the id of the link to facilitate the relation extraction process.\n",
    "\n",
    "I also convertthe list in a single text string."
   ]
  },
  {
   "cell_type": "code",
   "execution_count": 30,
   "metadata": {},
   "outputs": [
    {
     "data": {
      "text/plain": [
       "'In 1955, an episode of BBC\\'s Entity-16, 1985, was broadcast, written by Spike Milligan and Entity-13 and based on Nigel Kneale\\'s television adaptation. It was re-recorded about a month later with the same script but a slightly different cast.  1985 parodies many of the main scenes in Orwell\\'s novel. In 1970, the American rock group Entity-11 released the song \"1984\" based on Orwell\\'s novel. In 1973, ex-Entity-21 bassist Entity-2 released an album called 1984 on the Columbia label (UK), consisting of instrumentals with Orwellian titles such as \"Miniluv\", \"Minipax\", \"Minitrue\", and so forth. In 1974, David Bowie released the album Entity-19, which is thought to be loosely based on the novel Nineteen Eighty-Four. It includes the tracks \"We Are The Dead\", \"1984\" and \"Big Brother\". Before the album was made, Bowie\\'s management (MainMan) had planned for Bowie and Tony Ingrassia (MainMan\\'s creative consultant) to co-write and direct a musical production of Orwell\\'s Nineteen Eighty-Four, but Orwell\\'s widow refused to give MainMan the rights.   In 1977, the British rock band Entity-4 released the album Entity-9, which includes the track \"Standards\" by Entity-3. This track concludes with the lyrics \"...and ignorance is strength, we have God on our side, look, you know what happened to Winston.\"  In 1984, Ridley Scott directed a television commercial, \"Entity-5\", to launch Apple\\'s Macintosh computer.  The advert stated, \"1984 won\\'t be like 1984\", suggesting that the Apple Mac would be freedom from Big Brother, i.e., the IBM PC.  An episode of Entity-20, called \"Entity-15\", depicts an alien ship disguised as a hotel containing Room 101-like spaces, and quotes the Entity-22 as well.  The two part episode Entity-17 on Entity-10 bears some resemblances to the novel.  Entity-23\\'s 2003 single \"Entity-12\", from their album Entity-14, is Orwellian by title and content. Thom Yorke states, \"I was listening to a lot of political programs on BBC Radio 4. I found myself writing down little nonsense phrases, those Orwellian euphemisms that [the British and American governments] are so fond of. They became the background of the record.\"  In September 2009, the English progressive rock band Entity-7 released Entity-8, which included songs influenced by Nineteen Eighty-Four.  In Marilyn Manson\\'s autobiography The Long Hard Road Out of Hell, he states: \"I was thoroughly terrified by the idea of the end of the world and the Antichrist. So I became obsessed with it... reading prophetic books like... 1984 by George Orwell...\"  English band Entity-1 references the novel in their song \"Back to the Future\", the fifth track on their 2022 album Entity-6, in the opening lyrics: \"Feels like we danced into a nightmare/We\\'re living 1984/If doublethink\\'s no longer fiction/We\\'ll dream of Huxley\\'s Island shores.\"  Released in 2004, KAKU P-Model/Entity-18\\'s song Big Brother directly references 1984, and the album itself is about a fictional dystopia in a distant future. In November 2012, the US government argued before the US Supreme Court that it wants to continue utilising GPS tracking of individuals without first seeking a warrant. In response, Justice Stephen Breyer questioned what that means for a democratic society by referencing Nineteen Eighty-Four. Justice Breyer asked, \"If you win this case, then there is nothing to prevent the police or the government from monitoring 24 hours a day the public movement of every citizen of the United States. So if you win, you suddenly produce what sounds like Nineteen Eighty-Four...\\xa0\" '"
      ]
     },
     "execution_count": 30,
     "metadata": {},
     "output_type": "execute_result"
    }
   ],
   "source": [
    "to_parse = []\n",
    "src_to_parse = [] #will be reused to store the source string in the final graph\n",
    "\n",
    "for li in li_tags:\n",
    "    str_li = str(li)\n",
    "    src_li = re.sub(r'<.+?>', '', str_li)\n",
    "    src_li = re.sub(r'\\[[0-9]+\\]', ' ', src_li)\n",
    "    src_to_parse.append(src_li)\n",
    "\n",
    "    for k in wld:\n",
    "        if k in str_li:\n",
    "            str_li  = str_li.replace(k, wld[k]['entity id'])\n",
    "            \n",
    "    str_li = re.sub(r'<.+?>', '', str_li)\n",
    "    str_li = re.sub(r'\\[[0-9]+\\]', ' ', str_li) #remove the numbers in square brackets (wikidata references)\n",
    "    to_parse.append(str_li)\n",
    "\n",
    "\n",
    "to_parse_txt = ' '.join(to_parse)\n",
    "\n",
    "to_parse_txt"
   ]
  },
  {
   "cell_type": "markdown",
   "metadata": {},
   "source": [
    "## 06. Relation extraction"
   ]
  },
  {
   "cell_type": "markdown",
   "metadata": {},
   "source": [
    "### A. Brute force approach"
   ]
  },
  {
   "cell_type": "markdown",
   "metadata": {},
   "source": [
    "For each string contained in the list of content `to_parse`, I iterate over the sentences extracting the entities and the verbs.\n",
    "\n",
    "At the end of the string I have a dictionary where for each sentence I have information about the verbs and the entities contained. Therefore, for each first-level iteration string, i apply the following concepts and assumptions:\n",
    "- I assume that for each sentence there is at maximum one significant verb that allows me to infer which kind of relation exists between the main entityand other entities mentioned in the sentence keeping in mind that the main entity is almost never cited since it is the implicit subject of the sentence.\n",
    "- If in the same sentence there are both entities and a significant verb, I assume that the verb is related in some way to all the entities.\n",
    "- If in the sentence there are only entities, it is possible that the following sentence has a significant verb that is related to the entities in the previous sentence by meas of pronouns.\n",
    "- If in the sentence there is only the verb, it is possible that it is referred to the entities in the previous sentence by means of pronouns."
   ]
  },
  {
   "cell_type": "code",
   "execution_count": 31,
   "metadata": {},
   "outputs": [
    {
     "data": {
      "text/plain": [
       "{'Entity-16': 'base',\n",
       " 'Entity-13': 'base',\n",
       " 'Entity-11': 'base',\n",
       " 'Entity-21': 'general',\n",
       " 'Entity-2': 'general',\n",
       " 'Entity-19': 'base',\n",
       " 'Entity-9': 'general',\n",
       " 'Entity-4': 'general',\n",
       " 'Entity-3': 'general',\n",
       " 'Entity-5': 'general',\n",
       " 'Entity-20': 'quote',\n",
       " 'Entity-15': 'quote',\n",
       " 'Entity-22': 'quote',\n",
       " 'Entity-17': 'general',\n",
       " 'Entity-10': 'general',\n",
       " 'Entity-12': 'general',\n",
       " 'Entity-14': 'general',\n",
       " 'Entity-23': 'general',\n",
       " 'Entity-7': 'influence',\n",
       " 'Entity-8': 'influence',\n",
       " 'Entity-1': 'general',\n",
       " 'Entity-6': 'general',\n",
       " 'Entity-18': 'reference'}"
      ]
     },
     "execution_count": 31,
     "metadata": {},
     "output_type": "execute_result"
    }
   ],
   "source": [
    "rel_sent = []\n",
    "relations = {}\n",
    "\n",
    "for s in to_parse:\n",
    "    if len(rel_sent) == 1:\n",
    "        for k in rel_sent:\n",
    "            if len(k['entities']) > 0:\n",
    "                if len(k['verbs']) == 1:\n",
    "                    for ent in k['entities']:\n",
    "                        relations[ent] = k['verbs'][0]\n",
    "                elif len(k['verbs']) == 0:\n",
    "                    for ent in k['entities']:\n",
    "                        relations[ent] = 'general'\n",
    "    elif len(rel_sent) > 1:\n",
    "        for k in rel_sent:\n",
    "            idx = rel_sent.index(k)\n",
    "            if len(k['entities']) > 0:\n",
    "                if len(k['verbs']) == 1:\n",
    "                    for ent in k['entities']:\n",
    "                        relations[ent] = k['verbs'][0]\n",
    "                elif len(k['verbs']) == 0 and idx+1 < len(rel_sent):\n",
    "                    if (len(rel_sent[idx+1]['entities']) > 0 and rel_sent[idx]['entities'] == rel_sent[idx+1]['entities'] and len(rel_sent[idx+1]['verbs']) == 1) or (len(rel_sent[idx+1]['entities']) == 0 and len(rel_sent[idx+1]['verbs'] == 1)):\n",
    "                        for ent in k['entities']:\n",
    "                            relations[ent] = rel_sent[idx+1]['verbs'][0]\n",
    "                    else:\n",
    "                        for ent in k['entities']:\n",
    "                            relations[ent] = 'general'\n",
    "                else:\n",
    "                    for ent in k['entities']:\n",
    "                        relations[ent] = k['verbs']\n",
    "            else:\n",
    "                continue #the previous step should be able to handle this case too\n",
    "                \n",
    "    doc = nlp(s)\n",
    "    rel_sent = []\n",
    "\n",
    "    for sent in doc.sents:\n",
    "        cand_ent = set()\n",
    "        cand_verbs = set()\n",
    "        current_verb = ''\n",
    "        lemma = ''\n",
    "        next_tok = False\n",
    "        for token in sent:\n",
    "            #print(token.text, token.pos_, token.dep_)\n",
    "            if token.text in fast_check:\n",
    "                cand_ent.add(token.text)\n",
    "            elif token.pos_ == 'VERB':\n",
    "                current_verb = token.text\n",
    "                lemma = token.lemma_\n",
    "                next_tok = True\n",
    "            else:\n",
    "                if next_tok:\n",
    "                    if token.dep_ == 'prep' or token.dep_ == 'agent':\n",
    "                        next_tok = False\n",
    "                        current_verb += ' ' + token.text\n",
    "                        cand_verbs.add((current_verb, lemma))\n",
    "                        current_verb = ''\n",
    "                    else:\n",
    "                        next_tok = False\n",
    "                        cand_verbs.add((current_verb, lemma))\n",
    "                        current_verb = ''\n",
    "\n",
    "        if cand_verbs:\n",
    "            sel_ve = []\n",
    "            for tup in cand_verbs:\n",
    "                if re.match(r'based\\son|(inspired|influenced)(\\sby)?|(derive[ds]?|adapted)(\\sfrom)?|(reference|mention)(s|ed\\s(by|in)?)?|alludes?\\sto|quote[sd]?', tup[0]):\n",
    "                    sel_ve.append(tup)\n",
    "\n",
    "        if cand_ent or sel_ve:\n",
    "            ev_dict = {'entities': [], 'verbs': []}\n",
    "\n",
    "            for ent in cand_ent:\n",
    "                if ent not in ev_dict['entities']:\n",
    "                    ev_dict['entities'].append(ent)\n",
    "\n",
    "            for verb in sel_ve:\n",
    "                if verb[1] not in ev_dict['verbs']:\n",
    "                    ev_dict['verbs'].append(verb[1])\n",
    "        \n",
    "            rel_sent.append(ev_dict)\n",
    "        \n",
    "\n",
    "relations"
   ]
  },
  {
   "cell_type": "markdown",
   "metadata": {},
   "source": [
    "### B. Google Bard and WordNet approach"
   ]
  },
  {
   "cell_type": "markdown",
   "metadata": {},
   "source": [
    "I set the Google Bard API key and I define a function for querying the API and retrieving the results in json format."
   ]
  },
  {
   "cell_type": "code",
   "execution_count": 32,
   "metadata": {},
   "outputs": [],
   "source": [
    "token = os.getenv('GOOGLEBARD_TOKEN')\n",
    "bard = Bard(token=token) "
   ]
  },
  {
   "cell_type": "markdown",
   "metadata": {},
   "source": [
    "Thus, I ask directly the model to extract the relations between entities by means of a prompt where I explain how to extract the relations, how to identify the entities and how to return the results.\n",
    "\n",
    "As format I choose to ask for a pandas dataframe, which I will directly reuse in my code."
   ]
  },
  {
   "cell_type": "code",
   "execution_count": 33,
   "metadata": {},
   "outputs": [
    {
     "name": "stdout",
     "output_type": "stream",
     "text": [
      "Sure, here is the DataFrame of the relationships between '1984' and the entities marked as 'Entity- ' in the text:\n",
      "\n",
      "```python\n",
      "import pandas as pd\n",
      "\n",
      "df = pd.DataFrame({\n",
      "    'Entity': ['Entity-16', 'Entity-11', 'Entity-2', 'Entity-19', 'Entity-4', 'Entity-5', 'Entity-20', 'Entity-17', 'Entity-23', 'Entity-7', 'Entity-1', 'Entity-18'],\n",
      "    'Relation': ['based on', 'based on', 'inspired by', 'loosely based on', 'references', 'references', 'references', 'bears some resemblances to', 'Orwellian by title and content', 'influenced by', 'references', 'directly references'],\n",
      "    '1984': '1984'\n",
      "})\n",
      "\n",
      "print(df.to_string())\n",
      "```\n",
      "\n",
      "```\n",
      "    Entity  Relation  1984\n",
      "0  Entity-16  based on  1984\n",
      "1  Entity-11  based on  1984\n",
      "2  Entity-2   inspired by  1984\n",
      "3  Entity-19  loosely based on  1984\n",
      "4  Entity-4   references  1984\n",
      "5  Entity-5   references  1984\n",
      "6  Entity-20  references  1984\n",
      "7  Entity-17  bears some resemblances to  1984\n",
      "8  Entity-23  Orwellian by title and content  1984\n",
      "9  Entity-7   influenced by  1984\n",
      "10 Entity-1   references  1984\n",
      "11 Entity-18  directly references  1984\n",
      "```\n",
      "\n",
      "This DataFrame shows that the novel '1984' has been referenced, inspired by, or based on in a variety of different ways. The most common relationship is that '1984' has been **based on** in other works, such as the BBC episode '1985' and the David Bowie album 'Diamond Dogs'. Other works have **referenced** '1984', such as the Ridley Scott commercial for Apple's Macintosh computer and the Marilyn Manson autobiography. Finally, some works have been **inspired by** '1984', such as the KAKU P-Model album 'Big Brother'.\n",
      "\n",
      "This shows that '1984' is a highly influential work that has had a significant impact on popular culture. It is a novel that continues to be relevant today, and its themes of totalitarianism, surveillance, and thought control are still relevant in the 21st century.\n"
     ]
    }
   ],
   "source": [
    "bard_res = bard.get_answer(\"You are an expert in relation extraction from plain text and your aim is to identify the existing relations between the creative work '1984', which is the implicit subject of the text you will be fed with, and other ENTITIES that you will find in the text. ### Return the relationships between '1984' and the entities marked as 'Entity- ' in the text in the following format: subject | relation | 1984 as a pandas dataframe following this example: ```df = pd.DataFrame({'Entity': ['Entity-', 'Entity-', 'Entity-'], 'Relation': ['based on', 'derived from', 'inspired by'], '1984': '1984' })```. ### Text: \"+to_parse_txt)\n",
    "\n",
    "print(bard_res['content'])"
   ]
  },
  {
   "cell_type": "markdown",
   "metadata": {},
   "source": [
    "Therefore, I am now able to get the result and divide it on the basis of the output format I chose, which contains \"```\" as separator for the python code.\n",
    "\n",
    "I find which is the relevant section of the oputput and i clean it to maintain only the definition of the dataframe."
   ]
  },
  {
   "cell_type": "code",
   "execution_count": 34,
   "metadata": {},
   "outputs": [
    {
     "name": "stdout",
     "output_type": "stream",
     "text": [
      "[\"Sure, here is the DataFrame of the relationships between '1984' and the entities marked as 'Entity- ' in the text: \", \"python import pandas as pd df = pd.DataFrame({ 'Entity': ['Entity-16', 'Entity-11', 'Entity-2', 'Entity-19', 'Entity-4', 'Entity-5', 'Entity-20', 'Entity-17', 'Entity-23', 'Entity-7', 'Entity-1', 'Entity-18'], 'Relation': ['based on', 'based on', 'inspired by', 'loosely based on', 'references', 'references', 'references', 'bears some resemblances to', 'Orwellian by title and content', 'influenced by', 'references', 'directly references'], '1984': '1984' }) print(df.to_string()) \", ' ', ' Entity Relation 1984 0 Entity-16 based on 1984 1 Entity-11 based on 1984 2 Entity-2 inspired by 1984 3 Entity-19 loosely based on 1984 4 Entity-4 references 1984 5 Entity-5 references 1984 6 Entity-20 references 1984 7 Entity-17 bears some resemblances to 1984 8 Entity-23 Orwellian by title and content 1984 9 Entity-7 influenced by 1984 10 Entity-1 references 1984 11 Entity-18 directly references 1984 ', \" This DataFrame shows that the novel '1984' has been referenced, inspired by, or based on in a variety of different ways. The most common relationship is that '1984' has been **based on** in other works, such as the BBC episode '1985' and the David Bowie album 'Diamond Dogs'. Other works have **referenced** '1984', such as the Ridley Scott commercial for Apple's Macintosh computer and the Marilyn Manson autobiography. Finally, some works have been **inspired by** '1984', such as the KAKU P-Model album 'Big Brother'. This shows that '1984' is a highly influential work that has had a significant impact on popular culture. It is a novel that continues to be relevant today, and its themes of totalitarianism, surveillance, and thought control are still relevant in the 21st century.\"]\n"
     ]
    },
    {
     "data": {
      "text/html": [
       "<div>\n",
       "<style scoped>\n",
       "    .dataframe tbody tr th:only-of-type {\n",
       "        vertical-align: middle;\n",
       "    }\n",
       "\n",
       "    .dataframe tbody tr th {\n",
       "        vertical-align: top;\n",
       "    }\n",
       "\n",
       "    .dataframe thead th {\n",
       "        text-align: right;\n",
       "    }\n",
       "</style>\n",
       "<table border=\"1\" class=\"dataframe\">\n",
       "  <thead>\n",
       "    <tr style=\"text-align: right;\">\n",
       "      <th></th>\n",
       "      <th>Entity</th>\n",
       "      <th>Relation</th>\n",
       "      <th>1984</th>\n",
       "    </tr>\n",
       "  </thead>\n",
       "  <tbody>\n",
       "    <tr>\n",
       "      <th>0</th>\n",
       "      <td>Entity-16</td>\n",
       "      <td>based on</td>\n",
       "      <td>1984</td>\n",
       "    </tr>\n",
       "    <tr>\n",
       "      <th>1</th>\n",
       "      <td>Entity-11</td>\n",
       "      <td>based on</td>\n",
       "      <td>1984</td>\n",
       "    </tr>\n",
       "    <tr>\n",
       "      <th>2</th>\n",
       "      <td>Entity-2</td>\n",
       "      <td>inspired by</td>\n",
       "      <td>1984</td>\n",
       "    </tr>\n",
       "    <tr>\n",
       "      <th>3</th>\n",
       "      <td>Entity-19</td>\n",
       "      <td>loosely based on</td>\n",
       "      <td>1984</td>\n",
       "    </tr>\n",
       "    <tr>\n",
       "      <th>4</th>\n",
       "      <td>Entity-4</td>\n",
       "      <td>references</td>\n",
       "      <td>1984</td>\n",
       "    </tr>\n",
       "    <tr>\n",
       "      <th>5</th>\n",
       "      <td>Entity-5</td>\n",
       "      <td>references</td>\n",
       "      <td>1984</td>\n",
       "    </tr>\n",
       "    <tr>\n",
       "      <th>6</th>\n",
       "      <td>Entity-20</td>\n",
       "      <td>references</td>\n",
       "      <td>1984</td>\n",
       "    </tr>\n",
       "    <tr>\n",
       "      <th>7</th>\n",
       "      <td>Entity-17</td>\n",
       "      <td>bears some resemblances to</td>\n",
       "      <td>1984</td>\n",
       "    </tr>\n",
       "    <tr>\n",
       "      <th>8</th>\n",
       "      <td>Entity-23</td>\n",
       "      <td>Orwellian by title and content</td>\n",
       "      <td>1984</td>\n",
       "    </tr>\n",
       "    <tr>\n",
       "      <th>9</th>\n",
       "      <td>Entity-7</td>\n",
       "      <td>influenced by</td>\n",
       "      <td>1984</td>\n",
       "    </tr>\n",
       "    <tr>\n",
       "      <th>10</th>\n",
       "      <td>Entity-1</td>\n",
       "      <td>references</td>\n",
       "      <td>1984</td>\n",
       "    </tr>\n",
       "    <tr>\n",
       "      <th>11</th>\n",
       "      <td>Entity-18</td>\n",
       "      <td>directly references</td>\n",
       "      <td>1984</td>\n",
       "    </tr>\n",
       "  </tbody>\n",
       "</table>\n",
       "</div>"
      ],
      "text/plain": [
       "       Entity                        Relation  1984\n",
       "0   Entity-16                        based on  1984\n",
       "1   Entity-11                        based on  1984\n",
       "2    Entity-2                     inspired by  1984\n",
       "3   Entity-19                loosely based on  1984\n",
       "4    Entity-4                      references  1984\n",
       "5    Entity-5                      references  1984\n",
       "6   Entity-20                      references  1984\n",
       "7   Entity-17      bears some resemblances to  1984\n",
       "8   Entity-23  Orwellian by title and content  1984\n",
       "9    Entity-7                   influenced by  1984\n",
       "10   Entity-1                      references  1984\n",
       "11  Entity-18             directly references  1984"
      ]
     },
     "execution_count": 34,
     "metadata": {},
     "output_type": "execute_result"
    }
   ],
   "source": [
    "out_list = bard_res['content'].replace('\\n\\n', ' ').replace('\\n', ' ').replace('    ', ' ').replace('   ', ' ').replace('  ', ' ').split('```')\n",
    "print(out_list)\n",
    "\n",
    "for el in out_list:\n",
    "    if 'df = pd.DataFrame' in el:\n",
    "        df_idx = out_list.index(el)\n",
    "\n",
    "df_string = re.sub(r'(python)\\s?import pandas as pd (.+)\\s?\\=', '', out_list[df_idx])\n",
    "df_string = re.sub(r'print\\(.+\\)', '', df_string).strip()\n",
    "\n",
    "response_df = eval(df_string)\n",
    "response_df"
   ]
  },
  {
   "cell_type": "markdown",
   "metadata": {},
   "source": [
    "Retrieved infromation seems to be ok, but there are still some issues to be solved. For example, the model does not recognize all the entities in the sentence and it does not use only the specified labels to describe the relations.\n",
    "\n",
    "So, the first step is to build a dictionary with the `li`tags index and the group of entities contained for each tag."
   ]
  },
  {
   "cell_type": "code",
   "execution_count": 35,
   "metadata": {},
   "outputs": [
    {
     "data": {
      "text/plain": [
       "{0: ['Entity-16', 'Entity-13'],\n",
       " 1: ['Entity-11'],\n",
       " 2: ['Entity-21', 'Entity-2'],\n",
       " 3: ['Entity-19'],\n",
       " 4: ['Entity-4', 'Entity-9', 'Entity-3'],\n",
       " 5: ['Entity-5'],\n",
       " 6: ['Entity-20', 'Entity-15', 'Entity-22'],\n",
       " 7: ['Entity-17', 'Entity-10'],\n",
       " 8: ['Entity-23', 'Entity-12', 'Entity-14'],\n",
       " 9: ['Entity-7', 'Entity-8'],\n",
       " 11: ['Entity-1', 'Entity-6'],\n",
       " 12: ['Entity-18']}"
      ]
     },
     "execution_count": 35,
     "metadata": {},
     "output_type": "execute_result"
    }
   ],
   "source": [
    "groups = {}\n",
    "count = 0\n",
    "for sent in to_parse:\n",
    "    g = re.findall(r'Entity-[0-9]+', sent)\n",
    "    if g:\n",
    "        groups[count] = g\n",
    "    count += 1\n",
    "\n",
    "groups"
   ]
  },
  {
   "cell_type": "markdown",
   "metadata": {},
   "source": [
    "Thus, I make the following assumption to assign a relation to the missing entities:\n",
    "- If the missing entity is in the same sentence of a found entity, I assume that the relation is the same as the one found for the other entity since it should be more probable to have only one relation for `li` tag.\n",
    "\n",
    "Therefore I check for the relation found for the other entity in the same sentence and I assign it to the missing entity."
   ]
  },
  {
   "cell_type": "code",
   "execution_count": 36,
   "metadata": {},
   "outputs": [
    {
     "name": "stdout",
     "output_type": "stream",
     "text": [
      "{'Entity-16': 'based on', 'Entity-13': 'based on', 'Entity-11': 'based on', 'Entity-2': 'inspired by', 'Entity-21': 'inspired by', 'Entity-19': 'loosely based on', 'Entity-4': 'references', 'Entity-9': 'references', 'Entity-3': 'references', 'Entity-5': 'references', 'Entity-20': 'references', 'Entity-15': 'references', 'Entity-22': 'references', 'Entity-17': 'bears some resemblances to', 'Entity-10': 'bears some resemblances to', 'Entity-23': 'Orwellian by title and content', 'Entity-12': 'Orwellian by title and content', 'Entity-14': 'Orwellian by title and content', 'Entity-7': 'influenced by', 'Entity-8': 'influenced by', 'Entity-1': 'references', 'Entity-6': 'references', 'Entity-18': 'directly references'}\n"
     ]
    }
   ],
   "source": [
    "entity_relation = {}\n",
    "\n",
    "for ent in response_df['Entity'].values:\n",
    "    relation = response_df[response_df['Entity'] == ent]['Relation'].values[0]\n",
    "    entity_relation[ent] = relation\n",
    "    for group in groups:\n",
    "        if ent in groups[group]:\n",
    "            for e in groups[group]:\n",
    "                if e not in response_df['Entity'].values:\n",
    "                    entity_relation[e] = relation\n",
    "        \n",
    "\n",
    "print(entity_relation)"
   ]
  },
  {
   "cell_type": "markdown",
   "metadata": {},
   "source": [
    "Still, the relations are not omogeneous and labels could be potentially uncountable. I need to find a way to group the relations in a smaller number of categories indeed.\n",
    "\n",
    "I start by defining a list of tuples that will be used as a reference vocabulary fro relation definition. In particular, each tuple will contain the lemma of the verb that expresses the relation, the WordNet Synset that represents the meaning of the verb in this context of use (human based choice of the synset), and the word form with which the verb appears in the majority of times in the text."
   ]
  },
  {
   "cell_type": "code",
   "execution_count": 37,
   "metadata": {},
   "outputs": [],
   "source": [
    "lemma_synset = [('base', 'establish.v.08', 'based on'), ('inspire', 'inspire.v.02', 'inspired by'), ('influence', 'determine.v.02', 'influenced by'), ('derive', 'derive.v.04', 'derived from'), ('adapt', 'adapt.v.01', 'adapted from'), ('reference', 'reference.v.01', 'references'), ('allude', 'allude.v.01', 'alludes to'), ('mention', 'mention.v.01', 'mentions'), ('quote', 'quote.v.01', 'quotes')]"
   ]
  },
  {
   "cell_type": "markdown",
   "metadata": {},
   "source": [
    "Using regular expressions, I check if in the relation found by Bard there is a verb that matches the lemma of one of the verbs in the reference vocabulary. If so, I replace the relation with the verb form in the reference vocabulary.\n",
    "\n",
    "If not, i iterate over the tokesmaking up the relation expression and find the verb. I serch for every possible synset of the verb and for each synset I compute the similarity with the reference synsets. I take the synset with the highest similarity and I replace the relation with the verb form in the reference vocabulary.\n",
    "\n",
    "if also this method does not work, I assume that the relation is a relation of \"general influence\".\n",
    "\n",
    "I also apply another check. Since I deliberately chose the relationships valid for entities not extracted by Bard, I check if the relation is valid for the entities in the sentence. i assume that Artists and Groups, for example, cannot linguistically bear some kind of relationship (e.g., an artist cannot be \"based on\" a work of art). In these cases, I assume that the relation is a relation of \"general influence\"."
   ]
  },
  {
   "cell_type": "code",
   "execution_count": 38,
   "metadata": {},
   "outputs": [
    {
     "data": {
      "text/plain": [
       "{'Entity-16': 'based on',\n",
       " 'Entity-13': 'general influence',\n",
       " 'Entity-11': 'general influence',\n",
       " 'Entity-2': 'inspired by',\n",
       " 'Entity-21': 'inspired by',\n",
       " 'Entity-19': 'based on',\n",
       " 'Entity-4': 'general influence',\n",
       " 'Entity-9': 'references',\n",
       " 'Entity-3': 'general influence',\n",
       " 'Entity-5': 'references',\n",
       " 'Entity-20': 'references',\n",
       " 'Entity-15': 'references',\n",
       " 'Entity-22': 'references',\n",
       " 'Entity-17': 'general influence',\n",
       " 'Entity-10': 'general influence',\n",
       " 'Entity-23': 'general influence',\n",
       " 'Entity-12': 'general influence',\n",
       " 'Entity-14': 'general influence',\n",
       " 'Entity-7': 'influenced by',\n",
       " 'Entity-8': 'influenced by',\n",
       " 'Entity-1': 'general influence',\n",
       " 'Entity-6': 'references',\n",
       " 'Entity-18': 'general influence'}"
      ]
     },
     "execution_count": 38,
     "metadata": {},
     "output_type": "execute_result"
    }
   ],
   "source": [
    "for ent in entity_relation:\n",
    "    if not re.match(r'based\\son|(inspired|influenced)(\\sby)?|(derive[sd]|adapted)(\\sfrom)?|(reference|mention)(s|ed\\s(by|in)?)?|alludes?\\sto', entity_relation[ent]):\n",
    "        if re.search('based\\son', entity_relation[ent]):\n",
    "            entity_relation[ent] = 'based on'\n",
    "        elif re.search('inspired\\sby', entity_relation[ent]):\n",
    "            entity_relation[ent] = 'inspired by'\n",
    "        elif re.search('influenced\\sby', entity_relation[ent]):\n",
    "            entity_relation[ent] = 'influenced by'\n",
    "        elif re.search('derive[ds](\\sfrom)?', entity_relation[ent]):\n",
    "            entity_relation[ent] = 'derived from'\n",
    "        elif re.search('adapted(\\sfrom)?', entity_relation[ent]):\n",
    "            entity_relation[ent] = 'adapted from'\n",
    "        elif re.search('reference(s|ed\\s(by|in)?)?', entity_relation[ent]):\n",
    "            entity_relation[ent] = 'references'\n",
    "        elif re.search('mention(s|ed\\s(by|in)?)?', entity_relation[ent]):\n",
    "            entity_relation[ent] = 'mentions'\n",
    "        elif re.search('alludes?(\\sto)?', entity_relation[ent]):\n",
    "            entity_relation[ent] = 'alludes to'\n",
    "        elif re.search('quotes?(\\sto)?', entity_relation[ent]):\n",
    "            entity_relation[ent] = 'quotes'\n",
    "        else:\n",
    "            pos = nlp(entity_relation[ent])\n",
    "            for tok in pos:\n",
    "                if tok.pos_ == 'VERB':\n",
    "                    lemma = tok.lemma_\n",
    "                    best_syn = ['general', 0]\n",
    "                    for syn_a in lemma_synset:\n",
    "                        for syn_b in wn.synsets(lemma, pos=wn.VERB):\n",
    "                            similarity = wn.lch_similarity(wn.synset(syn_a[1]), wn.synset(syn_b.name()))\n",
    "                            if similarity >= 2.5 and similarity >= best_syn[1]:\n",
    "                                best_syn = [syn_a[2], similarity]\n",
    "                    entity_relation[ent] = best_syn[0]\n",
    "                else:\n",
    "                    entity_relation[ent] = 'general influence'\n",
    "\n",
    "    if fast_check[ent][1] == 'Artist' or fast_check[ent][1] == 'Group': #Here we say that if the entity is an artist or a group, we can assume that the relation is 'general influence' rather than 'based on' or 'alludes to' or 'mentions' or 'references\n",
    "        if entity_relation[ent] == 'based on' or entity_relation[ent] == 'references' or entity_relation[ent] == 'mentions' or entity_relation[ent] == 'alludes to' or entity_relation[ent] == 'derived from':\n",
    "            entity_relation[ent] = 'general influence'\n",
    "                            \n",
    "                    \n",
    "entity_relation    "
   ]
  },
  {
   "cell_type": "code",
   "execution_count": 39,
   "metadata": {},
   "outputs": [
    {
     "data": {
      "text/html": [
       "<div>\n",
       "<style scoped>\n",
       "    .dataframe tbody tr th:only-of-type {\n",
       "        vertical-align: middle;\n",
       "    }\n",
       "\n",
       "    .dataframe tbody tr th {\n",
       "        vertical-align: top;\n",
       "    }\n",
       "\n",
       "    .dataframe thead th {\n",
       "        text-align: right;\n",
       "    }\n",
       "</style>\n",
       "<table border=\"1\" class=\"dataframe\">\n",
       "  <thead>\n",
       "    <tr style=\"text-align: right;\">\n",
       "      <th></th>\n",
       "      <th>Entity</th>\n",
       "      <th>Relation</th>\n",
       "      <th>1984</th>\n",
       "    </tr>\n",
       "  </thead>\n",
       "  <tbody>\n",
       "    <tr>\n",
       "      <th>0</th>\n",
       "      <td>Entity-16</td>\n",
       "      <td>based on</td>\n",
       "      <td>1984</td>\n",
       "    </tr>\n",
       "    <tr>\n",
       "      <th>1</th>\n",
       "      <td>Entity-13</td>\n",
       "      <td>general influence</td>\n",
       "      <td>1984</td>\n",
       "    </tr>\n",
       "    <tr>\n",
       "      <th>2</th>\n",
       "      <td>Entity-11</td>\n",
       "      <td>general influence</td>\n",
       "      <td>1984</td>\n",
       "    </tr>\n",
       "    <tr>\n",
       "      <th>3</th>\n",
       "      <td>Entity-2</td>\n",
       "      <td>inspired by</td>\n",
       "      <td>1984</td>\n",
       "    </tr>\n",
       "    <tr>\n",
       "      <th>4</th>\n",
       "      <td>Entity-21</td>\n",
       "      <td>inspired by</td>\n",
       "      <td>1984</td>\n",
       "    </tr>\n",
       "    <tr>\n",
       "      <th>5</th>\n",
       "      <td>Entity-19</td>\n",
       "      <td>based on</td>\n",
       "      <td>1984</td>\n",
       "    </tr>\n",
       "    <tr>\n",
       "      <th>6</th>\n",
       "      <td>Entity-4</td>\n",
       "      <td>general influence</td>\n",
       "      <td>1984</td>\n",
       "    </tr>\n",
       "    <tr>\n",
       "      <th>7</th>\n",
       "      <td>Entity-9</td>\n",
       "      <td>references</td>\n",
       "      <td>1984</td>\n",
       "    </tr>\n",
       "    <tr>\n",
       "      <th>8</th>\n",
       "      <td>Entity-3</td>\n",
       "      <td>general influence</td>\n",
       "      <td>1984</td>\n",
       "    </tr>\n",
       "    <tr>\n",
       "      <th>9</th>\n",
       "      <td>Entity-5</td>\n",
       "      <td>references</td>\n",
       "      <td>1984</td>\n",
       "    </tr>\n",
       "    <tr>\n",
       "      <th>10</th>\n",
       "      <td>Entity-20</td>\n",
       "      <td>references</td>\n",
       "      <td>1984</td>\n",
       "    </tr>\n",
       "    <tr>\n",
       "      <th>11</th>\n",
       "      <td>Entity-15</td>\n",
       "      <td>references</td>\n",
       "      <td>1984</td>\n",
       "    </tr>\n",
       "    <tr>\n",
       "      <th>12</th>\n",
       "      <td>Entity-22</td>\n",
       "      <td>references</td>\n",
       "      <td>1984</td>\n",
       "    </tr>\n",
       "    <tr>\n",
       "      <th>13</th>\n",
       "      <td>Entity-17</td>\n",
       "      <td>general influence</td>\n",
       "      <td>1984</td>\n",
       "    </tr>\n",
       "    <tr>\n",
       "      <th>14</th>\n",
       "      <td>Entity-10</td>\n",
       "      <td>general influence</td>\n",
       "      <td>1984</td>\n",
       "    </tr>\n",
       "    <tr>\n",
       "      <th>15</th>\n",
       "      <td>Entity-23</td>\n",
       "      <td>general influence</td>\n",
       "      <td>1984</td>\n",
       "    </tr>\n",
       "    <tr>\n",
       "      <th>16</th>\n",
       "      <td>Entity-12</td>\n",
       "      <td>general influence</td>\n",
       "      <td>1984</td>\n",
       "    </tr>\n",
       "    <tr>\n",
       "      <th>17</th>\n",
       "      <td>Entity-14</td>\n",
       "      <td>general influence</td>\n",
       "      <td>1984</td>\n",
       "    </tr>\n",
       "    <tr>\n",
       "      <th>18</th>\n",
       "      <td>Entity-7</td>\n",
       "      <td>influenced by</td>\n",
       "      <td>1984</td>\n",
       "    </tr>\n",
       "    <tr>\n",
       "      <th>19</th>\n",
       "      <td>Entity-8</td>\n",
       "      <td>influenced by</td>\n",
       "      <td>1984</td>\n",
       "    </tr>\n",
       "    <tr>\n",
       "      <th>20</th>\n",
       "      <td>Entity-1</td>\n",
       "      <td>general influence</td>\n",
       "      <td>1984</td>\n",
       "    </tr>\n",
       "    <tr>\n",
       "      <th>21</th>\n",
       "      <td>Entity-6</td>\n",
       "      <td>references</td>\n",
       "      <td>1984</td>\n",
       "    </tr>\n",
       "    <tr>\n",
       "      <th>22</th>\n",
       "      <td>Entity-18</td>\n",
       "      <td>general influence</td>\n",
       "      <td>1984</td>\n",
       "    </tr>\n",
       "  </tbody>\n",
       "</table>\n",
       "</div>"
      ],
      "text/plain": [
       "       Entity           Relation  1984\n",
       "0   Entity-16           based on  1984\n",
       "1   Entity-13  general influence  1984\n",
       "2   Entity-11  general influence  1984\n",
       "3    Entity-2        inspired by  1984\n",
       "4   Entity-21        inspired by  1984\n",
       "5   Entity-19           based on  1984\n",
       "6    Entity-4  general influence  1984\n",
       "7    Entity-9         references  1984\n",
       "8    Entity-3  general influence  1984\n",
       "9    Entity-5         references  1984\n",
       "10  Entity-20         references  1984\n",
       "11  Entity-15         references  1984\n",
       "12  Entity-22         references  1984\n",
       "13  Entity-17  general influence  1984\n",
       "14  Entity-10  general influence  1984\n",
       "15  Entity-23  general influence  1984\n",
       "16  Entity-12  general influence  1984\n",
       "17  Entity-14  general influence  1984\n",
       "18   Entity-7      influenced by  1984\n",
       "19   Entity-8      influenced by  1984\n",
       "20   Entity-1  general influence  1984\n",
       "21   Entity-6         references  1984\n",
       "22  Entity-18  general influence  1984"
      ]
     },
     "execution_count": 39,
     "metadata": {},
     "output_type": "execute_result"
    }
   ],
   "source": [
    "adjusted_df = pd.DataFrame({'Entity': list(entity_relation.keys()), 'Relation': list(entity_relation.values()), '1984': '1984'})\n",
    "adjusted_df"
   ]
  },
  {
   "cell_type": "markdown",
   "metadata": {},
   "source": [
    "## 07. Knowledge Graph creation"
   ]
  },
  {
   "cell_type": "markdown",
   "metadata": {},
   "source": [
    "I will use `rdflib` library for creating the Knowledge Graph usin the `Graph` class. The KG creation will be based on the classes and the proerties defined by the [MuCH-Ontology](../ontology_and_kg/mucho.owl) that has been created for this purpose. Classes and properties' URIs are saved in the [URIs.py file](./URIs.py) that has been created for saving space and it's imported in one of the following notebook's cells."
   ]
  },
  {
   "cell_type": "markdown",
   "metadata": {},
   "source": [
    "By now, I will make a simple query to DBpedia in order to retrieve the `rdf:type` of the main entity found in the song's annotations. I will use this information for assigning the entity to its class in my KG."
   ]
  },
  {
   "cell_type": "code",
   "execution_count": 40,
   "metadata": {},
   "outputs": [],
   "source": [
    "db_query_ent_type = \"\"\"\n",
    "        PREFIX dbo: <http://dbpedia.org/ontology/>\n",
    "        PREFIX foaf: <http://xmlns.com/foaf/0.1/>\n",
    "        PREFIX wikipedia-en: <http://en.wikipedia.org/wiki/>\n",
    "        PREFIX rdf: <http://www.w3.org/1999/02/22-rdf-syntax-ns#>\n",
    "\n",
    "        SELECT DISTINCT ?wikiLinks ?type\n",
    "        WHERE { \n",
    "                VALUES ?type { dbo:MusicalWork dbo:Artwork dbo:Film dbo:TelevisionShow dbo:TelevisionSeason dbo:TelevisionEpisode dbo:Poem dbo:Book dbo:Comic dbo:Play}\n",
    "                ?entity foaf:isPrimaryTopicOf wikipedia-en:\"\"\"+cut_url+\"\"\";\n",
    "                        rdf:type ?type.\n",
    "                }\n",
    "        \"\"\"\n",
    "\n",
    "sparql = SPARQLWrapper(\"http://dbpedia.org/sparql\")\n",
    "sparql.setReturnFormat(JSON)\n",
    "sparql.setQuery(db_query_ent_type)"
   ]
  },
  {
   "cell_type": "code",
   "execution_count": 41,
   "metadata": {},
   "outputs": [
    {
     "data": {
      "text/plain": [
       "'Book'"
      ]
     },
     "execution_count": 41,
     "metadata": {},
     "output_type": "execute_result"
    }
   ],
   "source": [
    "woa_type = sparql.query().convert()['results']['bindings'][0]['type']['value'].replace('http://dbpedia.org/ontology/', '')\n",
    "\n",
    "if woa_type == 'MusicalWork':\n",
    "    db_query_ent_type = \"\"\"\n",
    "        PREFIX dbo: <http://dbpedia.org/ontology/>\n",
    "        PREFIX foaf: <http://xmlns.com/foaf/0.1/>\n",
    "        PREFIX wikipedia-en: <http://en.wikipedia.org/wiki/>\n",
    "        PREFIX rdf: <http://www.w3.org/1999/02/22-rdf-syntax-ns#>\n",
    "\n",
    "        SELECT DISTINCT ?wikiLinks ?type\n",
    "        WHERE { \n",
    "                VALUES ?type { dbo:Album dbo:Song dbo:Single}\n",
    "                ?entity foaf:isPrimaryTopicOf wikipedia-en:\"\"\"+cut_url+\"\"\";\n",
    "                        rdf:type ?type.\n",
    "                }\n",
    "        \"\"\"\n",
    "\n",
    "    sparql = SPARQLWrapper(\"http://dbpedia.org/sparql\")\n",
    "    sparql.setReturnFormat(JSON)\n",
    "    sparql.setQuery(db_query_ent_type)\n",
    "\n",
    "    woa_type = sparql.query().convert()['results']['bindings'][0]['type']['value'].replace('http://dbpedia.org/ontology/', '')\n",
    "else:\n",
    "    pass\n",
    "\n",
    "woa_type"
   ]
  },
  {
   "cell_type": "markdown",
   "metadata": {},
   "source": [
    "### Graph creation and population\n",
    "I will now import the needed URIs as well as the `rdflib` library and create my local graph."
   ]
  },
  {
   "cell_type": "code",
   "execution_count": 51,
   "metadata": {},
   "outputs": [],
   "source": [
    "from URIs import *\n",
    "from rdflib import URIRef, Namespace, Graph, Literal, RDF, RDFS, BNode\n",
    "from rdflib.namespace import  XSD\n",
    "\n",
    "\n",
    "mucho_gustore = Graph()"
   ]
  },
  {
   "cell_type": "markdown",
   "metadata": {},
   "source": [
    "Since many songs are not available in DBpedia or Wikidata, I will use the Muscbrainz ID for retrieving creating the song URI pointing to the musicbrainz identifying the specifc recording.\n",
    "\n",
    "I also set a base URI path with the same base namespace used for my ontology in oder to define new individuals. Once done, I add to the graph the information about the song, its lyrics, the annotations, the artists and their genres. For what concerns the lyrics, I connect them with the specific text fragments that have an annotataion linked."
   ]
  },
  {
   "cell_type": "code",
   "execution_count": 52,
   "metadata": {},
   "outputs": [],
   "source": [
    "song_uri = URIRef('https://musicbrainz.org/recording/'+song['musicbrainz_id'])\n",
    "base_indv = 'https://raw.githubusercontent.com/tommasobattisti/MuCH-O/main/ontology/mucho.owl#'\n",
    "\n",
    "# Add song\n",
    "mucho_gustore.add((song_uri, RDF.type, Song))\n",
    "mucho_gustore.add((song_uri, title, Literal(song['name'], datatype=XSD.string, normalize=False)))\n",
    "mucho_gustore.add((song_uri, RDFS.label, Literal(song['name'], datatype=XSD.string, normalize=False)))\n",
    "\n",
    "# Add song lyrics\n",
    "lyrics_bn = BNode()\n",
    "mucho_gustore.add((song_uri, hasPart, lyrics_bn))\n",
    "mucho_gustore.add((lyrics_bn, RDF.type, Lyrics))\n",
    "mucho_gustore.add((lyrics_bn, text, Literal(song['lyrics'], datatype=XSD.string, normalize=False)))\n",
    "\n",
    "# Add text fragments and annotations to the lyrics\n",
    "for ann_num, ann in enumerate(song['annotations']):\n",
    "    fr_name = base_indv+'fragment_'+str(ann_num)\n",
    "    ann_name = base_indv+'annotation_'+str(ann_num)\n",
    "    mucho_gustore.add((lyrics_bn, hasTextFragment, URIRef(fr_name)))\n",
    "    mucho_gustore.add((URIRef(fr_name), RDF.type, TextFragment))\n",
    "    mucho_gustore.add((URIRef(fr_name), text, Literal(ann[0], datatype=XSD.string, normalize=False)))\n",
    "    mucho_gustore.add((URIRef(fr_name), hasAnnotation, URIRef(ann_name)))\n",
    "    mucho_gustore.add((URIRef(ann_name), RDF.type, Annotation))\n",
    "    mucho_gustore.add((URIRef(ann_name), text, Literal(ann[1], datatype=XSD.string, normalize=False)))\n",
    "\n",
    "\n",
    "# Add song artists\n",
    "for art in song['artists']:\n",
    "    if 'wikidata_url' in art:\n",
    "        art_uri = URIRef(art['wikidata_url'])\n",
    "    else:\n",
    "        art_uri = URIRef('https://musicbrainz.org/artist/'+art['mbz_id'])\n",
    "\n",
    "    mucho_gustore.add((song_uri, hasAuthor, art_uri))\n",
    "    mucho_gustore.add((art_uri, name, Literal(art['name'], datatype=XSD.string, normalize=False)))\n",
    "    mucho_gustore.add((art_uri, RDFS.label, Literal(art['name'], datatype=XSD.string, normalize=False)))\n",
    "\n",
    "    if art['type'] == 'Group':\n",
    "        mucho_gustore.add((art_uri, RDF.type, MusicEnsemble))\n",
    "    elif art['type'] == 'Person':\n",
    "        mucho_gustore.add((art_uri, RDF.type, Musician))\n",
    "\n",
    "    # Add artists genres\n",
    "    for genre in art['genres']:\n",
    "        genre = genre.replace(' ', '_')\n",
    "        genre_uri = URIRef(base_indv+genre)\n",
    "        mucho_gustore.add((art_uri, hasGenre, genre_uri))\n",
    "        mucho_gustore.add((genre_uri, RDF.type, MusicGenre))\n",
    "        mucho_gustore.add((genre_uri, RDFS.label, Literal(genre, datatype=XSD.string, normalize=False)))"
   ]
  },
  {
   "cell_type": "markdown",
   "metadata": {},
   "source": [
    "Once my song and the related information is in the graph, I can start adding the information about the entities found in the annotations, defining the first relations. I reuse the query done on DBpedia in the first cell of this section to assign to the related entity also its type.\n",
    "\n",
    "In addition, for each entity I add the information about the annotations in which it is mentioned and the source of this information (the URL of the song's lyrics on Genius)."
   ]
  },
  {
   "cell_type": "code",
   "execution_count": 54,
   "metadata": {},
   "outputs": [
    {
     "name": "stdout",
     "output_type": "stream",
     "text": [
      "N6a96825e0ae34e99931011b65d023726 https://raw.githubusercontent.com/tommasobattisti/MuCH-O/main/ontology/mucho.owl#hasinformationSource https://raw.githubusercontent.com/tommasobattisti/MuCH-O/main/ontology/mucho.owl#annotation_0\n",
      "N6a96825e0ae34e99931011b65d023726 https://raw.githubusercontent.com/tommasobattisti/MuCH-O/main/ontology/mucho.owl#hasinformationSource https://raw.githubusercontent.com/tommasobattisti/MuCH-O/main/ontology/mucho.owl#annotation_1\n",
      "N6a96825e0ae34e99931011b65d023726 https://raw.githubusercontent.com/tommasobattisti/MuCH-O/main/ontology/mucho.owl#hasinformationSource https://raw.githubusercontent.com/tommasobattisti/MuCH-O/main/ontology/mucho.owl#annotation_2\n",
      "N6a96825e0ae34e99931011b65d023726 https://raw.githubusercontent.com/tommasobattisti/MuCH-O/main/ontology/mucho.owl#hasinformationSource https://raw.githubusercontent.com/tommasobattisti/MuCH-O/main/ontology/mucho.owl#annotation_3\n",
      "N6a96825e0ae34e99931011b65d023726 https://raw.githubusercontent.com/tommasobattisti/MuCH-O/main/ontology/mucho.owl#hasinformationSource https://raw.githubusercontent.com/tommasobattisti/MuCH-O/main/ontology/mucho.owl#annotation_4\n",
      "N6a96825e0ae34e99931011b65d023726 https://raw.githubusercontent.com/tommasobattisti/MuCH-O/main/ontology/mucho.owl#hasinformationSource https://raw.githubusercontent.com/tommasobattisti/MuCH-O/main/ontology/mucho.owl#annotation_7\n",
      "N6a96825e0ae34e99931011b65d023726 https://raw.githubusercontent.com/tommasobattisti/MuCH-O/main/ontology/mucho.owl#hasinformationSource https://raw.githubusercontent.com/tommasobattisti/MuCH-O/main/ontology/mucho.owl#annotation_8\n",
      "N6a96825e0ae34e99931011b65d023726 https://raw.githubusercontent.com/tommasobattisti/MuCH-O/main/ontology/mucho.owl#hasinformationSource https://raw.githubusercontent.com/tommasobattisti/MuCH-O/main/ontology/mucho.owl#annotation_9\n"
     ]
    },
    {
     "data": {
      "text/plain": [
       "<Graph identifier=N41b8c5b96aa14b4caa2630c735cb08a1 (<class 'rdflib.graph.Graph'>)>"
      ]
     },
     "execution_count": 54,
     "metadata": {},
     "output_type": "execute_result"
    }
   ],
   "source": [
    "# Add relation with referenced creative work\n",
    "woa_uri = URIRef('https://www.wikidata.org/wiki/'+selected['id'])\n",
    "mucho_gustore.add((song_uri, references, woa_uri))\n",
    "mucho_gustore.add((woa_uri, title, Literal(selected['name'], datatype=XSD.string, normalize=False)))\n",
    "mucho_gustore.add((woa_uri, RDFS.label, Literal(selected['name'], datatype=XSD.string, normalize=False)))\n",
    "# Add reference information\n",
    "reference_bn = BNode()\n",
    "mucho_gustore.add((song_uri, qualifiedReference, reference_bn))\n",
    "mucho_gustore.add((reference_bn, RDF.type, Reference))\n",
    "mucho_gustore.add((reference_bn, entity, woa_uri))\n",
    "\n",
    "if woa_type == 'MusicalWork':\n",
    "    mucho_gustore.add((woa_uri, RDF.type, MusicEntity))\n",
    "elif woa_type == 'Album':\n",
    "    mucho_gustore.add((woa_uri, RDF.type, MusicAlbum))\n",
    "elif woa_type == 'Single' or woa_type == 'Song':\n",
    "    mucho_gustore.add((woa_uri, RDF.type, Song))\n",
    "elif woa_type == 'Artwork':\n",
    "    mucho_gustore.add((woa_uri, RDF.type, VisualArtEntity))\n",
    "elif woa_type == 'Film' or woa_type == 'TelevisionShow' or woa_type == \"TelevisionSeason\" or woa_type == 'TelevisionEpisode':\n",
    "    mucho_gustore.add((woa_uri, RDF.type, AudiovisualEntity))\n",
    "elif woa_type == 'Poem' or woa_type == 'Book' or woa_type == 'Comic' or woa_type == 'Play':\n",
    "    mucho_gustore.add((woa_uri, RDF.type, LiteraryEntity))\n",
    "else:\n",
    "    mucho_gustore.add((woa_uri, RDF.type, InformationObject))\n",
    "\n",
    "\n",
    "# Add source url and information text about relation\n",
    "for woa in ann_woa:\n",
    "    if woa == selected['name']:\n",
    "        for a in ann_woa[woa][\"annotation_number\"]:\n",
    "            string = song[\"annotations\"][int(a)][1].replace('\\n\\n', ' ').replace('\\n', ' ').replace('   ', ' ').replace('  ', ' ')\n",
    "            mucho_gustore.add((reference_bn, influenceSourceText, Literal(string, datatype=XSD.string, normalize=False)))\n",
    "            mucho_gustore.add((reference_bn, hasInformationSource, URIRef(base_indv+'annotation_'+str(a)))) #add the annotation as information source for the relation\n",
    "            print(reference_bn, hasInformationSource, URIRef(base_indv+'annotation_'+str(a)))\n",
    "mucho_gustore.add((reference_bn, influenceInformationSource, Literal(song['genius_url'], datatype=URIRef(\"http://www.w3.org/2001/XMLSchema#anyURI\"))))"
   ]
  },
  {
   "cell_type": "markdown",
   "metadata": {},
   "source": [
    "Once done, I am able to add to the referenced entity the connections I found on its Wikipedia page specifying the relation type, the source of the information and the text from which it is possible to identify the relation (the same from which the relation is been automatically exracted).\n",
    "\n",
    "In assigning the type of the connected entities, I also make another query to DBpedia to understand if it is possible to assign a more specific type to the entity (only in the case in which the type is `MusicalWork`). If so, I assign it."
   ]
  },
  {
   "cell_type": "code",
   "execution_count": 45,
   "metadata": {},
   "outputs": [],
   "source": [
    "# Add relations with other creative works\n",
    "for ent in entity_relation:\n",
    "    ent_uri = URIRef(fast_check[ent][2])\n",
    "    ent_type = fast_check[ent][1]\n",
    "    #Add entity type\n",
    "    if ent_type == 'MusicalWork':\n",
    "        db_et_query = \"\"\"\n",
    "        PREFIX dbo: <http://dbpedia.org/ontology/>\n",
    "        PREFIX rdf: <http://www.w3.org/1999/02/22-rdf-syntax-ns#>\n",
    "            \n",
    "        SELECT ?type\n",
    "        WHERE { \n",
    "                VALUES ?type { dbo:Album dbo:Song dbo:Single}\n",
    "                <\"\"\"+fast_check[ent][2]+\"\"\"> rdf:type ?type.\n",
    "                }\n",
    "        \"\"\"\n",
    "\n",
    "        sparql = SPARQLWrapper(\"http://dbpedia.org/sparql\")\n",
    "        sparql.setReturnFormat(JSON)\n",
    "        sparql.setQuery(db_et_query)\n",
    "        ent_type = sparql.query().convert()['results']['bindings'][0]['type']['value'].replace('http://dbpedia.org/ontology/', '')\n",
    "        if ent_type == 'Album':\n",
    "            mucho_gustore.add((ent_uri, RDF.type, MusicAlbum))\n",
    "        elif ent_type == 'Single' or ent_type == 'Song':\n",
    "            mucho_gustore.add((ent_uri, RDF.type, Song))\n",
    "        else:\n",
    "            mucho_gustore.add((ent_uri, RDF.type, MusicEntity))\n",
    "        mucho_gustore.add((ent_uri, title, Literal(fast_check[ent][3], datatype=XSD.string, normalize=False))) #I repeat this line for every condiftional block because in some cases the property changes \n",
    "    elif ent_type == 'Artwork':\n",
    "        mucho_gustore.add((ent_uri, RDF.type, VisualArtEntity))\n",
    "        mucho_gustore.add((ent_uri, title, Literal(fast_check[ent][3], datatype=XSD.string, normalize=False)))\n",
    "    elif ent_type == 'Film' or ent_type == 'TelevisionShow' or ent_type == \"TelevisionSeason\" or ent_type == 'TelevisionEpisode':\n",
    "        mucho_gustore.add((ent_uri, RDF.type, AudiovisualEntity))\n",
    "        mucho_gustore.add((ent_uri, title, Literal(fast_check[ent][3], datatype=XSD.string, normalize=False)))\n",
    "    elif ent_type == 'Poem' or ent_type == 'Book' or ent_type == 'Comic' or ent_type == 'Play':\n",
    "        mucho_gustore.add((ent_uri, RDF.type, LiteraryEntity))\n",
    "        mucho_gustore.add((ent_uri, title, Literal(fast_check[ent][3], datatype=XSD.string, normalize=False)))\n",
    "    elif ent_type == 'Person':\n",
    "        mucho_gustore.add((ent_uri, RDF.type, Person))\n",
    "        mucho_gustore.add((ent_uri, name, Literal(fast_check[ent][3], datatype=XSD.string, normalize=False)))\n",
    "    elif ent_type == 'Group':\n",
    "        mucho_gustore.add((ent_uri, RDF.type, Group))\n",
    "        mucho_gustore.add((ent_uri, name, Literal(fast_check[ent][3], datatype=XSD.string, normalize=False)))\n",
    "    \n",
    "    mucho_gustore.add((ent_uri, RDFS.label, Literal(fast_check[ent][3], datatype=XSD.string, normalize=False))) # In any case I add the label at the end\n",
    "\n",
    "    \n",
    "    # Add entity relation\n",
    "    if entity_relation[ent] == 'based on':\n",
    "        mucho_gustore.add((ent_uri, isBasedOn, woa_uri))\n",
    "        based_on_bn = BNode()\n",
    "        mucho_gustore.add((ent_uri, qualifiedBasis, based_on_bn))\n",
    "        mucho_gustore.add((based_on_bn, RDF.type, Basis))\n",
    "        mucho_gustore.add((based_on_bn, entity, woa_uri))\n",
    "        mucho_gustore.add((based_on_bn, influenceInformationSource, Literal(selected[\"wikipedia_url\"], datatype=URIRef(\"http://www.w3.org/2001/XMLSchema#anyURI\"))))\n",
    "        for gr in groups:\n",
    "            if ent in groups[gr]:\n",
    "                mucho_gustore.add((based_on_bn, influenceSourceText, Literal(src_to_parse[gr], datatype=XSD.string, normalize=False)))\n",
    "\n",
    "    elif entity_relation[ent] == 'inspired by':\n",
    "        mucho_gustore.add((ent_uri, wasInspiredBy, woa_uri))\n",
    "        insp_by_bn = BNode()\n",
    "        mucho_gustore.add((ent_uri, qualifiedInspiration, insp_by_bn))\n",
    "        mucho_gustore.add((insp_by_bn, RDF.type, Inspiration))\n",
    "        mucho_gustore.add((insp_by_bn, entity, woa_uri))\n",
    "        mucho_gustore.add((insp_by_bn, influenceInformationSource, Literal(selected[\"wikipedia_url\"], datatype=URIRef(\"http://www.w3.org/2001/XMLSchema#anyURI\"))))\n",
    "        for gr in groups:\n",
    "            if ent in groups[gr]:\n",
    "                mucho_gustore.add((insp_by_bn, influenceSourceText, Literal(src_to_parse[gr], datatype=XSD.string, normalize=False)))\n",
    "\n",
    "    elif entity_relation[ent] == 'derived from':\n",
    "        mucho_gustore.add((ent_uri, wasDerivedFrom, woa_uri))\n",
    "        der_from_bn = BNode()\n",
    "        mucho_gustore.add((ent_uri, qualifiedDerivation, der_from_bn))\n",
    "        mucho_gustore.add((der_from_bn, RDF.type, Derivation))\n",
    "        mucho_gustore.add((der_from_bn, entity, woa_uri))\n",
    "        mucho_gustore.add((der_from_bn, influenceInformationSource, Literal(selected[\"wikipedia_url\"], datatype=URIRef(\"http://www.w3.org/2001/XMLSchema#anyURI\"))))\n",
    "        for gr in groups:\n",
    "            if ent in groups[gr]:\n",
    "                mucho_gustore.add((der_from_bn, influenceSourceText, Literal(src_to_parse[gr], datatype=XSD.string, normalize=False)))\n",
    "\n",
    "    elif entity_relation[ent] == 'adapted from':\n",
    "        mucho_gustore.add((ent_uri, isAdaptationOf, woa_uri))\n",
    "        ad_of_bn = BNode()\n",
    "        mucho_gustore.add((ent_uri, qualifiedAdaptation, ad_of_bn))\n",
    "        mucho_gustore.add((ad_of_bn, RDF.type, Adaptation))\n",
    "        mucho_gustore.add((ad_of_bn, entity, woa_uri))\n",
    "        mucho_gustore.add((ad_of_bn, influenceInformationSource, Literal(selected[\"wikipedia_url\"], datatype=URIRef(\"http://www.w3.org/2001/XMLSchema#anyURI\"))))\n",
    "        for gr in groups:\n",
    "            if ent in groups[gr]:\n",
    "                mucho_gustore.add((ad_of_bn, influenceSourceText, Literal(src_to_parse[gr], datatype=XSD.string, normalize=False)))\n",
    "\n",
    "    elif entity_relation[ent] == 'references':\n",
    "        mucho_gustore.add((ent_uri, references, woa_uri))\n",
    "        ref_bn = BNode()\n",
    "        mucho_gustore.add((ent_uri, qualifiedReference, ref_bn))\n",
    "        mucho_gustore.add((ref_bn, RDF.type, Reference))\n",
    "        mucho_gustore.add((ref_bn, entity, woa_uri))\n",
    "        mucho_gustore.add((ref_bn, influenceInformationSource, Literal(selected[\"wikipedia_url\"], datatype=URIRef(\"http://www.w3.org/2001/XMLSchema#anyURI\"))))\n",
    "        for gr in groups:\n",
    "            if ent in groups[gr]:\n",
    "                mucho_gustore.add((ref_bn, influenceSourceText, Literal(src_to_parse[gr], datatype=XSD.string, normalize=False)))\n",
    "\n",
    "    elif entity_relation[ent] == 'mentions':\n",
    "        mucho_gustore.add((ent_uri, mentions, woa_uri))\n",
    "        men_bn = BNode()\n",
    "        mucho_gustore.add((ent_uri, qualifiedMention, men_bn))\n",
    "        mucho_gustore.add((men_bn, RDF.type, Mention))\n",
    "        mucho_gustore.add((men_bn, entity, woa_uri))\n",
    "        mucho_gustore.add((men_bn, influenceInformationSource, Literal(selected[\"wikipedia_url\"], datatype=URIRef(\"http://www.w3.org/2001/XMLSchema#anyURI\"))))\n",
    "        for gr in groups:\n",
    "            if ent in groups[gr]:\n",
    "                mucho_gustore.add((men_bn, influenceSourceText, Literal(src_to_parse[gr], datatype=XSD.string, normalize=False)))\n",
    "\n",
    "    elif entity_relation[ent] == 'alludes to':\n",
    "        mucho_gustore.add((ent_uri, alludesTo, woa_uri))\n",
    "        all_bn = BNode()\n",
    "        mucho_gustore.add((ent_uri, qualifiedAllusion, all_bn))\n",
    "        mucho_gustore.add((all_bn, RDF.type, Allusion))\n",
    "        mucho_gustore.add((all_bn, entity, woa_uri))\n",
    "        mucho_gustore.add((all_bn, influenceInformationSource, Literal(selected[\"wikipedia_url\"], datatype=URIRef(\"http://www.w3.org/2001/XMLSchema#anyURI\"))))\n",
    "        for gr in groups:\n",
    "            if ent in groups[gr]:\n",
    "                mucho_gustore.add((all_bn, influenceSourceText, Literal(src_to_parse[gr], datatype=XSD.string, normalize=False)))\n",
    "\n",
    "    elif entity_relation[ent] == 'quotes':\n",
    "        mucho_gustore.add((ent_uri, cites, woa_uri))\n",
    "        cit_bn = BNode()\n",
    "        mucho_gustore.add((ent_uri, qualifiedCitation, cit_bn))\n",
    "        mucho_gustore.add((cit_bn, RDF.type, Citation))\n",
    "        mucho_gustore.add((cit_bn, entity, woa_uri))\n",
    "        mucho_gustore.add((cit_bn, influenceInformationSource, Literal(selected[\"wikipedia_url\"], datatype=URIRef(\"http://www.w3.org/2001/XMLSchema#anyURI\"))))\n",
    "        for gr in groups:\n",
    "            if ent in groups[gr]:\n",
    "                mucho_gustore.add((cit_bn, influenceSourceText, Literal(src_to_parse[gr], datatype=XSD.string, normalize=False)))\n",
    "\n",
    "    else: # entity_relation[ent] == 'influenced by' or entity_relation[ent] == 'general influence'\n",
    "        mucho_gustore.add((ent_uri, wasInfluencedBy, woa_uri))\n",
    "        inf_by_bn = BNode()\n",
    "        mucho_gustore.add((ent_uri, qualifiedInfluence, inf_by_bn))\n",
    "        mucho_gustore.add((inf_by_bn, RDF.type, EntityInfluence))\n",
    "        mucho_gustore.add((inf_by_bn, entity, woa_uri))\n",
    "        mucho_gustore.add((inf_by_bn, influenceInformationSource, Literal(selected[\"wikipedia_url\"], datatype=URIRef(\"http://www.w3.org/2001/XMLSchema#anyURI\"))))\n",
    "        for gr in groups:\n",
    "            if ent in groups[gr]:\n",
    "                mucho_gustore.add((inf_by_bn, influenceSourceText, Literal(src_to_parse[gr], datatype=XSD.string, normalize=False)))\n"
   ]
  },
  {
   "cell_type": "markdown",
   "metadata": {},
   "source": [
    "With my graph now populated, the last thing to do is to export it in a file. I choose to export it in turtle format."
   ]
  },
  {
   "cell_type": "code",
   "execution_count": 46,
   "metadata": {},
   "outputs": [
    {
     "data": {
      "text/plain": [
       "<Graph identifier=N0872dabfdf1645d293665a7f911a1b96 (<class 'rdflib.graph.Graph'>)>"
      ]
     },
     "execution_count": 46,
     "metadata": {},
     "output_type": "execute_result"
    }
   ],
   "source": [
    "mucho_gustore.serialize(destination=\"./kg.ttl\", format=\"turtle\")"
   ]
  }
 ],
 "metadata": {
  "kernelspec": {
   "display_name": "Python 3",
   "language": "python",
   "name": "python3"
  },
  "language_info": {
   "codemirror_mode": {
    "name": "ipython",
    "version": 3
   },
   "file_extension": ".py",
   "mimetype": "text/x-python",
   "name": "python",
   "nbconvert_exporter": "python",
   "pygments_lexer": "ipython3",
   "version": "3.10.0"
  },
  "orig_nbformat": 4
 },
 "nbformat": 4,
 "nbformat_minor": 2
}
