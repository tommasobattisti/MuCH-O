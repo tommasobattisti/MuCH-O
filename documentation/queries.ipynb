{
 "cells": [
  {
   "cell_type": "code",
   "execution_count": 9,
   "metadata": {},
   "outputs": [],
   "source": [
    "from rdflib import *"
   ]
  },
  {
   "cell_type": "code",
   "execution_count": 10,
   "metadata": {},
   "outputs": [
    {
     "data": {
      "text/plain": [
       "<Graph identifier=Nba0b137b78d14103a26db0694daabe6b (<class 'rdflib.graph.Graph'>)>"
      ]
     },
     "execution_count": 10,
     "metadata": {},
     "output_type": "execute_result"
    }
   ],
   "source": [
    "mucho_gustore = Graph()\n",
    "mucho_gustore.parse(\"https://raw.githubusercontent.com/tommasobattisti/MuCH-O/main/documentation/kg.ttl\", format=\"turtle\")"
   ]
  },
  {
   "cell_type": "markdown",
   "metadata": {},
   "source": [
    "## 01. Which entity/ies are referenced by the song?"
   ]
  },
  {
   "cell_type": "code",
   "execution_count": 11,
   "metadata": {},
   "outputs": [
    {
     "name": "stdout",
     "output_type": "stream",
     "text": [
      "Entity: https://www.wikidata.org/wiki/Q208460 \n",
      " Type: LiteraryEntity \n",
      " Title: 1984 \n",
      "\n"
     ]
    }
   ],
   "source": [
    "q1 = \"\"\"\n",
    "        PREFIX mucho: <https://raw.githubusercontent.com/tommasobattisti/MuCH-O/main/ontology/mucho.owl#>\n",
    "        PREFIX core: <https://w3id.org/polifonia/ontology/core/>\n",
    "\n",
    "        SELECT ?entity ?type ?title\n",
    "        WHERE {\n",
    "            <https://musicbrainz.org/recording/09595161-717b-4ec5-94d1-9040aab8aae4> mucho:references ?entity .\n",
    "            ?entity a ?type .\n",
    "            ?entity core:title ?title .\n",
    "        }\n",
    "    \"\"\"\n",
    "\n",
    "res = mucho_gustore.query(q1)\n",
    "for row in res:\n",
    "    print(\"Entity: %s \\n Type: %s \\n Title: %s \\n\" %(row.entity, row.type.replace('https://raw.githubusercontent.com/tommasobattisti/MuCH-O/main/ontology/mucho.owl#', ''), row.title))"
   ]
  },
  {
   "cell_type": "markdown",
   "metadata": {},
   "source": [
    "## 02. Which are the annotations that have been identified to be referencing the above entity and what do they contain?"
   ]
  },
  {
   "cell_type": "code",
   "execution_count": null,
   "metadata": {},
   "outputs": [],
   "source": [
    "q2 = \"\"\"\n",
    "        PREFIX mucho: <https://raw.githubusercontent.com/tommasobattisti/MuCH-O/main/ontology/mucho.owl#>\n",
    "        PREFIX core: <https://w3id.org/polifonia/ontology/core/>\n",
    "        PREFIX prov: <http://www.w3.org/ns/prov#>\n",
    "\n",
    "        SELECT ?annotation ?text\n",
    "        WHERE {\n",
    "            <https://musicbrainz.org/recording/09595161-717b-4ec5-94d1-9040aab8aae4> mucho:qualifiedReference ?reference .\n",
    "            ?reference prov:entity <https://www.wikidata.org/wiki/Q208460> ;\n",
    "                        mucho:hasInformationSource ?annotation .\n",
    "            ?annotation core:text ?text .\n",
    "            \n",
    "        }\n",
    "    \"\"\"\n",
    "\n",
    "res = mucho_gustore.query(q2)\n",
    "for row in res:\n",
    "    print(\"Annotation: %s \\n Text: %s \\n\\n\" %(row.annotation, row.text))"
   ]
  },
  {
   "cell_type": "markdown",
   "metadata": {},
   "source": [
    "## 03. Which are the lyrics fragments that have been annotated with the above annotation (therefore referencing in some way the involved entity)?"
   ]
  },
  {
   "cell_type": "code",
   "execution_count": 14,
   "metadata": {},
   "outputs": [
    {
     "name": "stdout",
     "output_type": "stream",
     "text": [
      "Lyrics fragment: https://raw.githubusercontent.com/tommasobattisti/MuCH-O/main/ontology/mucho.owl#fragment_0 \n",
      " Text: Hold me\n",
      " Our lips must always be sealed \n",
      " Annotation: https://raw.githubusercontent.com/tommasobattisti/MuCH-O/main/ontology/mucho.owl#annotation_0 \n",
      "\n",
      "\n",
      "Lyrics fragment: https://raw.githubusercontent.com/tommasobattisti/MuCH-O/main/ontology/mucho.owl#fragment_1 \n",
      " Text: The night has reached its end\n",
      " We can’t pretend\n",
      " We must run\n",
      " We must run\n",
      " It’s time to run\n",
      " Take us away from here\n",
      " Protect us from further harm\n",
      " Resistance \n",
      " Annotation: https://raw.githubusercontent.com/tommasobattisti/MuCH-O/main/ontology/mucho.owl#annotation_1 \n",
      "\n",
      "\n",
      "Lyrics fragment: https://raw.githubusercontent.com/tommasobattisti/MuCH-O/main/ontology/mucho.owl#fragment_2 \n",
      " Text: If we live a life in fear\n",
      " I’ll wait a thousand years\n",
      " Just to see you smile again \n",
      " Annotation: https://raw.githubusercontent.com/tommasobattisti/MuCH-O/main/ontology/mucho.owl#annotation_2 \n",
      "\n",
      "\n",
      "Lyrics fragment: https://raw.githubusercontent.com/tommasobattisti/MuCH-O/main/ontology/mucho.owl#fragment_3 \n",
      " Text: It could be wrong, could be wrong, it can never last\n",
      " It could be wrong, could be wrong, must erase it fast\n",
      " It could be wrong, could be wrong, but it could have been right\n",
      " It could be wrong, could be... \n",
      " Annotation: https://raw.githubusercontent.com/tommasobattisti/MuCH-O/main/ontology/mucho.owl#annotation_3 \n",
      "\n",
      "\n",
      "Lyrics fragment: https://raw.githubusercontent.com/tommasobattisti/MuCH-O/main/ontology/mucho.owl#fragment_4 \n",
      " Text: Kill your prayers for love and peace\n",
      " You’ll wake the Thought Police\n",
      " We can’t hide the truth inside \n",
      " Annotation: https://raw.githubusercontent.com/tommasobattisti/MuCH-O/main/ontology/mucho.owl#annotation_4 \n",
      "\n",
      "\n",
      "Lyrics fragment: https://raw.githubusercontent.com/tommasobattisti/MuCH-O/main/ontology/mucho.owl#fragment_7 \n",
      " Text: It could be wrong, could be wrong, but it should have been right\n",
      " It could be wrong, could be wrong, to let our hearts ignite \n",
      " Annotation: https://raw.githubusercontent.com/tommasobattisti/MuCH-O/main/ontology/mucho.owl#annotation_7 \n",
      "\n",
      "\n",
      "Lyrics fragment: https://raw.githubusercontent.com/tommasobattisti/MuCH-O/main/ontology/mucho.owl#fragment_8 \n",
      " Text: Or will the walls start caving in? \n",
      " Annotation: https://raw.githubusercontent.com/tommasobattisti/MuCH-O/main/ontology/mucho.owl#annotation_8 \n",
      "\n",
      "\n",
      "Lyrics fragment: https://raw.githubusercontent.com/tommasobattisti/MuCH-O/main/ontology/mucho.owl#fragment_9 \n",
      " Text: Is our secret safe tonight?\n",
      " And are we out of sight?\n",
      " Or will our world come tumbling down?\n",
      " Will they find our hiding place?\n",
      " Is this our last embrace? \n",
      " Annotation: https://raw.githubusercontent.com/tommasobattisti/MuCH-O/main/ontology/mucho.owl#annotation_9 \n",
      "\n",
      "\n",
      "Lyrics fragment: https://raw.githubusercontent.com/tommasobattisti/MuCH-O/main/ontology/mucho.owl#fragment_0 \n",
      " Text: Hold me\n",
      " Our lips must always be sealed \n",
      " Annotation: https://raw.githubusercontent.com/tommasobattisti/MuCH-O/main/ontology/mucho.owl#annotation_0 \n",
      "\n",
      "\n",
      "Lyrics fragment: https://raw.githubusercontent.com/tommasobattisti/MuCH-O/main/ontology/mucho.owl#fragment_1 \n",
      " Text: The night has reached its end\n",
      " We can’t pretend\n",
      " We must run\n",
      " We must run\n",
      " It’s time to run\n",
      " Take us away from here\n",
      " Protect us from further harm\n",
      " Resistance \n",
      " Annotation: https://raw.githubusercontent.com/tommasobattisti/MuCH-O/main/ontology/mucho.owl#annotation_1 \n",
      "\n",
      "\n",
      "Lyrics fragment: https://raw.githubusercontent.com/tommasobattisti/MuCH-O/main/ontology/mucho.owl#fragment_2 \n",
      " Text: If we live a life in fear\n",
      " I’ll wait a thousand years\n",
      " Just to see you smile again \n",
      " Annotation: https://raw.githubusercontent.com/tommasobattisti/MuCH-O/main/ontology/mucho.owl#annotation_2 \n",
      "\n",
      "\n",
      "Lyrics fragment: https://raw.githubusercontent.com/tommasobattisti/MuCH-O/main/ontology/mucho.owl#fragment_3 \n",
      " Text: It could be wrong, could be wrong, it can never last\n",
      " It could be wrong, could be wrong, must erase it fast\n",
      " It could be wrong, could be wrong, but it could have been right\n",
      " It could be wrong, could be... \n",
      " Annotation: https://raw.githubusercontent.com/tommasobattisti/MuCH-O/main/ontology/mucho.owl#annotation_3 \n",
      "\n",
      "\n",
      "Lyrics fragment: https://raw.githubusercontent.com/tommasobattisti/MuCH-O/main/ontology/mucho.owl#fragment_4 \n",
      " Text: Kill your prayers for love and peace\n",
      " You’ll wake the Thought Police\n",
      " We can’t hide the truth inside \n",
      " Annotation: https://raw.githubusercontent.com/tommasobattisti/MuCH-O/main/ontology/mucho.owl#annotation_4 \n",
      "\n",
      "\n",
      "Lyrics fragment: https://raw.githubusercontent.com/tommasobattisti/MuCH-O/main/ontology/mucho.owl#fragment_7 \n",
      " Text: It could be wrong, could be wrong, but it should have been right\n",
      " It could be wrong, could be wrong, to let our hearts ignite \n",
      " Annotation: https://raw.githubusercontent.com/tommasobattisti/MuCH-O/main/ontology/mucho.owl#annotation_7 \n",
      "\n",
      "\n",
      "Lyrics fragment: https://raw.githubusercontent.com/tommasobattisti/MuCH-O/main/ontology/mucho.owl#fragment_8 \n",
      " Text: Or will the walls start caving in? \n",
      " Annotation: https://raw.githubusercontent.com/tommasobattisti/MuCH-O/main/ontology/mucho.owl#annotation_8 \n",
      "\n",
      "\n",
      "Lyrics fragment: https://raw.githubusercontent.com/tommasobattisti/MuCH-O/main/ontology/mucho.owl#fragment_9 \n",
      " Text: Is our secret safe tonight?\n",
      " And are we out of sight?\n",
      " Or will our world come tumbling down?\n",
      " Will they find our hiding place?\n",
      " Is this our last embrace? \n",
      " Annotation: https://raw.githubusercontent.com/tommasobattisti/MuCH-O/main/ontology/mucho.owl#annotation_9 \n",
      "\n",
      "\n"
     ]
    }
   ],
   "source": [
    "q3 = \"\"\"\n",
    "        PREFIX mucho: <https://raw.githubusercontent.com/tommasobattisti/MuCH-O/main/ontology/mucho.owl#>\n",
    "        PREFIX core: <https://w3id.org/polifonia/ontology/core/>\n",
    "        PREFIX prov: <http://www.w3.org/ns/prov#>\n",
    "\n",
    "        SELECT ?lyricsFragment ?text ?annotation\n",
    "        WHERE {\n",
    "            <https://musicbrainz.org/recording/09595161-717b-4ec5-94d1-9040aab8aae4> mucho:qualifiedReference ?reference .\n",
    "            ?reference prov:entity <https://www.wikidata.org/wiki/Q208460> ;\n",
    "                        mucho:hasInformationSource ?annotation .\n",
    "            ?lyricsFragment mucho:hasAnnotation ?annotation ;\n",
    "                            core:text ?text .\n",
    "            \n",
    "        }\n",
    "    \"\"\"\n",
    "\n",
    "res = mucho_gustore.query(q3)\n",
    "for row in res:\n",
    "    print(\"Lyrics fragment: %s \\n Text: %s \\n Annotation: %s \\n\\n\" %(row.lyricsFragment, row.text, row.annotation))"
   ]
  },
  {
   "cell_type": "markdown",
   "metadata": {},
   "source": [
    "## 04. Which entities can be suggested to the user as possible Cultural Heritage object to be linked to the song?"
   ]
  },
  {
   "cell_type": "code",
   "execution_count": null,
   "metadata": {},
   "outputs": [],
   "source": []
  },
  {
   "cell_type": "markdown",
   "metadata": {},
   "source": [
    "What kind of relation exists between the entities related to the song and the entities related to the first entities?"
   ]
  }
 ],
 "metadata": {
  "kernelspec": {
   "display_name": "Python 3",
   "language": "python",
   "name": "python3"
  },
  "language_info": {
   "codemirror_mode": {
    "name": "ipython",
    "version": 3
   },
   "file_extension": ".py",
   "mimetype": "text/x-python",
   "name": "python",
   "nbconvert_exporter": "python",
   "pygments_lexer": "ipython3",
   "version": "3.10.0"
  },
  "orig_nbformat": 4
 },
 "nbformat": 4,
 "nbformat_minor": 2
}
