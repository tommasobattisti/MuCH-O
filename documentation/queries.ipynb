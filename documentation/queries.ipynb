{
 "cells": [
  {
   "cell_type": "code",
   "execution_count": 1,
   "metadata": {},
   "outputs": [],
   "source": [
    "from rdflib import *"
   ]
  },
  {
   "cell_type": "code",
   "execution_count": 2,
   "metadata": {},
   "outputs": [
    {
     "data": {
      "text/plain": [
       "<Graph identifier=Nc534e95416744a0c86b7fd6c89e6e832 (<class 'rdflib.graph.Graph'>)>"
      ]
     },
     "execution_count": 2,
     "metadata": {},
     "output_type": "execute_result"
    }
   ],
   "source": [
    "mucho_gustore = Graph()\n",
    "mucho_gustore.parse(\"https://raw.githubusercontent.com/tommasobattisti/MuCH-O/main/documentation/kg.ttl\", format=\"turtle\")"
   ]
  },
  {
   "cell_type": "markdown",
   "metadata": {},
   "source": [
    "## 01. Which entity/ies are referenced by the song?"
   ]
  },
  {
   "cell_type": "code",
   "execution_count": 3,
   "metadata": {},
   "outputs": [
    {
     "name": "stdout",
     "output_type": "stream",
     "text": [
      "Entity: https://www.wikidata.org/wiki/Q208460 \n",
      " Type: LiteraryEntity \n",
      " Title: 1984 \n",
      "\n"
     ]
    }
   ],
   "source": [
    "q1 = \"\"\"\n",
    "        PREFIX mucho: <https://raw.githubusercontent.com/tommasobattisti/MuCH-O/main/ontology/mucho.owl#>\n",
    "        PREFIX core: <https://w3id.org/polifonia/ontology/core/>\n",
    "\n",
    "        SELECT ?entity ?type ?title\n",
    "        WHERE {\n",
    "            <https://musicbrainz.org/recording/09595161-717b-4ec5-94d1-9040aab8aae4> mucho:references ?entity .\n",
    "            ?entity a ?type .\n",
    "            ?entity core:title ?title .\n",
    "        }\n",
    "    \"\"\"\n",
    "\n",
    "res = mucho_gustore.query(q1)\n",
    "for row in res:\n",
    "    print(\"Entity: %s \\n Type: %s \\n Title: %s \\n\" %(row.entity, row.type.replace('https://raw.githubusercontent.com/tommasobattisti/MuCH-O/main/ontology/mucho.owl#', ''), row.title))"
   ]
  },
  {
   "cell_type": "markdown",
   "metadata": {},
   "source": [
    "## 02. Which lyrics fragments have been identified to be referencing the above entity in some way?"
   ]
  },
  {
   "cell_type": "code",
   "execution_count": 7,
   "metadata": {},
   "outputs": [],
   "source": [
    "q2 = \"\"\"\n",
    "        PREFIX mucho: <https://raw.githubusercontent.com/tommasobattisti/MuCH-O/main/ontology/mucho.owl#>\n",
    "        PREFIX core: <https://w3id.org/polifonia/ontology/core/>\n",
    "        PREFIX prov: <http://www.w3.org/ns/prov#>\n",
    "\n",
    "        SELECT ?lyricsFragment ?text ?annotation\n",
    "        WHERE {\n",
    "            <https://musicbrainz.org/recording/09595161-717b-4ec5-94d1-9040aab8aae4> mucho:qualifiedReference ?reference .\n",
    "            ?reference prov:entity <https://www.wikidata.org/wiki/Q208460> ;\n",
    "                        mucho:hasInformationSource ?annotation .\n",
    "            \n",
    "        }\n",
    "    \"\"\"\n",
    "\n",
    "res = mucho_gustore.query(q2)\n",
    "for row in res:\n",
    "    print(row)"
   ]
  },
  {
   "cell_type": "markdown",
   "metadata": {},
   "source": [
    "Which entity/ies are mentioned by the lyrics? -> therefore which entity/ies the song explicitely refers to?\n",
    "Which entity/ies are mentioned in the comments/interpretations? -> therefore which entity/ies the song implicitely refers to?\n",
    "Which lyrics fragment refers to which entity/ies?\n",
    "Which comments/interpretations fragment refers to which entity/ies?\n",
    "Which entity/ies are mentioned in the comments/interpretations and are not mentioned in the lyrics and vice versa?\n",
    "Which entity/ies are inderectly related to the song (related to entities related to the song)?\n",
    "What kind of relation exists between the entities related to the song and the entities related to the first entities?"
   ]
  }
 ],
 "metadata": {
  "kernelspec": {
   "display_name": "Python 3",
   "language": "python",
   "name": "python3"
  },
  "language_info": {
   "codemirror_mode": {
    "name": "ipython",
    "version": 3
   },
   "file_extension": ".py",
   "mimetype": "text/x-python",
   "name": "python",
   "nbconvert_exporter": "python",
   "pygments_lexer": "ipython3",
   "version": "3.10.0"
  },
  "orig_nbformat": 4
 },
 "nbformat": 4,
 "nbformat_minor": 2
}
