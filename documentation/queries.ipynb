{
 "cells": [
  {
   "cell_type": "code",
   "execution_count": 1,
   "metadata": {},
   "outputs": [],
   "source": [
    "from rdflib import *"
   ]
  },
  {
   "cell_type": "code",
   "execution_count": 2,
   "metadata": {},
   "outputs": [
    {
     "data": {
      "text/plain": [
       "<Graph identifier=N9fbc7eb7e5ee4f3b997b5d0444efdd47 (<class 'rdflib.graph.Graph'>)>"
      ]
     },
     "execution_count": 2,
     "metadata": {},
     "output_type": "execute_result"
    }
   ],
   "source": [
    "mucho_gustore = Graph()\n",
    "mucho_gustore.parse(\"https://raw.githubusercontent.com/tommasobattisti/MuCH-O/main/documentation/kg.ttl\", format=\"turtle\")"
   ]
  },
  {
   "cell_type": "markdown",
   "metadata": {},
   "source": [
    "## 01. Which entity/ies are referenced by the song?"
   ]
  },
  {
   "cell_type": "code",
   "execution_count": 3,
   "metadata": {},
   "outputs": [
    {
     "name": "stdout",
     "output_type": "stream",
     "text": [
      "Entity: https://www.wikidata.org/wiki/Q208460 \n",
      " Type: LiteraryEntity \n",
      " Title: 1984 \n",
      "\n"
     ]
    }
   ],
   "source": [
    "q1 = \"\"\"\n",
    "        PREFIX mucho: <https://raw.githubusercontent.com/tommasobattisti/MuCH-O/main/ontology/mucho.owl#>\n",
    "        PREFIX core: <https://w3id.org/polifonia/ontology/core/>\n",
    "\n",
    "        SELECT ?entity ?type ?title\n",
    "        WHERE {\n",
    "            <https://musicbrainz.org/recording/09595161-717b-4ec5-94d1-9040aab8aae4> mucho:references ?entity .\n",
    "            ?entity a ?type .\n",
    "            ?entity core:title ?title .\n",
    "        }\n",
    "    \"\"\"\n",
    "\n",
    "res = mucho_gustore.query(q1)\n",
    "for row in res:\n",
    "    print(\"Entity: %s \\n Type: %s \\n Title: %s \\n\" %(row.entity, row.type.replace('https://raw.githubusercontent.com/tommasobattisti/MuCH-O/main/ontology/mucho.owl#', ''), row.title))"
   ]
  },
  {
   "cell_type": "markdown",
   "metadata": {},
   "source": [
    "## 02. Which lyrics fragments have been identified to be referencing the above entity?"
   ]
  },
  {
   "cell_type": "code",
   "execution_count": 6,
   "metadata": {},
   "outputs": [
    {
     "name": "stdout",
     "output_type": "stream",
     "text": [
      "Lyrics fragment: https://raw.githubusercontent.com/tommasobattisti/MuCH-O/main/ontology/mucho.owl#fragment_0 \n",
      " Text: Hold me\n",
      " Our lips must always be sealed \n",
      "\n",
      "\n",
      "Lyrics fragment: https://raw.githubusercontent.com/tommasobattisti/MuCH-O/main/ontology/mucho.owl#fragment_1 \n",
      " Text: The night has reached its end\n",
      " We can’t pretend\n",
      " We must run\n",
      " We must run\n",
      " It’s time to run\n",
      " Take us away from here\n",
      " Protect us from further harm\n",
      " Resistance \n",
      "\n",
      "\n",
      "Lyrics fragment: https://raw.githubusercontent.com/tommasobattisti/MuCH-O/main/ontology/mucho.owl#fragment_2 \n",
      " Text: If we live a life in fear\n",
      " I’ll wait a thousand years\n",
      " Just to see you smile again \n",
      "\n",
      "\n",
      "Lyrics fragment: https://raw.githubusercontent.com/tommasobattisti/MuCH-O/main/ontology/mucho.owl#fragment_3 \n",
      " Text: It could be wrong, could be wrong, it can never last\n",
      " It could be wrong, could be wrong, must erase it fast\n",
      " It could be wrong, could be wrong, but it could have been right\n",
      " It could be wrong, could be... \n",
      "\n",
      "\n",
      "Lyrics fragment: https://raw.githubusercontent.com/tommasobattisti/MuCH-O/main/ontology/mucho.owl#fragment_4 \n",
      " Text: Kill your prayers for love and peace\n",
      " You’ll wake the Thought Police\n",
      " We can’t hide the truth inside \n",
      "\n",
      "\n",
      "Lyrics fragment: https://raw.githubusercontent.com/tommasobattisti/MuCH-O/main/ontology/mucho.owl#fragment_7 \n",
      " Text: It could be wrong, could be wrong, but it should have been right\n",
      " It could be wrong, could be wrong, to let our hearts ignite \n",
      "\n",
      "\n",
      "Lyrics fragment: https://raw.githubusercontent.com/tommasobattisti/MuCH-O/main/ontology/mucho.owl#fragment_8 \n",
      " Text: Or will the walls start caving in? \n",
      "\n",
      "\n",
      "Lyrics fragment: https://raw.githubusercontent.com/tommasobattisti/MuCH-O/main/ontology/mucho.owl#fragment_9 \n",
      " Text: Is our secret safe tonight?\n",
      " And are we out of sight?\n",
      " Or will our world come tumbling down?\n",
      " Will they find our hiding place?\n",
      " Is this our last embrace? \n",
      "\n",
      "\n"
     ]
    }
   ],
   "source": [
    "q2 = \"\"\"\n",
    "        PREFIX mucho: <https://raw.githubusercontent.com/tommasobattisti/MuCH-O/main/ontology/mucho.owl#>\n",
    "        PREFIX core: <https://w3id.org/polifonia/ontology/core/>\n",
    "        PREFIX prov: <http://www.w3.org/ns/prov#>\n",
    "\n",
    "        SELECT ?lyricsFragment ?text\n",
    "        WHERE {\n",
    "            <https://musicbrainz.org/recording/09595161-717b-4ec5-94d1-9040aab8aae4> mucho:qualifiedReference ?reference .\n",
    "            ?reference prov:entity <https://www.wikidata.org/wiki/Q208460> ;\n",
    "                        mucho:hasInformationSource ?annotation .\n",
    "            ?lyricsFragment mucho:hasAnnotation ?annotation ;\n",
    "                            core:text ?text .\n",
    "            \n",
    "        }\n",
    "    \"\"\"\n",
    "\n",
    "res = mucho_gustore.query(q2)\n",
    "for row in res:\n",
    "    print(\"Lyrics fragment: %s \\n Text: %s \\n\\n\" %(row.lyricsFragment, row.text))"
   ]
  },
  {
   "cell_type": "markdown",
   "metadata": {},
   "source": [
    "## Which are the annotations related to these fragments and what do they say?"
   ]
  },
  {
   "cell_type": "code",
   "execution_count": 8,
   "metadata": {},
   "outputs": [
    {
     "name": "stdout",
     "output_type": "stream",
     "text": [
      "Annotation: https://raw.githubusercontent.com/tommasobattisti/MuCH-O/main/ontology/mucho.owl#annotation_0 \n",
      " Text: He wants from the significant other not to let him go.\n",
      "\n",
      "Lips being sealed can be interpreted in two ways: one, they should be always ‘that’ close and two, they should never utter a word to anybody about each other.\n",
      "In 1984, they have to ‘keep their lips sealed’ i.e. keep their romance a secret, as love is considered a crime in the novel’s world. If the government found out about them, they would be punished, as specified in the verses. \n",
      "\n",
      "\n",
      "Annotation: https://raw.githubusercontent.com/tommasobattisti/MuCH-O/main/ontology/mucho.owl#annotation_1 \n",
      " Text: Metaphorically, it’s at night when we are safe, when we can do secret things. When the night ends, everybody can see us, so “we can’t pretend”. The only thing we can do is to run, and think that someone or something will save us.\n",
      "\n",
      "As this song and the whole album are influenced by 1984, we all know (spoiler alert!) that although they run and ask to be saved, they won’t be protected from harm. \n",
      "\n",
      "\n",
      "Annotation: https://raw.githubusercontent.com/tommasobattisti/MuCH-O/main/ontology/mucho.owl#annotation_2 \n",
      " Text: In Orwell’s 1984, Winston and Julia cannot show any public signs of their relationship lest it be discovered by the Party; even a stray smile from Julia in public could lead to discovery and torture at the hands of the Party. \n",
      "\n",
      "\n",
      "Annotation: https://raw.githubusercontent.com/tommasobattisti/MuCH-O/main/ontology/mucho.owl#annotation_3 \n",
      " Text: Winston and Julia are surely going to be arrested by the Ministry of Love for their secret love. They are bound to be broken apart. They cannot have a romantic relationship in the world of “1984”, where love is a crime, like we who live in a normal world and expect love to last forever. Any evidence of Winston and Julia meeting in secret and having a love affair must be concealed or erased. \n",
      "\n",
      "\n",
      "Annotation: https://raw.githubusercontent.com/tommasobattisti/MuCH-O/main/ontology/mucho.owl#annotation_4 \n",
      " Text: George Orwell’s 1984 contains a secret police known as the ‘Thought Police’ whose job was to prevent ‘thinkcrime’, more commonly ‘thoughtcrime’, which was simply any thought or action the totalitarian English Socialism, more commonly ‘Ingsoc’, Party did not approve of, such of love or political interest. Orwell described your only free space as “the few cubic inches inside your skull”, which is the only place what one would consider ‘the truth’ could be hidden. In this case, and throughout the album, Bellamy compares life in today’s capitalist world as very similar to Orwell’s dystopian Oceania, Eastasia or of course, Eurasia.\n",
      "\n",
      "It’s important to notice that Bellamy isn’t an outright anti-capitalist (he defined himself as a left-leaning libertarian), although The Resistance as an album undoubtedly has themes against the wealthy and the privileged.\n",
      "\n",
      "\n",
      "\n",
      "In addition, in a clever wordplay Bellamy mentions here three of the orwellian ministries: Love, Peace and Truth. \n",
      "\n",
      "\n",
      "Annotation: https://raw.githubusercontent.com/tommasobattisti/MuCH-O/main/ontology/mucho.owl#annotation_7 \n",
      " Text: It should have been okay for us to fall in love, but it’s too dangerous in the oppressive world we live in. In 1984, passion and love are considered forms of censored thought that would have been punished. They should have the freedom to love each other, but they do not. \n",
      "\n",
      "\n",
      "Annotation: https://raw.githubusercontent.com/tommasobattisti/MuCH-O/main/ontology/mucho.owl#annotation_8 \n",
      " Text: If a ceiling, roof or other structure caves in, it breaks and falls into the space below.\n",
      "This is just figuratively implying their worries that their hiding place may be exposed and they may get arrested for romantic love, which is a crime in the world of “1984”. \n",
      "\n",
      "\n",
      "Annotation: https://raw.githubusercontent.com/tommasobattisti/MuCH-O/main/ontology/mucho.owl#annotation_9 \n",
      " Text: In 1984, Winston and Julia have a secret rendezvous in a rented room of an antique shop, where there are no “telescreens” for surveillance such that their secret love affair may be hidden from the authorities. They live in fear that the Party may find out about their love and have them punished. \n",
      "\n",
      "\n"
     ]
    }
   ],
   "source": [
    "q3 = \"\"\"\n",
    "        PREFIX mucho: <https://raw.githubusercontent.com/tommasobattisti/MuCH-O/main/ontology/mucho.owl#>\n",
    "        PREFIX core: <https://w3id.org/polifonia/ontology/core/>\n",
    "        PREFIX prov: <http://www.w3.org/ns/prov#>\n",
    "\n",
    "        SELECT ?annotation ?text\n",
    "        WHERE {\n",
    "            <https://musicbrainz.org/recording/09595161-717b-4ec5-94d1-9040aab8aae4> mucho:qualifiedReference ?reference .\n",
    "            ?reference prov:entity <https://www.wikidata.org/wiki/Q208460> ;\n",
    "                        mucho:hasInformationSource ?annotation .\n",
    "            ?annotation core:text ?text .\n",
    "            \n",
    "        }\n",
    "    \"\"\"\n",
    "\n",
    "res = mucho_gustore.query(q3)\n",
    "for row in res:\n",
    "    print(\"Annotation: %s \\n Text: %s \\n\\n\" %(row.annotation, row.text))"
   ]
  },
  {
   "cell_type": "markdown",
   "metadata": {},
   "source": [
    "Which entity/ies are mentioned by the lyrics? -> therefore which entity/ies the song explicitely refers to?\n",
    "Which entity/ies are mentioned in the comments/interpretations? -> therefore which entity/ies the song implicitely refers to?\n",
    "Which lyrics fragment refers to which entity/ies?\n",
    "Which comments/interpretations fragment refers to which entity/ies?\n",
    "Which entity/ies are mentioned in the comments/interpretations and are not mentioned in the lyrics and vice versa?\n",
    "Which entity/ies are inderectly related to the song (related to entities related to the song)?\n",
    "What kind of relation exists between the entities related to the song and the entities related to the first entities?"
   ]
  }
 ],
 "metadata": {
  "kernelspec": {
   "display_name": "Python 3",
   "language": "python",
   "name": "python3"
  },
  "language_info": {
   "codemirror_mode": {
    "name": "ipython",
    "version": 3
   },
   "file_extension": ".py",
   "mimetype": "text/x-python",
   "name": "python",
   "nbconvert_exporter": "python",
   "pygments_lexer": "ipython3",
   "version": "3.10.0"
  },
  "orig_nbformat": 4
 },
 "nbformat": 4,
 "nbformat_minor": 2
}
