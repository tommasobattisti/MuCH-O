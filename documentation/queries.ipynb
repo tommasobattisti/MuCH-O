{
 "cells": [
  {
   "cell_type": "markdown",
   "metadata": {},
   "source": [
    "Which entity/ies are related to the song?\n",
    "Which entity/ies are mentioned by the lyrics? -> therefore which entity/ies the song explicitely refers to?\n",
    "Which entity/ies are mentioned in the comments/interpretations? -> therefore which entity/ies the song implicitely refers to?\n",
    "Which lyrics fragment refers to which entity/ies?\n",
    "Which comments/interpretations fragment refers to which entity/ies?\n",
    "Which entity/ies are mentioned in the comments/interpretations and are not mentioned in the lyrics and vice versa?\n",
    "Which entity/ies are inderectly related to the song (related to entities related to the song)?\n",
    "What kind of relation exists between the entities related to the song and the entities related to the first entities?"
   ]
  },
  {
   "cell_type": "code",
   "execution_count": 1,
   "metadata": {},
   "outputs": [],
   "source": [
    "from rdflib import *"
   ]
  },
  {
   "cell_type": "code",
   "execution_count": 2,
   "metadata": {},
   "outputs": [
    {
     "data": {
      "text/plain": [
       "<Graph identifier=Ndc9cac66f7fd48a9938d95ef28eef1bc (<class 'rdflib.graph.Graph'>)>"
      ]
     },
     "execution_count": 2,
     "metadata": {},
     "output_type": "execute_result"
    }
   ],
   "source": [
    "mucho_gustore = Graph()\n",
    "mucho_gustore.parse(\"https://raw.githubusercontent.com/tommasobattisti/MuCH-O/main/documentation/kg.ttl\", format=\"turtle\")"
   ]
  },
  {
   "cell_type": "markdown",
   "metadata": {},
   "source": [
    "## 01. Which entity/ies are referenced by the song?"
   ]
  },
  {
   "cell_type": "code",
   "execution_count": 10,
   "metadata": {},
   "outputs": [],
   "source": [
    "q1 = \"\"\"\n",
    "        PREFIX mucho: <https://raw.githubusercontent.com/tommasobattisti/MuCH-O/main/ontology/mucho.owl#>\n",
    "        PREFIX core: <https://w3id.org/polifonia/ontology/core/>\n",
    "        PREFIX music_meta: <https://w3id.org/polifonia/ontology/music-meta/>\n",
    "        PREFIX prov: <http://www.w3.org/ns/prov#>\n",
    "\n",
    "        SELECT ?entity ?type ?name\n",
    "        WHERE {\n",
    "            <https://musicbrainz.org/recording/09595161-717b-4ec5-94d1-9040aab8aae4> mucho:references ?entity .\n",
    "            ?entity a ?type .\n",
    "            ?entity core:name ?name .\n",
    "        }\n",
    "    \"\"\""
   ]
  },
  {
   "cell_type": "code",
   "execution_count": 11,
   "metadata": {},
   "outputs": [],
   "source": [
    "results = mucho_gustore.query(q1)\n",
    "for row in results:\n",
    "    print(\"Entity: %s \\n Type: %s \\n Name: %s \\n\" %(row.entity, row.type, row.name))"
   ]
  },
  {
   "cell_type": "code",
   "execution_count": null,
   "metadata": {},
   "outputs": [],
   "source": []
  }
 ],
 "metadata": {
  "kernelspec": {
   "display_name": "Python 3",
   "language": "python",
   "name": "python3"
  },
  "language_info": {
   "codemirror_mode": {
    "name": "ipython",
    "version": 3
   },
   "file_extension": ".py",
   "mimetype": "text/x-python",
   "name": "python",
   "nbconvert_exporter": "python",
   "pygments_lexer": "ipython3",
   "version": "3.10.0"
  },
  "orig_nbformat": 4
 },
 "nbformat": 4,
 "nbformat_minor": 2
}
